{
  "nbformat": 4,
  "nbformat_minor": 0,
  "metadata": {
    "anaconda-cloud": {},
    "kernelspec": {
      "display_name": "Python 3",
      "language": "python",
      "name": "python3"
    },
    "language_info": {
      "codemirror_mode": {
        "name": "ipython",
        "version": 3
      },
      "file_extension": ".py",
      "mimetype": "text/x-python",
      "name": "python",
      "nbconvert_exporter": "python",
      "pygments_lexer": "ipython3",
      "version": "3.8.3-final"
    },
    "colab": {
      "name": "Lab 1 - First order methods on regression models.ipynb",
      "provenance": [],
      "collapsed_sections": []
    }
  },
  "cells": [
    {
      "cell_type": "markdown",
      "metadata": {
        "id": "sV3xq1Nfmx5j"
      },
      "source": [
        ""
      ]
    },
    {
      "cell_type": "markdown",
      "metadata": {
        "id": "qR6xXItEmx5k"
      },
      "source": [
        "# Lab 1 : First order methods on regression models\n",
        "\n",
        "#### Authors: A. Gramfort, R. Gower, P. Ablin, M. Massias, Q. Bertrand, N. Gazagnadou\n",
        "\n",
        "## Aim\n",
        "\n",
        "The aim of this material is to code \n",
        "- proximal gradient descent (PGD)\n",
        "- accelerated proximal gradient descent (APGD)    (Note: Also called FISTA in the lecture slides!)\n",
        "\n",
        "for \n",
        "- linear regression\n",
        "- logistic regression \n",
        "\n",
        "models.\n",
        "\n",
        "The proximal operators we will use are the \n",
        "- L2 penalization\n",
        "- L1 penalization\n",
        "\n",
        "## VERY IMPORTANT\n",
        "\n",
        "- This work **must be done by pairs of students**.\n",
        "- Since many students are not currently registered on moodle, we are still choosing how you will submit the final notebook. We will e-mail you before **1st of  October** on how to submit the final notebook.\n",
        "- Deadline for submission is the **4th of october at 21:59**\n",
        "- This means that **each student in the pair sends the same file**\n",
        "- The **name of the file must be** constructed as in the next cell\n",
        "\n",
        "# Gentle reminder: no evaluation if you don't respect this EXACTLY\n",
        "\n",
        "### How to construct the name of your file"
      ]
    },
    {
      "cell_type": "code",
      "metadata": {
        "tags": [],
        "id": "OFqqr0vMmx5m",
        "colab": {
          "base_uri": "https://localhost:8080/",
          "height": 34
        },
        "outputId": "3fa87e7d-1a65-4528-f6ba-dfcd2ff2a3a8"
      },
      "source": [
        "# Change here using YOUR first and last names\n",
        "fn1 = \"bastien\"\n",
        "ln1 = \"billiot\"\n",
        "fn2 = \"simon\"\n",
        "ln2 = \"demouchy\"\n",
        "\n",
        "filename = \"_\".join(map(lambda s: s.strip().lower(), \n",
        "                        [\"lab1\", ln1, fn1, \"and\", ln2, fn2])) + \".ipynb\"\n",
        "print(filename)"
      ],
      "execution_count": null,
      "outputs": [
        {
          "output_type": "stream",
          "text": [
            "lab1_billiot_bastien_and_demouchy_simon.ipynb\n"
          ],
          "name": "stdout"
        }
      ]
    },
    {
      "cell_type": "code",
      "metadata": {
        "id": "N3m4eIGCmx5v"
      },
      "source": [
        "## to embed figures in the notebook\n",
        "%matplotlib inline"
      ],
      "execution_count": null,
      "outputs": []
    },
    {
      "cell_type": "markdown",
      "metadata": {
        "id": "zCujF9i5mx50"
      },
      "source": [
        "## Part 0 : Introduction\n",
        "\n",
        "We'll start by generating sparse vectors and simulating data\n",
        "\n",
        "### Generating sparse coefficients"
      ]
    },
    {
      "cell_type": "code",
      "metadata": {
        "id": "s1Hau76_mx51"
      },
      "source": [
        "import numpy as np\n",
        "import matplotlib.pyplot as plt\n",
        "from numpy.linalg import norm\n",
        "np.set_printoptions(precision=2)  # to have simpler print outputs with numpy"
      ],
      "execution_count": null,
      "outputs": []
    },
    {
      "cell_type": "code",
      "metadata": {
        "scrolled": false,
        "id": "JEKiLVjZmx58",
        "colab": {
          "base_uri": "https://localhost:8080/",
          "height": 352
        },
        "outputId": "e908c874-e671-473b-ec81-bd1534347401"
      },
      "source": [
        "n_features = 50\n",
        "n_samples = 1000\n",
        "idx = np.arange(n_features)\n",
        "coefs = ((-1) ** idx) * np.exp(-idx / 10.)\n",
        "coefs[20:] = 0.\n",
        "plt.stem(coefs)\n",
        "plt.title(\"Parameters / Coefficients\")"
      ],
      "execution_count": null,
      "outputs": [
        {
          "output_type": "stream",
          "text": [
            "/usr/local/lib/python3.6/dist-packages/ipykernel_launcher.py:6: UserWarning: In Matplotlib 3.3 individual lines on a stem plot will be added as a LineCollection instead of individual lines. This significantly improves the performance of a stem plot. To remove this warning and switch to the new behaviour, set the \"use_line_collection\" keyword argument to True.\n",
            "  \n"
          ],
          "name": "stderr"
        },
        {
          "output_type": "execute_result",
          "data": {
            "text/plain": [
              "Text(0.5, 1.0, 'Parameters / Coefficients')"
            ]
          },
          "metadata": {
            "tags": []
          },
          "execution_count": 2
        },
        {
          "output_type": "display_data",
          "data": {
            "image/png": "[encoded data removed]",
            "text/plain": [
              "<Figure size 432x288 with 1 Axes>"
            ]
          },
          "metadata": {
            "tags": [],
            "needs_background": "light"
          }
        }
      ]
    },
    {
      "cell_type": "markdown",
      "metadata": {
        "id": "XwOyU5k0mx6C"
      },
      "source": [
        "### Functions for the simulation of the models"
      ]
    },
    {
      "cell_type": "code",
      "metadata": {
        "id": "AtHBkOOwmx6D"
      },
      "source": [
        "from numpy.random import multivariate_normal\n",
        "import scipy\n",
        "from scipy.linalg.special_matrices import toeplitz\n",
        "from numpy.random import randn\n",
        "\n",
        "\n",
        "def simu_linreg(coefs, n_samples=1000, corr=0.5):\n",
        "    \"\"\"Simulation of a linear regression model\n",
        "    \n",
        "    Parameters\n",
        "    ----------\n",
        "    coefs : `numpy.array`, shape (n_features,)\n",
        "        Coefficients of the model\n",
        "    \n",
        "    n_samples : `int`, default=1000\n",
        "        Number of samples to simulate\n",
        "    \n",
        "    corr : `float`, default=0.5\n",
        "        Correlation of the features\n",
        "\n",
        "    Returns\n",
        "    -------\n",
        "    A : `numpy.ndarray`, shape (n_samples, n_features)\n",
        "        Simulated features matrix. It samples of a centered Gaussian \n",
        "        vector with covariance given by the Toeplitz matrix\n",
        "    \n",
        "    b : `numpy.array`, shape (n_samples,)\n",
        "        Simulated labels\n",
        "    \"\"\"\n",
        "    # Construction of a covariance matrix\n",
        "    cov = toeplitz(corr ** np.arange(0, n_features))\n",
        "    # Simulation of features\n",
        "    A = multivariate_normal(np.zeros(n_features), cov, size=n_samples)\n",
        "    # Simulation of the labels\n",
        "    b = A.dot(coefs) + randn(n_samples)\n",
        "    return A, b\n",
        "\n",
        "def sigmoid(t):\n",
        "    \"\"\"Sigmoid function\"\"\"\n",
        "    return 1. / (1. + np.exp(-t))\n",
        "\n",
        "def simu_logreg(coefs, n_samples=1000, corr=0.5):\n",
        "    \"\"\"Simulation of a logistic regression model\n",
        "    \n",
        "    Parameters\n",
        "    ----------\n",
        "    coefs : `numpy.array`, shape (n_features,)\n",
        "        Coefficients of the model\n",
        "    \n",
        "    n_samples : `int`, default=1000\n",
        "        Number of samples to simulate\n",
        "    \n",
        "    corr : `float`, default=0.5\n",
        "        Correlation of the features\n",
        "\n",
        "    Returns\n",
        "    -------\n",
        "    A : `numpy.ndarray`, shape (n_samples, n_features)\n",
        "        Simulated features matrix. It samples of a centered Gaussian \n",
        "        vector with covariance given by the Toeplitz matrix\n",
        "    \n",
        "    b : `numpy.array`, shape (n_samples,)\n",
        "        Simulated labels\n",
        "    \"\"\"\n",
        "    cov = toeplitz(corr ** np.arange(0, n_features))\n",
        "    A = multivariate_normal(np.zeros(n_features), cov, size=n_samples)\n",
        "    p = sigmoid(A.dot(coefs))\n",
        "    b = np.random.binomial(1, p, size=n_samples)\n",
        "    b = 2 * b - 1\n",
        "    return A, b"
      ],
      "execution_count": null,
      "outputs": []
    },
    {
      "cell_type": "markdown",
      "metadata": {
        "id": "10j5HSFCmx6I"
      },
      "source": [
        "## Generate the data"
      ]
    },
    {
      "cell_type": "code",
      "metadata": {
        "id": "z0xrw8-0mx6K"
      },
      "source": [
        "A, b = simu_linreg(coefs);\n",
        "# A, b = simu_logreg(coefs);  # uncomment when you want to test logistic regression"
      ],
      "execution_count": null,
      "outputs": []
    },
    {
      "cell_type": "markdown",
      "metadata": {
        "id": "uLfkyFE_mx6P"
      },
      "source": [
        "## Part 1 : Proximal operators"
      ]
    },
    {
      "cell_type": "markdown",
      "metadata": {
        "id": "7Z6ARr74mx6Q"
      },
      "source": [
        "We remind that the proximal operator of a function $R$ is given by:\n",
        "\n",
        "$$\n",
        "\\text{prox}_{\\lambda\\,R}(x) = \\arg\\min_z \\left\\{ \\frac{1}{2} \\Vert x - z\\Vert_2^2 + \\lambda \\,R(z) \\right\\}.\n",
        "$$\n",
        "\n",
        "\n",
        "We have in mind to use the following cases\n",
        "\n",
        "- L2 penalization: $\\lambda\\, R(z) = \\frac{\\lambda}{2} \\|z\\|_2^2$\n",
        "- L1 penalization: $\\lambda\\, R(z) = \\lambda\\|z|\\|_1$\n",
        "\n",
        "where $\\lambda \\geq 0$ is a regularization parameter."
      ]
    },
    {
      "cell_type": "markdown",
      "metadata": {
        "id": "HUnP8y7smx6R"
      },
      "source": [
        "<div class=\"alert alert-success\">\n",
        "    <b>Questions</b>:\n",
        "     <ul>\n",
        "      <li>Code a function that computes $\\lambda \\, R(x)$ in both cases and $\\text{prox}_{\\lambda\\, R}(x)$ for L2 and  L1 penalization (use the slides of the first course to get the formulas), using the prototypes given below</li>\n",
        "     <li>Hint: for the prox of the L1 norm you can either use the formula from the course (using separability) or find a smart way to rewrite it in one line with np.max and np.sign functions\n",
        "    </li>\n",
        "      <li>Visualize the identity function and the proximity operators of the L2 and L1 on the real axis\n",
        "    </li>\n",
        "    </ul>\n",
        "</div>"
      ]
    },
    {
      "cell_type": "code",
      "metadata": {
        "id": "BUXBwKKtmx6S"
      },
      "source": [
        "def prox_L1(x, lmbd):\n",
        "    \"\"\"Proximal operator for the L1 at x\"\"\"\n",
        "    z = np.sign(x) * np.maximum(np.abs(x) - lmbd, 0)  # TODO\n",
        "    return z\n",
        "\n",
        "def L1_pen(x, lmbd):\n",
        "    \"\"\"Value of the L1 penalization at x\"\"\"\n",
        "    return lmbd * np.sum(np.abs(x)) # TODO\n",
        "\n",
        "def prox_L2(x, lmbd):\n",
        "    \"\"\"Proximal operator for the L2 at x\"\"\"\n",
        "    z = (1/(1+lmbd)) * np.array(x) #TODO\n",
        "    return z\n",
        "\n",
        "def L2_pen(x, lmbd):\n",
        "    \"\"\"Value of the L2 penalization at x\"\"\"\n",
        "    return 0.5* lmbd * np.sum(np.array(x)**2) #TODO"
      ],
      "execution_count": null,
      "outputs": []
    },
    {
      "cell_type": "code",
      "metadata": {
        "id": "poCLiXD9mx6W",
        "colab": {
          "base_uri": "https://localhost:8080/",
          "height": 265
        },
        "outputId": "fad20716-bc06-4bef-ffc1-c58f51411150"
      },
      "source": [
        "# Plots TODO\n",
        "import numpy as np\n",
        "import matplotlib.pyplot as plt\n",
        "lmbd = 0.5\n",
        "X = np.linspace(-5,5,num = 10)\n",
        "plt.plot(X,X,label='identity')\n",
        "plt.plot(prox_L1(X, lmbd),label='prox L1')\n",
        "plt.plot(prox_L2(X, lmbd),label='prox L2')\n",
        "plt.legend()\n",
        "plt.show()"
      ],
      "execution_count": null,
      "outputs": [
        {
          "output_type": "display_data",
          "data": {
            "image/png": "[encoded data removed]",
            "text/plain": [
              "<Figure size 432x288 with 1 Axes>"
            ]
          },
          "metadata": {
            "tags": [],
            "needs_background": "light"
          }
        }
      ]
    },
    {
      "cell_type": "markdown",
      "metadata": {
        "id": "Pirp8C__mx6a"
      },
      "source": [
        "## Visualization\n",
        "\n",
        "We are now going to visualize the effect of the proximity operators on coefficients."
      ]
    },
    {
      "cell_type": "code",
      "metadata": {
        "scrolled": false,
        "id": "p1wxavlxmx6b",
        "colab": {
          "base_uri": "https://localhost:8080/",
          "height": 422
        },
        "outputId": "9bbde12c-d364-44a1-e735-8bca1ea84ad4"
      },
      "source": [
        "from numpy.random import randn\n",
        "x = randn(50)\n",
        "l_l1 = 1.\n",
        "l_l2 = 0.5\n",
        "\n",
        "plt.figure(figsize=(15.0, 4.0))\n",
        "plt.subplot(1, 3, 1)\n",
        "plt.stem(x)\n",
        "plt.title(\"Original parameter\", fontsize=16)\n",
        "plt.ylim([-2, 2])\n",
        "plt.subplot(1, 3, 2)\n",
        "plt.stem(prox_L1(x, lmbd=l_l1))\n",
        "plt.title(\"Proximal L1\", fontsize=16)\n",
        "plt.ylim([-2, 2])\n",
        "plt.subplot(1, 3, 3)\n",
        "plt.stem(prox_L2(x, lmbd=l_l2))\n",
        "plt.title(\"Proximal L2\", fontsize=16)\n",
        "plt.ylim([-2, 2])"
      ],
      "execution_count": null,
      "outputs": [
        {
          "output_type": "stream",
          "text": [
            "/usr/local/lib/python3.6/dist-packages/ipykernel_launcher.py:8: UserWarning: In Matplotlib 3.3 individual lines on a stem plot will be added as a LineCollection instead of individual lines. This significantly improves the performance of a stem plot. To remove this warning and switch to the new behaviour, set the \"use_line_collection\" keyword argument to True.\n",
            "  \n",
            "/usr/local/lib/python3.6/dist-packages/ipykernel_launcher.py:12: UserWarning: In Matplotlib 3.3 individual lines on a stem plot will be added as a LineCollection instead of individual lines. This significantly improves the performance of a stem plot. To remove this warning and switch to the new behaviour, set the \"use_line_collection\" keyword argument to True.\n",
            "  if sys.path[0] == '':\n",
            "/usr/local/lib/python3.6/dist-packages/ipykernel_launcher.py:16: UserWarning: In Matplotlib 3.3 individual lines on a stem plot will be added as a LineCollection instead of individual lines. This significantly improves the performance of a stem plot. To remove this warning and switch to the new behaviour, set the \"use_line_collection\" keyword argument to True.\n",
            "  app.launch_new_instance()\n"
          ],
          "name": "stderr"
        },
        {
          "output_type": "execute_result",
          "data": {
            "text/plain": [
              "(-2.0, 2.0)"
            ]
          },
          "metadata": {
            "tags": []
          },
          "execution_count": 10
        },
        {
          "output_type": "display_data",
          "data": {
            "image/png": "[encoded data removed]",
            "text/plain": [
              "<Figure size 1080x288 with 3 Axes>"
            ]
          },
          "metadata": {
            "tags": [],
            "needs_background": "light"
          }
        }
      ]
    },
    {
      "cell_type": "markdown",
      "metadata": {
        "id": "i4Y3yaW_mx6g"
      },
      "source": [
        "<div class=\"alert alert-success\">\n",
        "    <b>Question</b>:\n",
        "     <ul>\n",
        "      <li>Comment what you observe (1 or 2 sentences).</li>\n",
        "    </ul>\n",
        "</div>"
      ]
    },
    {
      "cell_type": "markdown",
      "metadata": {
        "id": "Tor_G9avmx6h"
      },
      "source": [
        "Both proximal operators (associated with L1 and L2 norm) allows a shrinkage of the parameters to focus on the most relevant ones (as they are regularisators). We observe that the shrinkage of the proximal operator associated with the L1 penalization sets some coefficients to zero (thus providing a feature selection) while the proximal operator associated with the L2 norm only reduces the parameters towards zero. "
      ]
    },
    {
      "cell_type": "markdown",
      "metadata": {
        "id": "cEJtwsbFmx6i"
      },
      "source": [
        "## Part 2: Gradients\n",
        "\n",
        "The problems we want to minimize take the form:\n",
        "$$\n",
        "\\arg\\min_x f(x) + \\lambda \\,R(x)\n",
        "$$\n",
        "where $f$ is $L$-smooth and $R$ is prox friendly.\n",
        "\n",
        "Consider the following cases:\n",
        "\n",
        "**Linear regression**, where \n",
        "$$\n",
        "f(x) = \\frac{1}{2n} \\sum_{i=1}^n (b_i - a_i^\\top x)^2 = \\frac{1}{2 n} \\| b - A x \\|_2^2,\n",
        "$$\n",
        "where $n$ is the sample size, $b = [b_1 \\cdots b_n]$ is the vector of labels and $A^\\top = [a_1,\\ldots, a_n] \\in \\mathbb{R}^{d \\times n}$ is the matrix of features.\n",
        "\n",
        "**Logistic regression**, where\n",
        "$$\n",
        "f(x) = \\frac{1}{n} \\sum_{i=1}^n \\log(1 + \\exp(-b_i a_i^\\top x)),\n",
        "$$\n",
        "where $n$ is the sample size, and where labels $b_i \\in \\{ -1, 1 \\}$ for all $i$.\n",
        "\n",
        "We need to be able to compute $f$ and its gradient $\\nabla f$"
      ]
    },
    {
      "cell_type": "markdown",
      "metadata": {
        "id": "PvBYxYXemx6k"
      },
      "source": [
        "<div class=\"alert alert-success\">\n",
        "    <b>Questions</b>:\n",
        "     <ul>\n",
        "      <li>Compute on paper the gradient $\\nabla f$ of $f$ for both cases (linear and logistic regression)</li>\n",
        "      <li>Code a function that computes $f$ and its gradient $\\nabla f$ in both cases, using the prototypes below.</li>\n",
        "      <li>Check that these loss functions are correct by numerically checking their ouputs</li>\n",
        "      <li>Check that these functions are correct by numerically checking the gradient, using the function ``<a href=\"https://docs.scipy.org/doc/scipy/reference/generated/scipy.optimize.check_grad.html\">check_grad</a>`` from ``scipy.optimize``. Remark: use the functions `simu_linreg` and `simu_logreg` to simulate data according to the right model</li>\n",
        "    </ul>\n",
        "</div>"
      ]
    },
    {
      "cell_type": "code",
      "metadata": {
        "id": "tRBE349jFC7a",
        "colab": {
          "base_uri": "https://localhost:8080/"
        },
        "outputId": "270b04b2-87ba-47d1-bda9-40f71a0cb5a5"
      },
      "source": [
        "A_linreg, b_linreg = simu_linreg(coefs)\n",
        "A_logreg, b_logreg= simu_logreg(coefs)\n",
        "print(A_linreg.shape)\n",
        "print(A_linreg[1].shape)\n",
        "print(b_linreg.shape)"
      ],
      "execution_count": null,
      "outputs": [
        {
          "output_type": "stream",
          "text": [
            "(1000, 50)\n",
            "(50,)\n",
            "(1000,)\n"
          ],
          "name": "stdout"
        }
      ]
    },
    {
      "cell_type": "code",
      "metadata": {
        "id": "jfKQA24zKx4_"
      },
      "source": [
        "def f_linreg(x):\n",
        "    \"\"\"Least squares loss\"\"\"\n",
        "    s=0\n",
        "    for i in range(len(b_linreg)):\n",
        "        s+=(b_linreg[i]-np.dot(A_linreg[i],x))**2\n",
        "    return s/(2*len(b_linreg))\n",
        "\n",
        "def grad_f_linreg(x):\n",
        "    \"\"\"Least squares gradient\"\"\"\n",
        "    # TODO\n",
        "    L = []\n",
        "    for j in range(len(x)):\n",
        "      s=0\n",
        "      for i in range(len(b_linreg)):\n",
        "        s+= A_linreg[i,j] * (np.dot(A_linreg[i],x) - b_linreg[i])\n",
        "      L.append(s/len(b_linreg))\n",
        "    return np.array(L)\n",
        "\n",
        "\n",
        "def f_logreg(x):\n",
        "    \"\"\"Logistic loss\"\"\"\n",
        "    s=0\n",
        "    for i in range(len(b_logreg)):\n",
        "        s+=np.log(1+np.exp(- b_logreg[i] * np.dot(A_logreg[i],x)))\n",
        "    return s/(len(b_logreg))\n",
        "\n",
        "def grad_f_logreg(x):\n",
        "    \"\"\"Logistic gradient\"\"\"\n",
        "    L = []\n",
        "    for j in range(len(x)):\n",
        "      s=0\n",
        "      for i in range(len(b_logreg)):\n",
        "        s+= (- b_logreg[i] * A_logreg[i,j] * np.exp(- b_logreg[i] * np.dot(A_logreg[i],x))) / (1+np.exp(- b_logreg[i] * np.dot(A_logreg[i],x)))\n",
        "      L.append(s/len(b_logreg))\n",
        "    return np.array(L)"
      ],
      "execution_count": null,
      "outputs": []
    },
    {
      "cell_type": "code",
      "metadata": {
        "id": "MBrhCvddLRLj",
        "colab": {
          "base_uri": "https://localhost:8080/"
        },
        "outputId": "6f918ba1-268c-4730-ac05-bd6df4a11e51"
      },
      "source": [
        "import scipy.optimize\n",
        "from scipy.optimize import check_grad\n",
        "print(check_grad(f_linreg,grad_f_linreg,b[:50]))\n",
        "print(check_grad(f_logreg,grad_f_logreg,b[:50]))"
      ],
      "execution_count": null,
      "outputs": [
        {
          "output_type": "stream",
          "text": [
            "2.2467374761216895e-05\n",
            "2.0908577113226033e-06\n"
          ],
          "name": "stdout"
        }
      ]
    },
    {
      "cell_type": "markdown",
      "metadata": {
        "id": "39kEkNOmmx6q"
      },
      "source": [
        "## Part 3: Solvers"
      ]
    },
    {
      "cell_type": "markdown",
      "metadata": {
        "id": "UKFwUKEemx6q"
      },
      "source": [
        "We know have a function to compute $f$, $\\nabla f$ and $R$ and $\\text{prox}_{\\lambda R}$. \n",
        "\n",
        "We want now to code the PGD and APGD solvers to minimize\n",
        "\n",
        "$$\n",
        "\\arg\\min_x f(x) + \\lambda \\, R(x)\n",
        "$$\n",
        "\n",
        "where $\\lambda >0$ is the regularization parameter"
      ]
    },
    {
      "cell_type": "markdown",
      "metadata": {
        "id": "KKZydQCqmx6r"
      },
      "source": [
        "<div class=\"alert alert-success\">\n",
        "    <b>Questions</b>:\n",
        "     <ul>\n",
        "      <li>Compute on paper the Lipschitz constant for linear and logistic regression losses. Remark: for the logistic regression, you should try to upper bound the second derivative</li>\n",
        "      <li>Hint: the computation of the Lipschitz constant for the linear regression should be easy (cf course).\n",
        "         But the computation of the Lipschitz constant for the logistic regression may be trickier. \n",
        "                 You may want to write $f$ as $f(x) = \\frac{1}{n} \\sum_i \\phi(b_i a_i^\\top x)$, and then show that $|\\phi''| \\leq \\frac{1}{4}$.</li>\n",
        "      <li>Implement functions that compute the Lipschitz constant for both cases (linear and logistic regression). Note that the operator norm of a matrix can \n",
        "  be computed using the function <a href=\"https://docs.scipy.org/doc/numpy/reference/generated/numpy.linalg.norm.html\">numpy.linalg.norm</a> (Be careful with the norm you chose! Read the documentation\n",
        "  of the function)</li>\n",
        "      <li>Finish the functions `PGD` and `APGD` below that implements the \n",
        "  PGD (Proximal Gradient Descent) and APGD (Accelerated Proximal \n",
        "  Gradient Descent) algorithms.\n",
        "       Note: PGD is sometimes called ISTA (Iterative Soft Thresholding Algorithm) and APGD is sometimes called FISTA (Fast ISTA)</li> \n",
        "    </ul>\n",
        "</div>"
      ]
    },
    {
      "cell_type": "code",
      "metadata": {
        "id": "nkGYuj-vmx6s"
      },
      "source": [
        "# TO BE COMPLETED\n",
        "\n",
        "from scipy.linalg import svd\n",
        "\n",
        "# Calculate the smoothness constant for least squares loss\n",
        "def smoothness_const_linreg(A):\n",
        "    \"\"\"Lipschitz constant for least squares loss\"\"\"    \n",
        "    # TODO\n",
        "    return np.max(svd(A, full_matrices=False)[1]) ** 2 / A.shape[0] \n",
        "\n",
        "# Calculate the smoothness constant for logistic loss    \n",
        "def smoothness_const_logreg(A):\n",
        "    \"\"\"Lipschitz constant for logistic loss\"\"\"    \n",
        "    # TODO\n",
        "    s = 0\n",
        "    for i in range(A.shape[0]):\n",
        "      s+= b_logreg[i]**2 * np.sum(A[i] * A[i])\n",
        "    return s/A_logreg.shape[0]\n",
        "        \n",
        "def PGD(x0, f, grad_f, R, prox_R, step, lmbd=0., n_iter=50, x_true=coefs, verbose=True):\n",
        "    \"\"\"Proximal gradient descent algorithm\"\"\"\n",
        "    x = x0.copy()\n",
        "    x_new = x0.copy()\n",
        "    n_samples, n_features = A.shape\n",
        "\n",
        "    if step is None:\n",
        "        L = smoothness_const_linreg(A)\n",
        "        step = 1./L\n",
        "\n",
        "    # estimation error history\n",
        "    errors = []\n",
        "    # objective history\n",
        "    objectives = []\n",
        "    # Current estimation error\n",
        "    err = norm(x - x_true) / norm(x_true)\n",
        "    errors.append(err)\n",
        "    # Current objective\n",
        "    obj = f(x) + R(x, lmbd)\n",
        "    objectives.append(obj)\n",
        "    if verbose:\n",
        "        print(\"Lauching PGD solver...\")\n",
        "        print(' | '.join([name.center(8) for name in [\"it\", \"obj\", \"err\"]]))\n",
        "    for k in range(n_iter + 1):\n",
        "\n",
        "        #### TODO ####\n",
        "        ### Code the update x= x + ???\n",
        "        x_new[:] = prox_R(x - step * grad_f(x), step)\n",
        "        x[:] = x_new\n",
        "\n",
        "        ##############\n",
        "        obj = f(x) + R(x, lmbd)\n",
        "        err = norm(x - x_true) / norm(x_true)\n",
        "        errors.append(err)\n",
        "        objectives.append(obj)\n",
        "        if k % 10 == 0 and verbose:\n",
        "            print(' | '.join([(\"%d\" % k).rjust(8), \n",
        "                              (\"%.2e\" % obj).rjust(8), \n",
        "                              (\"%.2e\" % err).rjust(8)]))\n",
        "    return x, objectives, errors"
      ],
      "execution_count": null,
      "outputs": []
    },
    {
      "cell_type": "code",
      "metadata": {
        "id": "XQ3N3wMkmx6w"
      },
      "source": [
        "# TO BE COMPLETED\n",
        "\"\"\" Also called FISTA in the lecture slides \"\"\"\n",
        "def APGD(x0, f, grad_f, R, prox_R, step, lmbd=0., n_iter=50,\n",
        "         x_true=coefs, verbose=True):\n",
        "    \"\"\"Accelerated Proximal gradient descent algorithm\"\"\"\n",
        "    x = x0.copy()\n",
        "    x_new = x0.copy()\n",
        "    # An extra variable is required for APGD\n",
        "    beta = 1.\n",
        "    beta_new = 1. \n",
        "    z = x0.copy()\n",
        "    n_samples, n_features = A.shape\n",
        "\n",
        "    if step is None:\n",
        "        L = smoothness_const_linreg(A)\n",
        "        step = 1./L\n",
        "    # estimation error history\n",
        "    errors = []\n",
        "    # objective history\n",
        "    objectives = []\n",
        "    # Current estimation error\n",
        "    err = norm(x - x_true) / norm(x_true)\n",
        "    errors.append(err)\n",
        "    # Current objective\n",
        "    obj = f(x) + R(x, lmbd)\n",
        "    objectives.append(obj)   \n",
        "    if verbose:\n",
        "        print(\"Lauching APGD solver...\")\n",
        "        print(' | '.join([name.center(8) for name in [\"it\", \"obj\", \"err\"]]))\n",
        "    for k in range(n_iter + 1):\n",
        "\n",
        "        #### TODO ####\n",
        "        ### Code the update of the iterates x and z\n",
        "        #################\n",
        "        x_new[:] = prox_R(z - step * grad_f(z), step)\n",
        "        z[:] = x_new + (beta - 1) / beta_new * (x_new - x)\n",
        "        beta_new = (1. + (1. + 4. * beta * beta)) ** (0.5) / 2.\n",
        "        beta = beta_new\n",
        "        x[:] = x_new\n",
        "\n",
        "        obj = f(x) + R(x, lmbd)\n",
        "        err = norm(x - x_true) / norm(x_true)\n",
        "        errors.append(err)\n",
        "        objectives.append(obj)\n",
        "        if k % 10 == 0 and verbose:\n",
        "            print(' | '.join([(\"%d\" % k).rjust(8), \n",
        "                              (\"%.2e\" % obj).rjust(8), \n",
        "                              (\"%.2e\" % err).rjust(8)]))\n",
        "    return x, np.array(objectives), np.array(errors)"
      ],
      "execution_count": null,
      "outputs": []
    },
    {
      "cell_type": "markdown",
      "metadata": {
        "id": "2iIo7fG2mx61"
      },
      "source": [
        "## Algorithms comparison and numerical experiments"
      ]
    },
    {
      "cell_type": "code",
      "metadata": {
        "id": "KV1qQ88xL00V"
      },
      "source": [
        "prox_L1(np.ones(n_features), 2)"
      ],
      "execution_count": null,
      "outputs": []
    },
    {
      "cell_type": "code",
      "metadata": {
        "id": "jOd-HfBLmx62"
      },
      "source": [
        "# Some definitions before launching the algorithms\n",
        "x0 = np.zeros(n_features)\n",
        "n_iter = 100\n",
        "lmbd = 1e-2"
      ],
      "execution_count": null,
      "outputs": []
    },
    {
      "cell_type": "markdown",
      "metadata": {
        "id": "pS02uqhhmx66"
      },
      "source": [
        "<div class=\"alert alert-success\">\n",
        "    <b>Questions</b>:\n",
        "     <ul>\n",
        "      <li>Compute a precise minimum and a precise minimizer of the problem (linear regression or logistic regression) using the parameters given above. This can be done by using APGD with 1000 iterations and setting `x_true` to `coeffs`.</li>\n",
        "    <li>Compare the convergences of PGD and APGD, in terms of distance to the minimum and \n",
        "  distance to the minimizer you have computed. Do your plots using a logarithmic scale of the y-axis.</li>\n",
        "    </ul>\n",
        "</div>"
      ]
    },
    {
      "cell_type": "code",
      "metadata": {
        "id": "c5Herwdjmx67",
        "colab": {
          "base_uri": "https://localhost:8080/",
          "height": 578
        },
        "outputId": "6cc8fe69-1ecc-400d-83c0-83b761737e0b"
      },
      "source": [
        "APGD(x0, f = f_linreg, grad_f = grad_f_linreg, R = L1_pen, prox_R = prox_L1, step = None, lmbd= lmbd, n_iter = n_iter,\n",
        "         x_true=coefs, verbose=True)"
      ],
      "execution_count": null,
      "outputs": [
        {
          "output_type": "stream",
          "text": [
            "Lauching APGD solver...\n",
            "   it    |   obj    |   err   \n",
            "       0 | 1.54e+00 | 1.00e+00\n",
            "      10 | 1.54e+00 | 1.00e+00\n",
            "      20 | 1.54e+00 | 1.00e+00\n",
            "      30 | 1.54e+00 | 1.00e+00\n",
            "      40 | 1.54e+00 | 1.00e+00\n",
            "      50 | 1.54e+00 | 1.00e+00\n",
            "      60 | 1.54e+00 | 1.00e+00\n",
            "      70 | 1.54e+00 | 1.00e+00\n",
            "      80 | 1.54e+00 | 1.00e+00\n",
            "      90 | 1.54e+00 | 1.00e+00\n",
            "     100 | 1.54e+00 | 1.00e+00\n"
          ],
          "name": "stdout"
        },
        {
          "output_type": "execute_result",
          "data": {
            "text/plain": [
              "(array([ 0., -0.,  0., -0.,  0., -0.,  0., -0.,  0., -0.,  0., -0.,  0.,\n",
              "        -0.,  0., -0.,  0., -0., -0., -0.,  0.,  0., -0.,  0.,  0.,  0.,\n",
              "         0.,  0.,  0., -0., -0., -0., -0., -0.,  0., -0.,  0.,  0.,  0.,\n",
              "         0.,  0.,  0.,  0.,  0.,  0.,  0.,  0.,  0.,  0., -0.]),\n",
              " array([1.54, 1.54, 1.54, 1.54, 1.54, 1.54, 1.54, 1.54, 1.54, 1.54, 1.54,\n",
              "        1.54, 1.54, 1.54, 1.54, 1.54, 1.54, 1.54, 1.54, 1.54, 1.54, 1.54,\n",
              "        1.54, 1.54, 1.54, 1.54, 1.54, 1.54, 1.54, 1.54, 1.54, 1.54, 1.54,\n",
              "        1.54, 1.54, 1.54, 1.54, 1.54, 1.54, 1.54, 1.54, 1.54, 1.54, 1.54,\n",
              "        1.54, 1.54, 1.54, 1.54, 1.54, 1.54, 1.54, 1.54, 1.54, 1.54, 1.54,\n",
              "        1.54, 1.54, 1.54, 1.54, 1.54, 1.54, 1.54, 1.54, 1.54, 1.54, 1.54,\n",
              "        1.54, 1.54, 1.54, 1.54, 1.54, 1.54, 1.54, 1.54, 1.54, 1.54, 1.54,\n",
              "        1.54, 1.54, 1.54, 1.54, 1.54, 1.54, 1.54, 1.54, 1.54, 1.54, 1.54,\n",
              "        1.54, 1.54, 1.54, 1.54, 1.54, 1.54, 1.54, 1.54, 1.54, 1.54, 1.54,\n",
              "        1.54, 1.54, 1.54]),\n",
              " array([1., 1., 1., 1., 1., 1., 1., 1., 1., 1., 1., 1., 1., 1., 1., 1., 1.,\n",
              "        1., 1., 1., 1., 1., 1., 1., 1., 1., 1., 1., 1., 1., 1., 1., 1., 1.,\n",
              "        1., 1., 1., 1., 1., 1., 1., 1., 1., 1., 1., 1., 1., 1., 1., 1., 1.,\n",
              "        1., 1., 1., 1., 1., 1., 1., 1., 1., 1., 1., 1., 1., 1., 1., 1., 1.,\n",
              "        1., 1., 1., 1., 1., 1., 1., 1., 1., 1., 1., 1., 1., 1., 1., 1., 1.,\n",
              "        1., 1., 1., 1., 1., 1., 1., 1., 1., 1., 1., 1., 1., 1., 1., 1., 1.]))"
            ]
          },
          "metadata": {
            "tags": []
          },
          "execution_count": 39
        }
      ]
    },
    {
      "cell_type": "code",
      "metadata": {
        "id": "DXWD9Dqc9aFM",
        "colab": {
          "base_uri": "https://localhost:8080/",
          "height": 1000
        },
        "outputId": "3bb0b357-86d0-4efc-f084-49faae62610a"
      },
      "source": [
        "PGD(x0, f = f_linreg, grad_f = grad_f_linreg, R = L1_pen, prox_R = prox_L1, step = None, lmbd= lmbd, n_iter = n_iter,\n",
        "         x_true=coefs, verbose=True)"
      ],
      "execution_count": null,
      "outputs": [
        {
          "output_type": "stream",
          "text": [
            "Lauching PGD solver...\n",
            "   it    |   obj    |   err   \n",
            "       0 | 1.54e+00 | 1.00e+00\n",
            "      10 | 1.54e+00 | 1.00e+00\n",
            "      20 | 1.54e+00 | 1.00e+00\n",
            "      30 | 1.54e+00 | 1.00e+00\n",
            "      40 | 1.54e+00 | 1.00e+00\n",
            "      50 | 1.54e+00 | 1.00e+00\n",
            "      60 | 1.54e+00 | 1.00e+00\n",
            "      70 | 1.54e+00 | 1.00e+00\n",
            "      80 | 1.54e+00 | 1.00e+00\n",
            "      90 | 1.54e+00 | 1.00e+00\n",
            "     100 | 1.54e+00 | 1.00e+00\n"
          ],
          "name": "stdout"
        },
        {
          "output_type": "execute_result",
          "data": {
            "text/plain": [
              "(array([ 0., -0.,  0., -0.,  0., -0.,  0., -0.,  0., -0.,  0., -0.,  0.,\n",
              "        -0.,  0., -0.,  0., -0., -0., -0.,  0.,  0., -0.,  0.,  0.,  0.,\n",
              "         0.,  0.,  0., -0., -0., -0., -0., -0.,  0., -0.,  0.,  0.,  0.,\n",
              "         0.,  0.,  0.,  0.,  0.,  0.,  0.,  0.,  0.,  0., -0.]),\n",
              " [1.5392739662478694,\n",
              "  1.5392739662478694,\n",
              "  1.5392739662478694,\n",
              "  1.5392739662478694,\n",
              "  1.5392739662478694,\n",
              "  1.5392739662478694,\n",
              "  1.5392739662478694,\n",
              "  1.5392739662478694,\n",
              "  1.5392739662478694,\n",
              "  1.5392739662478694,\n",
              "  1.5392739662478694,\n",
              "  1.5392739662478694,\n",
              "  1.5392739662478694,\n",
              "  1.5392739662478694,\n",
              "  1.5392739662478694,\n",
              "  1.5392739662478694,\n",
              "  1.5392739662478694,\n",
              "  1.5392739662478694,\n",
              "  1.5392739662478694,\n",
              "  1.5392739662478694,\n",
              "  1.5392739662478694,\n",
              "  1.5392739662478694,\n",
              "  1.5392739662478694,\n",
              "  1.5392739662478694,\n",
              "  1.5392739662478694,\n",
              "  1.5392739662478694,\n",
              "  1.5392739662478694,\n",
              "  1.5392739662478694,\n",
              "  1.5392739662478694,\n",
              "  1.5392739662478694,\n",
              "  1.5392739662478694,\n",
              "  1.5392739662478694,\n",
              "  1.5392739662478694,\n",
              "  1.5392739662478694,\n",
              "  1.5392739662478694,\n",
              "  1.5392739662478694,\n",
              "  1.5392739662478694,\n",
              "  1.5392739662478694,\n",
              "  1.5392739662478694,\n",
              "  1.5392739662478694,\n",
              "  1.5392739662478694,\n",
              "  1.5392739662478694,\n",
              "  1.5392739662478694,\n",
              "  1.5392739662478694,\n",
              "  1.5392739662478694,\n",
              "  1.5392739662478694,\n",
              "  1.5392739662478694,\n",
              "  1.5392739662478694,\n",
              "  1.5392739662478694,\n",
              "  1.5392739662478694,\n",
              "  1.5392739662478694,\n",
              "  1.5392739662478694,\n",
              "  1.5392739662478694,\n",
              "  1.5392739662478694,\n",
              "  1.5392739662478694,\n",
              "  1.5392739662478694,\n",
              "  1.5392739662478694,\n",
              "  1.5392739662478694,\n",
              "  1.5392739662478694,\n",
              "  1.5392739662478694,\n",
              "  1.5392739662478694,\n",
              "  1.5392739662478694,\n",
              "  1.5392739662478694,\n",
              "  1.5392739662478694,\n",
              "  1.5392739662478694,\n",
              "  1.5392739662478694,\n",
              "  1.5392739662478694,\n",
              "  1.5392739662478694,\n",
              "  1.5392739662478694,\n",
              "  1.5392739662478694,\n",
              "  1.5392739662478694,\n",
              "  1.5392739662478694,\n",
              "  1.5392739662478694,\n",
              "  1.5392739662478694,\n",
              "  1.5392739662478694,\n",
              "  1.5392739662478694,\n",
              "  1.5392739662478694,\n",
              "  1.5392739662478694,\n",
              "  1.5392739662478694,\n",
              "  1.5392739662478694,\n",
              "  1.5392739662478694,\n",
              "  1.5392739662478694,\n",
              "  1.5392739662478694,\n",
              "  1.5392739662478694,\n",
              "  1.5392739662478694,\n",
              "  1.5392739662478694,\n",
              "  1.5392739662478694,\n",
              "  1.5392739662478694,\n",
              "  1.5392739662478694,\n",
              "  1.5392739662478694,\n",
              "  1.5392739662478694,\n",
              "  1.5392739662478694,\n",
              "  1.5392739662478694,\n",
              "  1.5392739662478694,\n",
              "  1.5392739662478694,\n",
              "  1.5392739662478694,\n",
              "  1.5392739662478694,\n",
              "  1.5392739662478694,\n",
              "  1.5392739662478694,\n",
              "  1.5392739662478694,\n",
              "  1.5392739662478694,\n",
              "  1.5392739662478694],\n",
              " [1.0,\n",
              "  1.0,\n",
              "  1.0,\n",
              "  1.0,\n",
              "  1.0,\n",
              "  1.0,\n",
              "  1.0,\n",
              "  1.0,\n",
              "  1.0,\n",
              "  1.0,\n",
              "  1.0,\n",
              "  1.0,\n",
              "  1.0,\n",
              "  1.0,\n",
              "  1.0,\n",
              "  1.0,\n",
              "  1.0,\n",
              "  1.0,\n",
              "  1.0,\n",
              "  1.0,\n",
              "  1.0,\n",
              "  1.0,\n",
              "  1.0,\n",
              "  1.0,\n",
              "  1.0,\n",
              "  1.0,\n",
              "  1.0,\n",
              "  1.0,\n",
              "  1.0,\n",
              "  1.0,\n",
              "  1.0,\n",
              "  1.0,\n",
              "  1.0,\n",
              "  1.0,\n",
              "  1.0,\n",
              "  1.0,\n",
              "  1.0,\n",
              "  1.0,\n",
              "  1.0,\n",
              "  1.0,\n",
              "  1.0,\n",
              "  1.0,\n",
              "  1.0,\n",
              "  1.0,\n",
              "  1.0,\n",
              "  1.0,\n",
              "  1.0,\n",
              "  1.0,\n",
              "  1.0,\n",
              "  1.0,\n",
              "  1.0,\n",
              "  1.0,\n",
              "  1.0,\n",
              "  1.0,\n",
              "  1.0,\n",
              "  1.0,\n",
              "  1.0,\n",
              "  1.0,\n",
              "  1.0,\n",
              "  1.0,\n",
              "  1.0,\n",
              "  1.0,\n",
              "  1.0,\n",
              "  1.0,\n",
              "  1.0,\n",
              "  1.0,\n",
              "  1.0,\n",
              "  1.0,\n",
              "  1.0,\n",
              "  1.0,\n",
              "  1.0,\n",
              "  1.0,\n",
              "  1.0,\n",
              "  1.0,\n",
              "  1.0,\n",
              "  1.0,\n",
              "  1.0,\n",
              "  1.0,\n",
              "  1.0,\n",
              "  1.0,\n",
              "  1.0,\n",
              "  1.0,\n",
              "  1.0,\n",
              "  1.0,\n",
              "  1.0,\n",
              "  1.0,\n",
              "  1.0,\n",
              "  1.0,\n",
              "  1.0,\n",
              "  1.0,\n",
              "  1.0,\n",
              "  1.0,\n",
              "  1.0,\n",
              "  1.0,\n",
              "  1.0,\n",
              "  1.0,\n",
              "  1.0,\n",
              "  1.0,\n",
              "  1.0,\n",
              "  1.0,\n",
              "  1.0,\n",
              "  1.0])"
            ]
          },
          "metadata": {
            "tags": []
          },
          "execution_count": 40
        }
      ]
    },
    {
      "cell_type": "markdown",
      "metadata": {
        "id": "hc1LixU9K7A-"
      },
      "source": [
        "We don't understand why the two algorithms are not working .."
      ]
    },
    {
      "cell_type": "markdown",
      "metadata": {
        "id": "vKg-txF6mx6_"
      },
      "source": [
        "<div class=\"alert alert-success\">\n",
        "    <b>EXERCISE</b>:\n",
        "     <ul>\n",
        "      <li>Compare the solution you obtain with ista and fista with the true parameter `coefs` of\n",
        "  the model. This can be done with `plt.stem` plots.</li>\n",
        "    <li>In linear regression and logistic regression, study the influence of the correlation \n",
        "  of the features on the performance of the optimization algorithms. Explain.</li>\n",
        "    <li>In linear regression and logistic regression, study the influence of the level of L2 \n",
        "  penalization on the performance of the optimization algorithms. Explain.</li>\n",
        "    <li>In linear regression and logistic regression, compare the performance of the optimization\n",
        "  algorithms for L2 and L1 penalizations. Explain</li>\n",
        "    </ul>\n",
        "</div>"
      ]
    },
    {
      "cell_type": "code",
      "metadata": {
        "id": "DAuQ2d9mHdOE"
      },
      "source": [
        "x_ista, pobj_ista, err_ista = PGD(x0, f = f_linreg, grad_f = grad_f_linreg, R = L1_pen, prox_R = prox_L1, step = None, lmbd= lmbd, n_iter = n_iter,\n",
        "         x_true=coefs, verbose=True)\n",
        "\n",
        "x_fista, pobj_fista, err_fista = APGD(x0, f = f_linreg, grad_f = grad_f_linreg, R = L1_pen, prox_R = prox_L1, step = None, lmbd= lmbd, n_iter = n_iter,\n",
        "         x_true=coefs, verbose=True)"
      ],
      "execution_count": null,
      "outputs": []
    },
    {
      "cell_type": "code",
      "metadata": {
        "id": "Wax_gPfBmx7A",
        "colab": {
          "base_uri": "https://localhost:8080/",
          "height": 403
        },
        "outputId": "093ac52f-0101-4c55-b4cc-a1cc03674918"
      },
      "source": [
        "# Estimated parameters using ISTA, FISTA \n",
        "plt.rcParams['figure.figsize'] = (16.0, 4.0)\n",
        "plt.subplot(1, 3, 1)\n",
        "\n",
        "plt.stem(coefs)\n",
        "plt.ylim([-1, 1])\n",
        "plt.title(\"True parameter\")\n",
        "plt.subplot(1, 3, 2)\n",
        "plt.stem(x_ista)\n",
        "plt.ylim([-1, 1])\n",
        "plt.title(\"ISTA Solution\")\n",
        "plt.subplot(1, 3, 3)\n",
        "plt.stem(x_fista)\n",
        "plt.ylim([-1, 1])\n",
        "plt.title(\"FISTA Solution\")\n",
        "plt.show()"
      ],
      "execution_count": null,
      "outputs": [
        {
          "output_type": "stream",
          "text": [
            "/usr/local/lib/python3.6/dist-packages/ipykernel_launcher.py:5: UserWarning: In Matplotlib 3.3 individual lines on a stem plot will be added as a LineCollection instead of individual lines. This significantly improves the performance of a stem plot. To remove this warning and switch to the new behaviour, set the \"use_line_collection\" keyword argument to True.\n",
            "  \"\"\"\n",
            "/usr/local/lib/python3.6/dist-packages/ipykernel_launcher.py:9: UserWarning: In Matplotlib 3.3 individual lines on a stem plot will be added as a LineCollection instead of individual lines. This significantly improves the performance of a stem plot. To remove this warning and switch to the new behaviour, set the \"use_line_collection\" keyword argument to True.\n",
            "  if __name__ == '__main__':\n",
            "/usr/local/lib/python3.6/dist-packages/ipykernel_launcher.py:13: UserWarning: In Matplotlib 3.3 individual lines on a stem plot will be added as a LineCollection instead of individual lines. This significantly improves the performance of a stem plot. To remove this warning and switch to the new behaviour, set the \"use_line_collection\" keyword argument to True.\n",
            "  del sys.path[0]\n"
          ],
          "name": "stderr"
        },
        {
          "output_type": "display_data",
          "data": {
            "image/png": "[encoded data removed]",
            "text/plain": [
              "<Figure size 1152x288 with 3 Axes>"
            ]
          },
          "metadata": {
            "tags": [],
            "needs_background": "light"
          }
        }
      ]
    },
    {
      "cell_type": "code",
      "metadata": {
        "id": "vaDRHGsqGy3a",
        "colab": {
          "base_uri": "https://localhost:8080/",
          "height": 298
        },
        "outputId": "cee33ad7-4dc8-4ee7-d32c-dee5d52b1af5"
      },
      "source": [
        "plt.rcParams['figure.figsize'] = (15.0, 4.0)\n",
        "plt.subplot(1, 2, 1)\n",
        "plt.plot(pobj_ista, label=\"ISTA\", lw=2)\n",
        "plt.plot(pobj_fista, label=\"FISTA\", lw=2)\n",
        "plt.title(\"Objective\")\n",
        "plt.legend()\n",
        "plt.subplot(1, 2, 2)\n",
        "plt.plot(err_ista, label=\"ISTA\", lw=2)\n",
        "plt.plot(err_fista, label=\"FISTA\", lw=2)\n",
        "plt.title(\"Estimation errors\")"
      ],
      "execution_count": null,
      "outputs": [
        {
          "output_type": "execute_result",
          "data": {
            "text/plain": [
              "Text(0.5, 1.0, 'Estimation errors')"
            ]
          },
          "metadata": {
            "tags": []
          },
          "execution_count": 43
        },
        {
          "output_type": "display_data",
          "data": {
            "image/png": "[encoded data removed]",
            "text/plain": [
              "<Figure size 1080x288 with 2 Axes>"
            ]
          },
          "metadata": {
            "tags": [],
            "needs_background": "light"
          }
        }
      ]
    },
    {
      "cell_type": "markdown",
      "metadata": {
        "id": "RT6UxCo7-yYq"
      },
      "source": [
        "Influence of the correlation :"
      ]
    },
    {
      "cell_type": "code",
      "metadata": {
        "id": "fMPdir3A-5y_"
      },
      "source": [
        "corr = [0.1*i for i in range(1,10)]"
      ],
      "execution_count": null,
      "outputs": []
    }
  ]
}