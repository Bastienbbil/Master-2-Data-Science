{
  "nbformat": 4,
  "nbformat_minor": 0,
  "metadata": {
    "anaconda-cloud": {},
    "kernelspec": {
      "display_name": "Python 3",
      "language": "python",
      "name": "python3"
    },
    "language_info": {
      "codemirror_mode": {
        "name": "ipython",
        "version": 3
      },
      "file_extension": ".py",
      "mimetype": "text/x-python",
      "name": "python",
      "nbconvert_exporter": "python",
      "pygments_lexer": "ipython3",
      "version": "3.8.5"
    },
    "colab": {
      "name": "Lab 3.ipynb",
      "provenance": [],
      "collapsed_sections": []
    }
  },
  "cells": [
    {
      "cell_type": "markdown",
      "metadata": {
        "id": "nQKpfZoanmGm"
      },
      "source": [
        "# Short Lab 3 : Proximal/cyclic/greedy coordinate descent\n",
        "\n",
        "#### Authors: A. Gramfort, M. Massias, P. Ablin\n",
        "\n",
        "## Aim\n",
        "\n",
        "The aim of this material is to code \n",
        "- cyclic and greedy coordinate descent for ordinary least squares (OLS)\n",
        "- proximal coordinate descent for sparse Logistic regression\n",
        "\n",
        "## VERY IMPORTANT\n",
        "\n",
        "- This work **must be done by pairs of students**.\n",
        "- **Each** student must send their work **before the 29th of november at 23:59**, using the **moodle platform**.\n",
        "- This means that **each student in the pair sends the same file**\n",
        "- On the moodle, in the \"Optimization for Data Science\" course, you have a \"devoir\" section called **Rendu TP du 23 novembre 2020**. This is where you submit your jupyter notebook file. \n",
        "- The **name of the file must be** constructed as in the next cell\n",
        "\n",
        "# Gentle reminder: no evaluation if you don't respect this EXACTLY\n",
        "\n",
        "### How to construct the name of your file"
      ]
    },
    {
      "cell_type": "code",
      "metadata": {
        "colab": {
          "base_uri": "https://localhost:8080/"
        },
        "id": "jZe--U9SnmGn",
        "outputId": "20a153cc-99c1-4c06-af7f-67b5a5b37de0"
      },
      "source": [
        "# Change here using YOUR first and last names\n",
        "fn1 = \"bastien\"\n",
        "ln1 = \"billiot\"\n",
        "fn2 = \"simon\"\n",
        "ln2 = \"demouchy\"\n",
        "\n",
        "filename = \"_\".join(map(lambda s: s.strip().lower(), \n",
        "                        [\"lab3\", ln1, fn1, \"and\", ln2, fn2])) + \".ipynb\"\n",
        "print(filename)"
      ],
      "execution_count": null,
      "outputs": [
        {
          "output_type": "stream",
          "text": [
            "lab3_billiot_bastien_and_demouchy_simon.ipynb\n"
          ],
          "name": "stdout"
        }
      ]
    },
    {
      "cell_type": "code",
      "metadata": {
        "id": "kRXgDu7LnmGn"
      },
      "source": [
        "import numpy as np\n",
        "from numpy.linalg import norm\n",
        "import matplotlib.pyplot as plt"
      ],
      "execution_count": null,
      "outputs": []
    },
    {
      "cell_type": "code",
      "metadata": {
        "id": "tuwHHerNnmGn"
      },
      "source": [
        "# the usual functions:\n",
        "\n",
        "from numpy.random import multivariate_normal\n",
        "from scipy.linalg.special_matrices import toeplitz\n",
        "from numpy.random import randn\n",
        "\n",
        "\n",
        "def simu(coefs, n_samples=1000, corr=0.5, for_logreg=False):\n",
        "    n_features = len(coefs)\n",
        "    cov = toeplitz(corr ** np.arange(0, n_features))\n",
        "    A = multivariate_normal(np.zeros(n_features), cov, size=n_samples)\n",
        "    b = A.dot(coefs) + randn(n_samples)\n",
        "    if for_logreg:\n",
        "        b = np.sign(b)\n",
        "    return A, b"
      ],
      "execution_count": null,
      "outputs": []
    },
    {
      "cell_type": "markdown",
      "metadata": {
        "id": "EWeyNuswnmGn"
      },
      "source": [
        "## Part 1: Ordinary Least Squares\n",
        "\n",
        "\n",
        "Let $A \\in \\mathbb{R}^{n \\times p}$, $y \\in \\mathbb{R}^n$.\n",
        "We want to use coordinate descent to solve:\n",
        "    $$\\hat w \\in  \\mathrm{arg \\, min \\,} \\frac 12 \\Vert Aw - b \\Vert ^2 $$\n",
        "\n",
        "\n",
        "<div class=\"alert alert-success\">\n",
        "    <b>QUESTION 1:</b> We ask you to code\n",
        "     <ul>\n",
        "         <li>cyclic coordinate descent: at iteration $t$, update feature $j = t \\mod p$</li>\n",
        "         <li>greedy coordinate descent: at iteration $t$, update feature having the largest partial gradient in magnitude, ie $j = \\mathrm{arg\\, max \\,}_{i} \\vert \\nabla_i f(w_t) \\vert$.\n",
        "</li>\n",
        "    </ul>\n",
        "</div>\n",
        "\n",
        "**WARNING**: You must do this in a clever way, ie such that $p$ updates cost the same as one update of GD."
      ]
    },
    {
      "cell_type": "code",
      "metadata": {
        "id": "JgV9xXZUnmGn"
      },
      "source": [
        "n_features = 100\n",
        "np.random.seed(1970)\n",
        "coefs = np.random.randn(n_features)\n",
        "\n",
        "A, b = simu(coefs, n_samples=1000, for_logreg=False)"
      ],
      "execution_count": null,
      "outputs": []
    },
    {
      "cell_type": "code",
      "metadata": {
        "id": "wsmY3GHanmGn"
      },
      "source": [
        "def cyclic_cd(A, b, n_iter):\n",
        "    n_samples, n_features = A.shape\n",
        "    all_objs = []\n",
        "    \n",
        "    w = np.zeros(n_features)\n",
        "    residuals = b - A.dot(w)\n",
        "    \n",
        "    # TODO\n",
        "    lips_const = np.linalg.norm(A, axis=0) ** 2\n",
        "    # END TODO\n",
        "    \n",
        "    for t in range(n_iter):\n",
        "        j = t % n_features\n",
        "        # TODO\n",
        "        old_w_j = w[j].copy()\n",
        "        w[j] += A[:,j].dot(residuals) / lips_const[j]\n",
        "        # update residuals:\n",
        "        residuals += A[:,j] * old_w_j - A[:,j] * w[j]\n",
        "        # END TODO\n",
        "        \n",
        "        if t % n_features == 0:\n",
        "            all_objs.append((residuals ** 2).sum() / 2.)\n",
        "    return w, np.array(all_objs)\n",
        "\n",
        "\n",
        "\n",
        "def greedy_cd(A, b, n_iter):\n",
        "    n_samples, n_features = A.shape\n",
        "    all_objs = []\n",
        "    \n",
        "    w = np.zeros(n_features)\n",
        "    \n",
        "    gradient = A.T.dot(A.dot(w) - b)\n",
        "    gram = A.T.dot(A)  # you will need this to keep the gradient up to date\n",
        "    \n",
        "    # TODO\n",
        "    lips_const = np.linalg.norm(A, axis=0) ** 2\n",
        "    # END TODO \n",
        "    \n",
        "    for t in range(n_iter):\n",
        "        # TODO\n",
        "        # choose feature j to update: \n",
        "        j = np.argmax(abs(gradient))\n",
        "        old_w_j = w[j].copy()\n",
        "        w[j] -= 1/lips_const[j] * gradient[j]\n",
        "        # update gradient:\n",
        "        gradient += gram[:,j] * w[j] - gram[:,j] * old_w_j\n",
        "        # END TODO\n",
        "        \n",
        "        if t % n_features == 0:\n",
        "            all_objs.append(0.5 * np.linalg.norm(A.dot(w) - b) ** 2)\n",
        "    \n",
        "    return w, np.array(all_objs)"
      ],
      "execution_count": null,
      "outputs": []
    },
    {
      "cell_type": "markdown",
      "metadata": {
        "id": "FnztKH3KnmGn"
      },
      "source": [
        "<div class=\"alert alert-success\">\n",
        "    <b>QUESTION 2:</b>\n",
        "     <ul>\n",
        "         <li>Compute a precise minimum with your favorite solver</li>\n",
        "         <li>Compare the performance of cyclic and greedy CD as function of iterations.</li>\n",
        "         <li>From a practical point of view, could you use greedy CD for L2 regularized logistic regression? to solve OLS, but with 100,000 features? Explain your answers.</li>\n",
        "    </ul>\n",
        "</div>\n",
        "\n",
        "**Remark:** You will do the plots using the number of iterations on the x-axis and not time as your code is likely to be slow unless you use [numba](https://numba.pydata.org/)."
      ]
    },
    {
      "cell_type": "code",
      "metadata": {
        "id": "mmqmCt1UnmGn"
      },
      "source": [
        "# Advice : Always plot f(wt) - f(w*) as a function of t in the log space using semilogy (as alexandre did in notebooks --> we have to take it) \n",
        "# Use of some previous labs' functions\n",
        "\n",
        "def loss(x, A, b):\n",
        "  return norm(A.dot(x) - b) ** 2 / 2 \n",
        "\n",
        "def grad(x, A, b):\n",
        "  return A.T.dot(A.dot(x) - b)"
      ],
      "execution_count": null,
      "outputs": []
    },
    {
      "cell_type": "code",
      "metadata": {
        "id": "SqeQzeRTvcq1"
      },
      "source": [
        "# Computation of a precise minimum with the solver scipy.optimize.fmin_l_bfgs_b\n",
        "from scipy.optimize import fmin_l_bfgs_b, fmin_cg\n",
        "w_ = np.zeros(n_features)\n",
        "w_min, f_min, _ = fmin_l_bfgs_b(loss, w_, grad, args=(A, b), pgtol = 1e-30, factr = 1e-30)"
      ],
      "execution_count": null,
      "outputs": []
    },
    {
      "cell_type": "code",
      "metadata": {
        "colab": {
          "base_uri": "https://localhost:8080/"
        },
        "id": "LRjBITzPIkqw",
        "outputId": "3cefbf79-1257-44b4-887d-125cad37f416"
      },
      "source": [
        "print(f_min)"
      ],
      "execution_count": null,
      "outputs": [
        {
          "output_type": "stream",
          "text": [
            "466.3849765337659\n"
          ],
          "name": "stdout"
        }
      ]
    },
    {
      "cell_type": "code",
      "metadata": {
        "colab": {
          "base_uri": "https://localhost:8080/"
        },
        "id": "nFxFmPHPwcJr",
        "outputId": "539cc9ad-bf28-4960-9f47-4f143c529315"
      },
      "source": [
        "import time \n",
        "start = time.time()\n",
        "w_c, obj_c = cyclic_cd(A, b, 3000)\n",
        "print(\"cyclic time is %s seconds \" % (time.time() - start))\n",
        "\n",
        "start = time.time()\n",
        "w_g, obj_g = greedy_cd(A, b, 3000)\n",
        "print(\"greedy time is %s seconds \" % (time.time() - start))"
      ],
      "execution_count": null,
      "outputs": [
        {
          "output_type": "stream",
          "text": [
            "cyclic time is 0.07149672508239746 seconds \n",
            "greedy time is 0.07539749145507812 seconds \n"
          ],
          "name": "stdout"
        }
      ]
    },
    {
      "cell_type": "code",
      "metadata": {
        "colab": {
          "base_uri": "https://localhost:8080/",
          "height": 513
        },
        "id": "zFLOG7yyyEKR",
        "outputId": "446356f8-74e4-4a90-f698-725d0d6e4854"
      },
      "source": [
        "plt.figure(figsize=(10,8))\n",
        "plt.plot(obj_c, 'o-', label='Cyclic Coordinate Descent')\n",
        "plt.plot(obj_g, 'o-', label='Greedy Coordinate Descent')\n",
        "plt.title('Loss for cyclic and greedy coordinate descent')\n",
        "plt.xlabel('Epochs')\n",
        "plt.ylabel('Objective value')\n",
        "\n",
        "plt.legend()\n",
        "plt.show()"
      ],
      "execution_count": null,
      "outputs": [
        {
          "output_type": "display_data",
          "data": {
            "image/png": "[encoded data removed]",
            "text/plain": [
              "<Figure size 720x576 with 1 Axes>"
            ]
          },
          "metadata": {
            "tags": [],
            "needs_background": "light"
          }
        }
      ]
    },
    {
      "cell_type": "code",
      "metadata": {
        "colab": {
          "base_uri": "https://localhost:8080/",
          "height": 513
        },
        "id": "G2QiOmBI0aoV",
        "outputId": "f443702e-dc6e-4f81-e15d-584fb8dcdf0c"
      },
      "source": [
        "plt.figure(figsize=(12,8))\n",
        "\n",
        "plt.semilogy(obj_c - f_min , 'o-',label=\"Cyclic Coordinate Descent\")\n",
        "plt.semilogy(obj_g - f_min , 'o-',label=\"Greedy Coordinate Descent\")\n",
        "\n",
        "plt.xlabel(\"Epochs\")\n",
        "plt.ylabel(\"$f(x_t) - f(x^*)$ in log scale\")\n",
        "plt.legend()\n",
        "plt.title(\"Comparison in terms of distance to the minimum\")\n",
        "\n",
        "\n",
        "plt.show()"
      ],
      "execution_count": null,
      "outputs": [
        {
          "output_type": "display_data",
          "data": {
            "image/png": "[encoded data removed]",
            "text/plain": [
              "<Figure size 864x576 with 1 Axes>"
            ]
          },
          "metadata": {
            "tags": [],
            "needs_background": "light"
          }
        }
      ]
    },
    {
      "cell_type": "code",
      "metadata": {
        "colab": {
          "base_uri": "https://localhost:8080/"
        },
        "id": "h_69uus90y6h",
        "outputId": "fd98c355-a412-4436-c9cd-d2d1889b0398"
      },
      "source": [
        "#distance to the minimizer obtained with fmin_l_bfgs_b\n",
        "print (\"error rate for cyclic CD : \"+ str(norm(w_c-w_min, ord=2)))\n",
        "print (\"error rate for greedy CD : \"+ str(norm(w_g-w_min, ord=2)))"
      ],
      "execution_count": null,
      "outputs": [
        {
          "output_type": "stream",
          "text": [
            "error rate for cyclic CD : 1.14698137640042e-06\n",
            "error rate for greedy CD : 3.716467289322087e-08\n"
          ],
          "name": "stdout"
        }
      ]
    },
    {
      "cell_type": "markdown",
      "metadata": {
        "id": "Euz_DIWJtyPC"
      },
      "source": [
        "**Compare the performance of cyclic and greedy CD as function of iterations.** \n",
        "\n",
        "The first plotted graph show explicitly the decrease of the objective for both the cyclic and greddy coordinate descent to reach the minimum of 466.38. The graph also shows a steadier decrease for the greedy coordinate descent. \n",
        "\n",
        "The second graph shows that at the end of the 3,000 iterations, the distance to th minimum (obtained thanks to the L-BFGS optimizer) is smaller for the greedy CD compared to the cyclic CD (order of magnitude around $10^{-12}$ for greedy CD compared to $10^{-9}$ for cyclic CD). \n",
        "\n",
        "Comparing the final error rates, we also see that greedy CD gives an order of magnitude which is inferior to cyclic CD. \n",
        "\n",
        "In conclusion, greddy coordinate descent seems to outperform cyclic coordinate descent as less iterations are necessary to converge. \n",
        "\n"
      ]
    },
    {
      "cell_type": "markdown",
      "metadata": {
        "id": "B88LFLjZXiWx"
      },
      "source": [
        "**From a practical point of view, could you use greedy CD for L2 regularized logistic regression? to solve OLS, but with 100,000 features? Explain your answers.**\n",
        "\n",
        "We don't think we could use greedy CD for L2 regularized logistic regression. Indeed, L2 norm won't delete irrelevant features but will decrease the size of the coefficients. If the number of non zero coefficients is too large, greedy coordinate descent will be less efficient as it has to compute the entire gradient to select the required index. Therefore, greedy coordinate descent is more effective with sparse optimization, since the regularizer sets coefficients to zero, enabling the component never to be selected during the iterations. \n",
        "\n",
        "We don't think we could use greedy CD to solve OLS with 100,000 features. As greedy coordinate descent requires to look at the entire gradient in order to select the required index, a large number of features such as 100,000 would require a higher computational time and from a pratical point of view, with 100,000 features, this would be too probably too much. "
      ]
    },
    {
      "cell_type": "markdown",
      "metadata": {
        "id": "-aZ1YfxInmGn"
      },
      "source": [
        "## Part 2: Sparse Logistic regression"
      ]
    },
    {
      "cell_type": "markdown",
      "metadata": {
        "id": "rPHPPFaJnmGo"
      },
      "source": [
        "### An important result\n",
        "\n",
        "Remember: we are solving \n",
        "$$\\hat w \\in \\mathrm{arg \\, min} \\sum_{i=1}^{n} \\mathrm{log} ( 1 + e^{- y_i w^\\top x_i} )  + \\lambda \\Vert w \\Vert_1$$\n",
        "\n",
        "<div class=\"alert alert-success\">\n",
        "    <b>QUESTION 3:</b><br/>\n",
        "    Assuming uniqueness of the solution, show that: $\\lambda \\geq \\lambda_{max} \\Leftrightarrow \\hat w = 0$\n",
        "where $\\lambda_{max} := \\frac 12 \\Vert X^\\top y \\Vert_{\\infty}$.\n",
        "</div>\n",
        "\n",
        "**HINT:** You will need the following beautiful result: for any $w =(w_1, \\dots, w_p) \\in \\mathbb{R}^p$, the subdifferential of the L1 norm at $w$ is:\n",
        "\n",
        "$$\\partial \\Vert \\cdot \\Vert_1 (w) = \\partial \\vert \\cdot \\vert (w_1)  \\times \\dots \\times \\partial \\vert \\cdot \\vert (w_p) $$\n",
        "where $\\times$ is the Cartesian product between sets,\n",
        "and $$ \\partial \\vert \\cdot \\vert (w_j) = \n",
        "\\begin{cases} &w_j / |w_j| &\\mathrm{if} \\quad w_j \\neq 0, \n",
        "         \\\\ & [-1, 1] &\\mathrm{otherwise.} \n",
        "\\end{cases}\n",
        "$$\n",
        "\n",
        "\n",
        "(it should now be easy to find $\\partial \\Vert \\cdot \\Vert_1 (\\mathbf{0}_p)$)"
      ]
    },
    {
      "cell_type": "markdown",
      "metadata": {
        "id": "cmbFJPeFVr3y"
      },
      "source": [
        "\n",
        "Let $F(\\omega) = \\sum_{i=1}^{n} \\mathrm{log} ( 1 + e^{- y_i w^\\top x_i} )  + \\lambda \\Vert w \\Vert_1$ and $f_i(\\omega) = \\mathrm{log} ( 1 + e^{- y_i w^\\top x_i} ) \\quad \\forall i \\in [1,n]$.\n",
        "\n",
        "$\\partial f_i(w) = \\frac{-y_i x_i e^{- y_i w^\\top x_i}}{1 + e^{- y_i w^\\top x_i}}$\n",
        "\n",
        "\n",
        "Therefore we have : $\\partial F (\\mathbf{0}_p) = \\{ \\frac{1}{2} \\sum_{i = 1}^{n}(-y_i x_i) + \\lambda \\times a : a \\in [-1,1]^p \\}$ \n",
        "\n",
        "\\begin{align*}\n",
        "    \\hat w = 0\n",
        "    & \\Leftrightarrow 0 \\in -\\frac{\\sum_{i=1}^{n} y_i x_i}{2} + \\lambda [-1, 1]^p \\\\\n",
        "    & \\Leftrightarrow \\frac{\\sum_{i=1}^{n} y_i x_i}{2} \\in [-\\lambda, \\lambda]^p\\\\\n",
        "    & \\Leftrightarrow \\frac{||X^{T}y||_{\\infty}}{2} \\in [-\\lambda, \\lambda]^p \\\\\n",
        "    & \\Leftrightarrow \\lambda_{max} = \\frac{||X^{T}y||_{\\infty}}{2} \\le \\lambda\n",
        "\\end{align*}"
      ]
    },
    {
      "cell_type": "markdown",
      "metadata": {
        "id": "d2lvtEGYnmGo"
      },
      "source": [
        "<div class=\"alert alert-success\">\n",
        "    <b>QUESTION 4:</b><br/>\n",
        "    Show that for sparse Logistic regression the coordinate-wise Lipschitz constant of the smooth term, $\\gamma_j$, can be taken equal to $\\Vert X_j \\Vert^2 / 4$, where $X_j$ denotes the $j$-th column of $X$.\n",
        "</div>"
      ]
    },
    {
      "cell_type": "markdown",
      "metadata": {
        "id": "8jsOhvvWnmGo"
      },
      "source": [
        "<div class=\"alert alert-success\">\n",
        "We use $f$, the function for logistic regression :\n",
        "\n",
        "$$f(w)=\\sum_{i=1}^{n} \\mathrm{log} ( 1 + e^{- y_i w^\\top x_i} )$$\n",
        "\n",
        "As we are looking for the coordinate-wise Lipschitz constant of the smooth term $\\gamma_{j}$, we compute the derivative of $f$ to $w_j$ :\n",
        "\n",
        "$$\\frac {\\partial f(w)}{\\partial w_j}=\\sum_{i=1}^{n} \\frac{-y_i x_{ij} e^{-y_i w^\\top x_i}}{1+e^{-y_i w^\\top x_i}}$$\n",
        "And then the second :\n",
        "\n",
        "$$\\frac {\\partial^2 f(w)}{\\partial w_j^2}=\\sum_{i=1}^{n} \\frac{y_i^2 x_{ij}^2 e^{-y_i w^\\top x_i}}{(1+e^{-y_i w^\\top x_i})^2}$$\n",
        "However :\n",
        "\n",
        "$$ \\forall x \\in \\mathbb{R}, \\frac {e^{-x}}{(1+e^{-x})^2} \\leq \\frac{1}{4}$$\n",
        "And :$$\\forall i, y_i^2 = 1 $$\n",
        "\n",
        "So :$$\\frac {\\partial^2 f(w)}{\\partial w_j^2} \\leq \\frac 14 \\sum_{i=1}^{n} x_{ij}^2 = \\frac{1}{4} \\Vert X_j \\Vert ^2$$\n",
        "\n",
        "Thus, we can set $L_{j} = \\frac{\\Vert X_j \\Vert ^2}{4}$\n",
        "</div>"
      ]
    },
    {
      "cell_type": "code",
      "metadata": {
        "id": "2rdWgw_OGrez"
      },
      "source": [
        "def h(x):\n",
        "  return np.exp(-x) / (1 + np.exp(-x))**2"
      ],
      "execution_count": null,
      "outputs": []
    },
    {
      "cell_type": "markdown",
      "metadata": {
        "id": "8Ppa8zH8nmGo"
      },
      "source": [
        "<div class=\"alert alert-success\">\n",
        "    <b>QUESTION 5:</b><br/>\n",
        "    Code cyclic proximal coordinate descent for sparse Logistic regression:\n",
        "</div>\n",
        "\n",
        "**WARNING**: the Lasso means linear regression (quadratic fitting term) with L1 penalty. Sparse logistic regression means logistic regression with L1 penalty."
      ]
    },
    {
      "cell_type": "code",
      "metadata": {
        "id": "wowHGa3cnmGo"
      },
      "source": [
        "X, y = simu(coefs, n_samples=1000, for_logreg=True)\n",
        "lambda_max = norm(X.T.dot(y), ord= np.inf) / 2.\n",
        "lamb = lambda_max / 20.  \n",
        "# much easier to parametrize lambda as a function of lambda_max than \n",
        "# to take random values like 0.1 in previous Labs\n",
        "\n",
        "\n",
        "def sigmoid(t):\n",
        "    \"\"\"Sigmoid function\"\"\"\n",
        "    return 1. / (1. + np.exp(-t))\n",
        "\n",
        "\n",
        "def soft_thresh(x, u):\n",
        "    \"\"\"Soft thresholding of x at level u\"\"\"\n",
        "    return np.sign(x) * np.maximum(0., np.abs(x) - u)\n",
        "\n",
        "\n",
        "def cd_logreg(X, y, lamb, n_iter):\n",
        "    n_samples, n_features = X.shape\n",
        "    w = np.zeros(n_features)\n",
        "    Xw = X.dot(w)\n",
        "\n",
        "    # TODO\n",
        "    lips_const = (np.linalg.norm(X, axis=0)**2)/4 \n",
        "    # END TODO\n",
        "    \n",
        "    all_objs = []\n",
        "    for t in range(n_iter):\n",
        "        for j in range(n_features):\n",
        "            old_w_j = w[j].copy()\n",
        "            # TODO\n",
        "            grad_j = np.sum(- y * X[:, j] * sigmoid(-y * Xw))\n",
        "            w[j] = soft_thresh(w[j] - 1. / lips_const[j] * grad_j, lamb / lips_const[j])\n",
        "            \n",
        "            if old_w_j != w[j]:\n",
        "                Xw += w[j] * X[:,j] - old_w_j * X[:,j]\n",
        "            #END TODO\n",
        "\n",
        "        all_objs.append(np.log(1. + np.exp(-y * Xw)).sum() + lamb * norm(w, ord=1))   \n",
        "    \n",
        "    return w, all_objs"
      ],
      "execution_count": null,
      "outputs": []
    },
    {
      "cell_type": "code",
      "metadata": {
        "colab": {
          "base_uri": "https://localhost:8080/"
        },
        "id": "Rv65P0nQJ3te",
        "outputId": "bf80ff0f-4975-4cfc-d96e-4311eb9e330b"
      },
      "source": [
        "%%time\n",
        "w_min_cd_logreg, obj_w_cd_logreg = cd_logreg(X, y, lamb, 2000)\n",
        "print(obj_w_cd_logreg[-1])"
      ],
      "execution_count": null,
      "outputs": [
        {
          "output_type": "stream",
          "text": [
            "370.90370359545807\n",
            "CPU times: user 9.18 s, sys: 91.6 ms, total: 9.27 s\n",
            "Wall time: 9.17 s\n"
          ],
          "name": "stdout"
        }
      ]
    },
    {
      "cell_type": "markdown",
      "metadata": {
        "id": "ib24lw-5nmGo"
      },
      "source": [
        "# Part 3: Real data\n",
        "\n",
        "We will compare vanilla cyclic CD and ISTA to solve the Lasso on a real dataset, called _leukemia_."
      ]
    },
    {
      "cell_type": "code",
      "metadata": {
        "id": "LEa9gA_0nmGo"
      },
      "source": [
        "from sklearn.datasets import fetch_openml\n",
        "\n",
        "leuk = fetch_openml(\"leukemia\")\n",
        "\n",
        "X = np.asfortranarray(leuk.data)\n",
        "y = np.ones(leuk.target.shape)\n",
        "y[leuk.target == leuk.target[0]] = -1."
      ],
      "execution_count": null,
      "outputs": []
    },
    {
      "cell_type": "code",
      "metadata": {
        "id": "8tJDHQwBnmGo",
        "colab": {
          "base_uri": "https://localhost:8080/"
        },
        "outputId": "7debac85-9950-4e47-c269-e9f31d99716a"
      },
      "source": [
        "print(X.shape)\n",
        "\n",
        "lambda_max_lasso = norm(X.T.dot(y), ord=np.inf)\n",
        "lambd = lambda_max_lasso / 5."
      ],
      "execution_count": null,
      "outputs": [
        {
          "output_type": "stream",
          "text": [
            "(72, 7129)\n"
          ],
          "name": "stdout"
        }
      ]
    },
    {
      "cell_type": "markdown",
      "metadata": {
        "id": "-KLmPtFQnmGo"
      },
      "source": [
        "<div class=\"alert alert-success\">\n",
        "    <b>QUESTION 6:</b> Code\n",
        "    <ul>\n",
        "        <li>a simple proximal gradient solver for the Lasso</li>\n",
        "        <li>a prox CD solver for the Lasso and compare them on this dataset.</li>\n",
        "    </ul>\n",
        "</div>\n",
        "\n",
        "**Remark:** Do the plots in terms of epochs, not updates (to be fair to CD)."
      ]
    },
    {
      "cell_type": "markdown",
      "metadata": {
        "id": "KTjkijr1A6bP"
      },
      "source": [
        "The label is $\\{ -1,1\\}$, so we have to code Sparse Logistic Regression instead of Lasso."
      ]
    },
    {
      "cell_type": "markdown",
      "metadata": {
        "id": "f3SuWs7Jqlnk"
      },
      "source": [
        "Simple proximal gradient solver for the sparse logistic regression :"
      ]
    },
    {
      "cell_type": "markdown",
      "metadata": {
        "id": "dQR3CTAy4dYH"
      },
      "source": [
        "**Proximal gradient solver for the Lasso**"
      ]
    },
    {
      "cell_type": "code",
      "metadata": {
        "id": "73F8wIJj5gFX"
      },
      "source": [
        "def prox_L1(x, lmbd):\n",
        "    \"\"\"Proximal operator for the L1 at x\"\"\"\n",
        "    return np.sign(x)*np.maximum(np.abs(x)-lmbd,0)\n",
        "\n",
        "def L1_norm(x, lmbd):\n",
        "    \"\"\"Value of the L1 penalization at x\"\"\"\n",
        "    return lmbd*np.linalg.norm(x,ord=1)\n",
        "\n",
        "def loss_linreg(w):\n",
        "    \"\"\"Least squares loss\"\"\"\n",
        "    return (1/2)*np.linalg.norm(y-np.dot(X,w), ord=2)**2\n",
        "\n",
        "def grad_linreg(w):\n",
        "    \"\"\"Least squares gradient\"\"\"\n",
        "    return -np.dot(X.T, y-np.dot(X,w))\n",
        "#from scipy.optimize import check_grad\n",
        "#check_grad(loss_linreg, grad_linreg, randn(p))\n",
        "\n",
        "def smoothness_const_linreg(X):\n",
        "    \"\"\"Lipschitz smoothness constant for least squares loss\"\"\"    \n",
        "    return (np.linalg.norm(X, ord=2))**2"
      ],
      "execution_count": null,
      "outputs": []
    },
    {
      "cell_type": "code",
      "metadata": {
        "id": "5DfMD7zY5kZ4"
      },
      "source": [
        "def PGD(w0, f, grad_f, R, prox_R, step, lmbd, n_iter=50):\n",
        "    \"\"\"Proximal gradient descent algorithm\"\"\"\n",
        "    w = w0.copy()\n",
        "    n_samples, n_features = X.shape\n",
        "\n",
        "    # objective history\n",
        "    objectives = []\n",
        "    # Current objective\n",
        "    obj = f(w) + R(w, lmbd)\n",
        "    objectives.append(obj)\n",
        "    for k in range(n_iter-1):\n",
        "        w = prox_R(w - step*grad_f(w), lmbd*step)\n",
        "        obj = f(w) + R(w, lmbd)\n",
        "        objectives.append(obj)\n",
        "    return w, np.array(objectives)"
      ],
      "execution_count": null,
      "outputs": []
    },
    {
      "cell_type": "code",
      "metadata": {
        "colab": {
          "base_uri": "https://localhost:8080/"
        },
        "id": "ebaq7Qkb5m9O",
        "outputId": "101968c6-4fef-48be-835f-f34b46899f31"
      },
      "source": [
        "L = smoothness_const_linreg(X)\n",
        "w0 = np.zeros(X.shape[1])\n",
        "\n",
        "w_min_pgd, obj_min_pgd = PGD(w0=w0, f=loss_linreg, grad_f=grad_linreg, R=L1_norm, prox_R=prox_L1, step=1/L, lmbd=lambd, \n",
        "                             n_iter=50)\n",
        "print(obj_min_pgd[-1])"
      ],
      "execution_count": null,
      "outputs": [
        {
          "output_type": "stream",
          "text": [
            "32.197691021665605\n"
          ],
          "name": "stdout"
        }
      ]
    },
    {
      "cell_type": "markdown",
      "metadata": {
        "id": "pwpui6OK4oUi"
      },
      "source": [
        "**Prox CD solver for the Lasso and compare them on this dataset**"
      ]
    },
    {
      "cell_type": "code",
      "metadata": {
        "id": "iBIFnuma5qqk"
      },
      "source": [
        "def soft_thresh(x, u):\n",
        "    \"\"\"Soft thresholding of x at level u\"\"\"\n",
        "    return np.sign(x) * np.maximum(0., np.abs(x) - u)\n",
        "\n",
        "def cd_linreg(X, y, lamb, n_iter):\n",
        "    n_samples, n_features = X.shape\n",
        "    all_objs = np.zeros(n_iter)\n",
        "    w = np.zeros(n_features)\n",
        "    Xw = X.dot(w)\n",
        "    \n",
        "    # TODO\n",
        "    lips_const = np.linalg.norm(X, axis=0)**2\n",
        "    all_objs[0] = (1/2)*(np.linalg.norm(y - Xw, ord=2))**2 + lamb * np.linalg.norm(w, ord=1)\n",
        "    # END TODO\n",
        "    \n",
        "    for t in range(n_iter-1):\n",
        "        for j in range(n_features):\n",
        "            old_w_j = w[j]\n",
        "            # TODO\n",
        "            grad_j = np.dot(X[:,j], Xw - y)\n",
        "            step = 1/lips_const[j]\n",
        "            w[j] = soft_thresh(w[j] - step*grad_j, lamb*step)\n",
        "\n",
        "            if old_w_j != w[j]:\n",
        "                Xw += X[:,j].dot(w[j]-old_w_j)\n",
        "            #END TODO  \n",
        "        all_objs[t+1] = (1/2)*(np.linalg.norm(y - Xw, ord=2))**2 + lamb * np.linalg.norm(w, ord=1)\n",
        "    return w, all_objs"
      ],
      "execution_count": null,
      "outputs": []
    },
    {
      "cell_type": "code",
      "metadata": {
        "colab": {
          "base_uri": "https://localhost:8080/"
        },
        "id": "PIhbd9Xw5u5L",
        "outputId": "0c859f5a-08a8-44ff-e2da-af1925621c7d"
      },
      "source": [
        "%%time\n",
        "w_min_cd_linreg, obj_min_cd_linreg = cd_linreg(X, y, lambd, 50)\n",
        "print(obj_min_cd_linreg[-1])"
      ],
      "execution_count": null,
      "outputs": [
        {
          "output_type": "stream",
          "text": [
            "26.500197757964404\n",
            "CPU times: user 3.09 s, sys: 94 ms, total: 3.19 s\n",
            "Wall time: 3.08 s\n"
          ],
          "name": "stdout"
        }
      ]
    },
    {
      "cell_type": "markdown",
      "metadata": {
        "id": "Ktpm7sko5xGW"
      },
      "source": [
        "**Compare**"
      ]
    },
    {
      "cell_type": "code",
      "metadata": {
        "colab": {
          "base_uri": "https://localhost:8080/",
          "height": 350
        },
        "id": "8ZnpC4bd5zAp",
        "outputId": "5fef0aa3-d921-44a7-a1e0-809149777951"
      },
      "source": [
        "plt.figure(figsize=(8, 5))\n",
        "\n",
        "x = np.arange(1, len(obj_min_cd_linreg)+1)\n",
        "\n",
        "\n",
        "plt.title(\"Comparison in terms of distance to the minimum\")\n",
        "plt.grid()\n",
        "\n",
        "plt.plot(x, obj_min_cd_linreg, 'o-', label='Prox CD Solver')\n",
        "plt.plot(x, obj_min_pgd, 'o-', label='Proximal Gradient Descent')\n",
        "plt.yscale('log')\n",
        "plt.xlabel(\"Epochs\")\n",
        "plt.ylabel(\"$f objective\")\n",
        "plt.legend()\n",
        "plt.title(\"Comparison in terms of distance to the minimum\")\n",
        "\n",
        "plt.show()"
      ],
      "execution_count": null,
      "outputs": [
        {
          "output_type": "display_data",
          "data": {
            "image/png": "[encoded data removed]",
            "text/plain": [
              "<Figure size 576x360 with 1 Axes>"
            ]
          },
          "metadata": {
            "tags": [],
            "needs_background": "light"
          }
        }
      ]
    },
    {
      "cell_type": "code",
      "metadata": {
        "id": "o0t1ZjKHBi_h"
      },
      "source": [
        ""
      ],
      "execution_count": null,
      "outputs": []
    }
  ]
}