{
 "metadata": {
  "language_info": {
   "codemirror_mode": {
    "name": "ipython",
    "version": 3
   },
   "file_extension": ".py",
   "mimetype": "text/x-python",
   "name": "python",
   "nbconvert_exporter": "python",
   "pygments_lexer": "ipython3",
   "version": "3.7.6-final"
  },
  "orig_nbformat": 2,
  "kernelspec": {
   "name": "python3",
   "display_name": "Python 3",
   "language": "python"
  }
 },
 "nbformat": 4,
 "nbformat_minor": 2,
 "cells": [
  {
   "source": [
    "### Importations"
   ],
   "cell_type": "markdown",
   "metadata": {}
  },
  {
   "cell_type": "code",
   "execution_count": 2,
   "metadata": {},
   "outputs": [],
   "source": [
    "import numpy as np\n",
    "import pandas as pd\n",
    "from problem import get_train_data, get_test_data\n",
    "from utils import meta_extract, data_into_pandas_train, data_into_pandas_test, pred_into_format, treshold, keep_step"
   ]
  },
  {
   "source": [
    "### Data Importation"
   ],
   "cell_type": "markdown",
   "metadata": {}
  },
  {
   "cell_type": "code",
   "execution_count": 3,
   "metadata": {},
   "outputs": [
    {
     "output_type": "stream",
     "name": "stdout",
     "text": [
      "There are 1304 elements in the training set, and 328 in the testing set.\n"
     ]
    }
   ],
   "source": [
    "data_train, labels_train = get_train_data()\n",
    "data_test, labels_test = get_test_data()\n",
    "msg = f\"There are {len(data_train)} elements in the training set, and {len(data_test)} in the testing set.\"\n",
    "print(msg)"
   ]
  },
  {
   "source": [
    "### Extraction of MetaData"
   ],
   "cell_type": "markdown",
   "metadata": {}
  },
  {
   "cell_type": "code",
   "execution_count": 4,
   "metadata": {},
   "outputs": [],
   "source": [
    "meta_train = meta_extract(data_train)\n",
    "meta_test = meta_extract(data_test)"
   ]
  },
  {
   "source": [
    "### Traitement données signal"
   ],
   "cell_type": "markdown",
   "metadata": {}
  },
  {
   "cell_type": "code",
   "execution_count": 5,
   "metadata": {},
   "outputs": [],
   "source": [
    "steps_train, signal_train, size_trials_train = data_into_pandas_train(data_train, labels_train)\n",
    "signal_test, size_trials_test = data_into_pandas_test(data_test)\n",
    "treshold = treshold(labels_train) "
   ]
  },
  {
   "source": [
    "### Modèle"
   ],
   "cell_type": "markdown",
   "metadata": {}
  },
  {
   "cell_type": "code",
   "execution_count": 6,
   "metadata": {},
   "outputs": [],
   "source": [
    "from sklearn.ensemble import RandomForestClassifier as RFC \n",
    "model = RFC(n_estimators=10)"
   ]
  },
  {
   "cell_type": "code",
   "execution_count": 7,
   "metadata": {},
   "outputs": [
    {
     "output_type": "execute_result",
     "data": {
      "text/plain": [
       "RandomForestClassifier(n_estimators=10)"
      ]
     },
     "metadata": {},
     "execution_count": 7
    }
   ],
   "source": [
    "model.fit(signal_train,steps_train)"
   ]
  },
  {
   "cell_type": "code",
   "execution_count": 8,
   "metadata": {},
   "outputs": [],
   "source": [
    "steps_predicted = model.predict(signal_test)\n",
    "steps_p = pd.DataFrame(steps_predicted, columns=['step'])\n",
    "steps_ = pred_into_format(steps_p,size_trials_test)\n",
    "pred = keep_step(steps_,treshold)"
   ]
  },
  {
   "cell_type": "code",
   "execution_count": 9,
   "metadata": {},
   "outputs": [
    {
     "output_type": "stream",
     "name": "stdout",
     "text": [
      "F-score: 0.96\n"
     ]
    }
   ],
   "source": [
    "from problem import FScoreStepDetection\n",
    "fscore = FScoreStepDetection()(labels_test, pred)\n",
    "print(f\"F-score: {fscore:.2f}\")"
   ]
  },
  {
   "cell_type": "code",
   "execution_count": null,
   "metadata": {},
   "outputs": [],
   "source": []
  }
 ]
}