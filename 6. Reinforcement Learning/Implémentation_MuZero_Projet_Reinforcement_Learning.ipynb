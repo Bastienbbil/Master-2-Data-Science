{
  "nbformat": 4,
  "nbformat_minor": 0,
  "metadata": {
    "colab": {
      "name": "Implémentation MuZero - Projet Reinforcement Learning.ipynb",
      "provenance": [],
      "collapsed_sections": [],
      "toc_visible": true
    },
    "kernelspec": {
      "name": "python3",
      "display_name": "Python 3"
    }
  },
  "cells": [
    {
      "cell_type": "markdown",
      "metadata": {
        "id": "7CR09s9tRyNG"
      },
      "source": [
        "<center> \r\n",
        "    <h1> \r\n",
        "        Projet Reinforcement Learning\r\n",
        "    <h2> \r\n",
        "        Notebook algorithme MuZero"
      ]
    },
    {
      "cell_type": "markdown",
      "metadata": {
        "id": "LdEUDpVCKNqT"
      },
      "source": [
        "<center>\r\n",
        "<img src=\"https://venturebeat.com/wp-content/uploads/2020/04/260dcb5d-b808-40f3-947f-c28e349c3da4-e1585799405647.png?resize=1198%2C600&strip=all\" width=\"200px\"> <br>\r\n",
        "<img src=\"https://www.telecom-sudparis.eu/wp-content/uploads/2020/02/81889345d20c3cbe29ad.png\" width=\"200px\">"
      ]
    },
    {
      "cell_type": "markdown",
      "metadata": {
        "id": "GR8EMagsJywU"
      },
      "source": [
        "<div style=\"text-align: right\">\r\n",
        "    <em>\r\n",
        "        Auteurs (article) : Julian Schrittwieser, Ioannis Antonoglou, et al. <br>\r\n",
        "        Auteur (code initial) : Johan Gras : https://github.com/johan-gras/MuZero <br>\r\n",
        "        Auteurs (rapport et notebook) : Billiot Bastien, Demay Ulysse, Ilbert Romain <br>\r\n",
        "        Professeur : E. Le Pennec \r\n",
        "        <br>\r\n",
        "        Mars 2021 \r\n",
        "    </em>\r\n",
        "</div>"
      ]
    },
    {
      "cell_type": "markdown",
      "metadata": {
        "id": "Zkg1jMtZi6uQ"
      },
      "source": [
        "## Sommaire"
      ]
    },
    {
      "cell_type": "markdown",
      "metadata": {
        "id": "nCYuq6jXF6T8"
      },
      "source": [
        "* [Introduction à notre travail d'implémentation](#introduction) \r\n",
        "    * [Rappel des motivations des auteurs et de leur choix de jeux pour l'implémentation](#auteurs)\r\n",
        "    * [Notre travail d'implémentation](#implementation)\r\n",
        "    * [Structure](#structure)\r\n",
        "* [Pré-requis](#pre-requis)\r\n",
        "* [Notion de jeu](#jeu)\r\n",
        "    * [Classes abstraites](#classes_abstraites)\r\n",
        "    * [Standardisation des observations](#standardisation)\r\n",
        "    * [Le jeu du CartPole](#jeu_cartpole)\r\n",
        "    * [Autre jeu : Acrobot](#jeu_acrobot)\r\n",
        "* [Réseaux](#reseaux)\r\n",
        "    * [Les classes de base](#classes_base)\r\n",
        "    * [Sauvegarde du réseau](#sauvegarde_reseau)\r\n",
        "    * [Le réseau du CartPole](#reseau_cartpole)\r\n",
        "    * [Autre jeu : Acrobot](#reseau_acrobot)\r\n",
        "* [Configuration pour l'algorithme](#config)\r\n",
        "* [Monte Carlo Tree Search (MCTS)](#MCTS)\r\n",
        "    * [L'implémentation de la sélection](#selection)\r\n",
        "    * [L'implémentation de l'expansion d'un noeud](#expansion)\r\n",
        "    * [L'implémentation de la rétropropagation](#retropropagation)\r\n",
        "    * [Excécution de la recherche MCTS et sélection de l'action réalisée](#excecution)\r\n",
        "* [Entraînement](#entrainement)\r\n",
        "    * [Replay Buffer](#replay_buffer)\r\n",
        "    * [Self-play](#self-play)\r\n",
        "    * [Training](#training)\r\n",
        "* [MuZero](#muzero)\r\n",
        "* [Sauvegarde / Chargement d'un réseau entraîné](#reseau_entraine)\r\n",
        "* [Exécution de MuZero](#exec_muzero)\r\n",
        "    * [Exécution pour le CartPole](#exec_cartpole)\r\n",
        "        * [Entraînement from scratch](#from_scratch)\r\n",
        "        * [Exemple de sauvegarde et chargement du réseau obtenu](#ex_save)\r\n",
        "            * [Sauvegarde](#sauvegarde)\r\n",
        "            * [Chargement](#chargement)\r\n",
        "        * [Résultats pour plusieurs entraînement](#resultats)\r\n",
        "    * [Exécution pour Acrobot](#exec_acrobot)"
      ]
    },
    {
      "cell_type": "markdown",
      "metadata": {
        "id": "nwLb2QFnDvjL"
      },
      "source": [
        "## Introduction à notre travail d'implémentation <a class=\"anchor\" id=\"introduction\"></a>"
      ]
    },
    {
      "cell_type": "markdown",
      "metadata": {
        "id": "tqSplBdLGImW"
      },
      "source": [
        "### Rappel des motivations des auteurs et de leur choix de jeux pour l'implémentation <a class=\"anchor\" id=\"auteurs\"></a>"
      ]
    },
    {
      "cell_type": "markdown",
      "metadata": {
        "id": "RjR4xKA91wl_"
      },
      "source": [
        "En plus de leur article, les auteurs de *Mastering Atari, Go, Chess and Shogi by Planning with a Learned Model* fournissent un pseudo-code pour implémenter l'algorithme *MuZero*. Il existe plusieurs manières d'implémenter cet algorithme qui peuvent dépendre des jeux considérés. Dans le cadre de leur article, les auteurs proposent donc d'implémenter leur algorithme pour les jeux de Go, shogi, d'échecs et Atari. En effet, comme présenté dans notre rapport, la motivation de l'article et de *MuZero* est de construire un algorithme d'apprentissage *model-based* qui permet notamment d'obtenir des performances à l'état de l'art dans les problèmes classiquement réalisés par des algorithmes *model-based*. Ces résultats sont notamment obtenus par *AlphaZero* et les problèmes sont les jeux d'échecs, le jeu de Go et le Shogi. L'intérêt principal de MuZero est d'en plus de cela d'obtenir des performances à l'état de l'art dans des problèmes comme Atari 2600 qui sont traditionnellement obtenus par des méthodes *model-free*, donc non obtenus par exemple par *AlphaZero*. C'est pourquoi l'implémentation est centrée sur ces jeux-ci. Dans notre rapport, nous présentons notamment les résultats obtenus par les auteurs sur ces jeux et donc la réponse à la motivation de l'article.\r\n",
        "\r\n",
        "Cependant, nous avons décidé, plutôt que de refaire l'algorithme sur les mêmes jeux et obtenir des résultats similaires d'implémenter MuZero sur d'autres jeux. Ce choix permet notamment de montrer notre compréhension de l'algorithme mais aussi notre capacité à l'implémenter sur un nouveau jeu. "
      ]
    },
    {
      "cell_type": "markdown",
      "metadata": {
        "id": "OlzV2056ELxV"
      },
      "source": [
        "### Notre travail d'implémentation <a class=\"anchor\" id=\"implementation\"></a>"
      ]
    },
    {
      "cell_type": "markdown",
      "metadata": {
        "id": "HbhH8Z9CEN46"
      },
      "source": [
        "Pour ce projet, nous allons nous intéresser à l'implémentation de *MuZero* de Johan Gras, fidèle au pseudo-code et principalement adaptée pour les jeux un-joueur. Cette implémentation peut fonctionner pour différents jeux mais le code disponible sur le dépôt Git la particularise seulement pour le CartPole, jeu un joueur en 1D qui ne nécessite donc pas de Convolutional Neural Networks. Afin de pouvoir avoir une implémentation fonctionnelle de *MuZero* nous avons donc repris le code du Johan Gras dont le dépôt Git est le suivant : https://github.com/johan-gras/MuZero. Nous avons mis ce code dans un notebook afin de pouvoir l'expliquer au mieux et d'en dérouler les étapes de manière similaire à l'article.\r\n",
        "\r\n",
        "Il existe plusieurs implémentation de l'algorithme *MuZero*, la plus connue étant celle de Werner Duvaud disponible ici : https://github.com/werner-duvaud/muzero-general. Cette implémentation est très complète et propose de nombreux blocs supplémentaires comme la sauvegarde de réseau, un grand nombre de jeux prix en charge, une visualisation en console et en fenêtre des jeux mais aussi un monitoring de l'entraînement via Tensorboard. Nous n'avons pas choisi d'utiliser ce dépôt afin d'obtenir un code plus concis et plus fidèle à l'article mais aussi de pouvoir expliquer le code en détail en se concentrant sur l'algorithme *MuZero* lui-même et non les différents ajouts qui auraient pu être faits.\r\n",
        "\r\n",
        "Enfin, la valeur ajoutée de ce notebook par rapport au code présent sur le dépôt Git est son explication détaillée grâce à un découpage en parties correspondant aux concepts de l'article, de nombreux paragraphes entre les différentes cellules mais aussi des commentaires dans le code afin de mieux comprendre l'action de fonctions importantes. De plus, nous avons ajouté une section *Sauvegarde / Chargement d'un réseau entraîné* permettant de sauvegarder un réseau entraîné pour un jeu dans un dossier choisi. L'affichage de graphes pour visualiser l'entraînement de l'algorithme n'est pas non plus présent dans le dépôt de Johan Gras.\r\n",
        "\r\n",
        "Enfin, si les auteurs de notre article implémentent *MuZero* sur les jeux d'échecs, le jeu de Go, le Shogi et Atari 2600, l'implémentation de Johan Grasse concentre uniquement sur le jeu du CartPole. Afin d'aller plus loin nous proposons l'implémentation sur un autre jeu : Acrobot. "
      ]
    },
    {
      "cell_type": "markdown",
      "metadata": {
        "id": "uLK3e1gTK1mT"
      },
      "source": [
        "### Structure <a class=\"anchor\" id=\"structure\"></a>"
      ]
    },
    {
      "cell_type": "markdown",
      "metadata": {
        "id": "eURPGmbflwVK"
      },
      "source": [
        "La structure de ce notebook est la suivante:\r\n",
        "- La section **Notion de jeu** contient l'implémentation d'un jeu vu comme son état à un tour donné. Elle permet notamment de calculer les policy, value et reward cibles utilisées pour l'entraînement.\r\n",
        "- La section **Réseaux** contient l'architecture du réseau de notre algorithme adapté pour le jeu choisi (ici CartPole et Acrobot) ainsi que tous les éléments entraînables.\r\n",
        "- La section **Configuration pour l'algorithme** donne une structure permettant de fournir à l'algorithme MuZero tous les hyperparamètres, la classe qu'elle contient est abstraite et doit être héritée et redéfinie pour le jeu choisi.\r\n",
        "- La section **Monte Carlo Tree Search (MCTS)** contient l'implémentation des arbres de recherche de Monte Carlo servant à choisir une action à effectuer à partir de l'état d'un jeu à un tour donnée.\r\n",
        "- La section **Entraînement** contient le `ReplayBuffer`, objet stockant toutes les parties simulées à partir du réseau tel qu'il est en début de boucle d'entraînement et dont les instants peuvent être échantillonnés pour l'entraînement. Elle contient aussi la définition de la loss et la mise à jour des poids grâce à l'optimiseur choisi et le `Self-Play` qui permet de simuler des parties du jeu choisi à partir du réseau tel qu'il est à une boucle d'entraînement donnée. On peut stocker ces parties dans le `ReplayBuffer` lors de la phase d'entraînement mais aussi évaluer notre modèle sur ces parties simulées en mode évaluation.\r\n",
        "- La section **MuZero** combine les différents éléments précédents pour pouvoir exécuter MuZero de son initialisation à l'entraînement de son réseau et son évaluation.\r\n",
        "- La section **Sauvegarde / Chargement d'un réseau entraîné** contient la fonction que nous avons ajouté à l'implémentation originale. Elle permet de sauvegarder un réseau entraîné dans un dossier choisi et de le recharger pour en poursuivre l'entraînement.\r\n",
        "- La section **Exécution de MuZero** est un exemple d'exécution de l'algorithme pour le jeu du CartPole dont la configuration est donnée ainsi qu'un graphe présentant les score de train et d'évaluation obtenus."
      ]
    },
    {
      "cell_type": "markdown",
      "metadata": {
        "id": "iMiauHTOVB_g"
      },
      "source": [
        "## Pré-requis <a class=\"anchor\" id=\"pre-requis\"></a>"
      ]
    },
    {
      "cell_type": "code",
      "metadata": {
        "id": "u9EVqVYEkrR-"
      },
      "source": [
        "import collections\r\n",
        "import math\r\n",
        "import typing\r\n",
        "from typing import Dict, List, Optional, Callable\r\n",
        "import random\r\n",
        "from itertools import zip_longest\r\n",
        "import pickle \r\n",
        "\r\n",
        "import numpy as np\r\n",
        "import matplotlib.pyplot as plt\r\n",
        "import tensorflow as tf\r\n",
        "from tensorflow.keras.losses import MSE\r\n",
        "from tensorflow.keras import Model, regularizers\r\n",
        "from tensorflow.keras.layers import Dense\r\n",
        "from tensorflow.keras.models import Sequential, load_model\r\n",
        "\r\n",
        "from abc import abstractmethod, ABC\r\n",
        "import gym"
      ],
      "execution_count": null,
      "outputs": []
    },
    {
      "cell_type": "code",
      "metadata": {
        "id": "KUyqwkxyPCwg"
      },
      "source": [
        "MAXIMUM_FLOAT_VALUE = float('inf')"
      ],
      "execution_count": null,
      "outputs": []
    },
    {
      "cell_type": "markdown",
      "metadata": {
        "id": "q5Il2BVGWEOW"
      },
      "source": [
        "La classe `Node` définie ci-dessous représente un noeud, nécessaire pour les arbres de recherche de Monte Carlo (MCTS). Nous devons la définir au début du notebook car elle est utile dans tout le code. En effet, à chaque tour MuZero s'appuie sur les MCTS et leurs différents noeuds qui correspondent aux états cachés du jeu.\r\n",
        "\r\n",
        "En plus de disposer des attributs classiques d'un noeud d'un arbre de recherche, ces noeuds possèdent un attribut `prior` afin d'incorporer le bruit d'exploration de Dirichlet dans la racine de l'arbre. Il est important de noter aussi qu'il stockent leur value et leur reward mises à jour lors du parcours de l'arbre."
      ]
    },
    {
      "cell_type": "code",
      "metadata": {
        "id": "LRcaYbAdPVXB"
      },
      "source": [
        "class Node(object):\r\n",
        "    \"\"\"A class that represent nodes inside the MCTS tree\"\"\"\r\n",
        "\r\n",
        "    def __init__(self, prior: float):\r\n",
        "        self.visit_count = 0 # Counts number of times the node is visited during the search \r\n",
        "        self.to_play = -1\r\n",
        "        self.prior = prior \r\n",
        "        self.value_sum = 0\r\n",
        "        self.children = {} # Contains the children node in the MCTS tree\r\n",
        "        self.hidden_state = None\r\n",
        "        self.reward = 0 # Immediate reward given by the dynamics function \r\n",
        "\r\n",
        "    def expanded(self) -> bool: # Is the node terminal or expanded (does it have chidren nodes or not ?)\r\n",
        "        return len(self.children) > 0 \r\n",
        "\r\n",
        "    def value(self) -> Optional[float]: \r\n",
        "        if self.visit_count == 0:\r\n",
        "            return None\r\n",
        "        return self.value_sum / self.visit_count"
      ],
      "execution_count": null,
      "outputs": []
    },
    {
      "cell_type": "markdown",
      "metadata": {
        "id": "zIsC9Qj4-JfL"
      },
      "source": [
        "## Notion de jeu <a class=\"anchor\" id=\"jeu\"></a>"
      ]
    },
    {
      "cell_type": "markdown",
      "metadata": {
        "id": "gUZH3PyW-L2S"
      },
      "source": [
        "La première étape pour implémenter notre algorithme MuZero est d'implémenter la notion de jeu. En effet, les classes suivantes donnent un cadre pour les concepts de base nécessaire aux algorithmes de Reinforcement Learning : les actions (ainsi que l'historique des actions effectuées), les joueurs (non utile en pratique puisque l'algorithme joue seul) et surtout les jeux."
      ]
    },
    {
      "cell_type": "markdown",
      "metadata": {
        "id": "gtJKm33EFbWS"
      },
      "source": [
        "### Classes abstraites <a class=\"anchor\" id=\"classes_abstraites\"></a>"
      ]
    },
    {
      "cell_type": "code",
      "metadata": {
        "id": "jK9ikFo5-Urx"
      },
      "source": [
        "class Action(object):\r\n",
        "    \"\"\" Class that represent an action of a game.\"\"\"\r\n",
        "\r\n",
        "    def __init__(self, index: int):\r\n",
        "        self.index = index\r\n",
        "\r\n",
        "    def __hash__(self):\r\n",
        "        return self.index\r\n",
        "\r\n",
        "    def __eq__(self, other):\r\n",
        "        return self.index == other.index\r\n",
        "\r\n",
        "    def __gt__(self, other):\r\n",
        "        return self.index > other.index"
      ],
      "execution_count": null,
      "outputs": []
    },
    {
      "cell_type": "code",
      "metadata": {
        "id": "DTrm6qR8_Elq"
      },
      "source": [
        "class Player(object):\r\n",
        "    \"\"\"\r\n",
        "    A one player class.\r\n",
        "    This class is useless, it's here for legacy purpose and for potential adaptations for a two players MuZero.\r\n",
        "    \"\"\"\r\n",
        "\r\n",
        "    def __eq__(self, other):\r\n",
        "        return True"
      ],
      "execution_count": null,
      "outputs": []
    },
    {
      "cell_type": "code",
      "metadata": {
        "id": "MWSxOgfl_ObD"
      },
      "source": [
        "class ActionHistory(object):\r\n",
        "    \"\"\"\r\n",
        "    Simple history container used inside the search.\r\n",
        "    Only used to keep track of the actions executed.\r\n",
        "    \"\"\"\r\n",
        "\r\n",
        "    def __init__(self, history: List[Action], action_space_size: int):\r\n",
        "        self.history = list(history) #Initialize the actions' history container \r\n",
        "        self.action_space_size = action_space_size \r\n",
        "\r\n",
        "    def clone(self):\r\n",
        "        return ActionHistory(self.history, self.action_space_size)\r\n",
        "\r\n",
        "    def add_action(self, action: Action): # Creates the history through the action taken (abstract class Action defined two cells above)\r\n",
        "        self.history.append(action)\r\n",
        "\r\n",
        "    def last_action(self) -> Action: # Allows to retrieve last action taken\r\n",
        "        return self.history[-1]\r\n",
        "\r\n",
        "    def action_space(self) -> List[Action]: \r\n",
        "        return [Action(i) for i in range(self.action_space_size)]\r\n",
        "\r\n",
        "    def to_play(self) -> Player: # See abstract and unused class Player() in the above cell \r\n",
        "        return Player()"
      ],
      "execution_count": null,
      "outputs": []
    },
    {
      "cell_type": "markdown",
      "metadata": {
        "id": "gOdLfCaB_6SY"
      },
      "source": [
        "La classe suivante, `AbstractGame` est une classe abstraite implémentant la structure générale d'un jeu. Un jeu doit contenir les rewards et les actions associées à chaque tour mais aussi le facteur de discount pour calculer la value target. Il est important de noter qu'une instance de cette classe représente un seul état du jeu et est donc valide pendant un unique tour.\r\n",
        "\r\n",
        "Parmis les fonctions que cette classe implémente, la fonction `make_target()` est à noter. Celle-ci permet de calculer les targets, c'est à dire les policy, value et reward cibles pouvant être atteintes à l'issue d'un tour. Pour la value target il s'agit de la value à la racine multipliée par le facteur de discount exposant `td_steps` le nombre d'étapes hypothétiques futures choisies pour ce calcul, à laquelle s'ajoute la somme des rewards discountées entre cette derière étape hypothétique et la racine. C'est à partir de ces différentes targets (appelées quantités cibles dans le rapport) que l'algorithme pourra apprendre pendant la phase d'entraînement.\r\n",
        "\r\n",
        "Le jeu du CartPole implémenté par la suite hérite de cette classe et redéfinit les différentes fonctions abstraites propres à chaque jeu."
      ]
    },
    {
      "cell_type": "code",
      "metadata": {
        "id": "Z6BGMTeo_Knx"
      },
      "source": [
        "class AbstractGame(ABC):\r\n",
        "    \"\"\"\r\n",
        "    Abstract class that allows to implement a game.\r\n",
        "    One instance represent a single episode of interaction with the environment.\r\n",
        "    \"\"\"\r\n",
        "\r\n",
        "    def __init__(self, discount: float):\r\n",
        "        self.history = [] \r\n",
        "        self.rewards = []\r\n",
        "        self.child_visits = []\r\n",
        "        self.root_values = []\r\n",
        "        self.discount = discount\r\n",
        "\r\n",
        "    def apply(self, action: Action):\r\n",
        "        \"\"\"Apply an action onto the environment.\"\"\"\r\n",
        "\r\n",
        "        reward = self.step(action) # Apply the action on the environment \r\n",
        "        self.rewards.append(reward) # Stores the immediate reward of the action \r\n",
        "        self.history.append(action) # Stores the action in the ActionHistory\r\n",
        "\r\n",
        "    def store_search_statistics(self, root: Node):\r\n",
        "        \"\"\"After each MCTS run, store the statistics generated by the search.\"\"\"\r\n",
        "\r\n",
        "        sum_visits = sum(child.visit_count for child in root.children.values())\r\n",
        "        action_space = (Action(index) for index in range(self.action_space_size))\r\n",
        "        self.child_visits.append([\r\n",
        "            root.children[a].visit_count / sum_visits if a in root.children else 0\r\n",
        "            for a in action_space\r\n",
        "        ])\r\n",
        "        self.root_values.append(root.value())\r\n",
        "\r\n",
        "    def make_target(self, state_index: int, num_unroll_steps: int, td_steps: int, to_play: Player):\r\n",
        "        \"\"\"Generate targets to learn from during the network training.\"\"\"\r\n",
        "\r\n",
        "        # The value target is the discounted root value of the search tree td_steps steps\r\n",
        "        # into the future, plus the discounted sum of all rewards until then.\r\n",
        "        targets = []\r\n",
        "        for current_index in range(state_index, state_index + num_unroll_steps + 1):\r\n",
        "            bootstrap_index = current_index + td_steps\r\n",
        "            if bootstrap_index < len(self.root_values):\r\n",
        "                value = self.root_values[bootstrap_index] * self.discount ** td_steps # Computes the bootstrap index discounted target value term \r\n",
        "            else:\r\n",
        "                value = 0\r\n",
        "\r\n",
        "            for i, reward in enumerate(self.rewards[current_index:bootstrap_index]):\r\n",
        "                value += reward * self.discount ** i # Computes the target value for the training \r\n",
        "\r\n",
        "            if current_index < len(self.root_values):\r\n",
        "                targets.append((value, self.rewards[current_index], self.child_visits[current_index])) \r\n",
        "                # Stores the targets for the training : value which has just been caclulated \r\n",
        "            else:\r\n",
        "                # States past the end of games are treated as absorbing states.\r\n",
        "                targets.append((0, 0, []))\r\n",
        "\r\n",
        "        return targets\r\n",
        "\r\n",
        "    def to_play(self) -> Player:\r\n",
        "        \"\"\"Return the current player.\"\"\"\r\n",
        "        return Player()\r\n",
        "\r\n",
        "    def action_history(self) -> ActionHistory:\r\n",
        "        \"\"\"Return the actions executed inside the search.\"\"\"\r\n",
        "        return ActionHistory(self.history, self.action_space_size)\r\n",
        "\r\n",
        "    # Methods to be implemented by the child class\r\n",
        "    @property\r\n",
        "    @abstractmethod\r\n",
        "    def action_space_size(self) -> int:\r\n",
        "        \"\"\"Return the size of the action space.\"\"\"\r\n",
        "        pass\r\n",
        "\r\n",
        "    @abstractmethod\r\n",
        "    def step(self, action) -> int:\r\n",
        "        \"\"\"Execute one step of the game conditioned by the given action.\"\"\"\r\n",
        "        pass\r\n",
        "\r\n",
        "    @abstractmethod\r\n",
        "    def terminal(self) -> bool:\r\n",
        "        \"\"\"Is the game is finished?\"\"\"\r\n",
        "        pass\r\n",
        "\r\n",
        "    @abstractmethod\r\n",
        "    def legal_actions(self) -> List[Action]:\r\n",
        "        \"\"\"Return the legal actions available at this instant.\"\"\"\r\n",
        "        pass\r\n",
        "\r\n",
        "    @abstractmethod\r\n",
        "    def make_image(self, state_index: int):\r\n",
        "        \"\"\"Compute the state of the game.\"\"\"\r\n",
        "        pass"
      ],
      "execution_count": null,
      "outputs": []
    },
    {
      "cell_type": "markdown",
      "metadata": {
        "id": "-f0S4IRCBYZN"
      },
      "source": [
        "### Standardisation des observations <a class=\"anchor\" id=\"standardisation\"></a>"
      ]
    },
    {
      "cell_type": "markdown",
      "metadata": {
        "id": "x2Tor5oACXIe"
      },
      "source": [
        "The goal of this class is to take the observations and applying a min-max scaling on them so they are between -1 and 1.\r\n",
        "\r\n",
        "Cette classe permet de standardiser les observations via la méthode min-max, le but étant de les ramener entre -1 et 1 et que leur moyenne soit nulle. Pour ce faire, cette classe hérite de la classe `ObservationWrapper` déjà implémentée dans la bibliothèque `gym`. Les wrappers fournis par `gym` sont des outils puissants permettant d'ajouter des fonctionnalités aux différents environnements fournis, ici la standardisation des observations pour les rendre utilisables par notre algorithme.\r\n",
        "\r\n",
        "Les paramètres `low` et `high` passés à cette classe dépendent du jeu choisi, ce sont des vecteurs de la même dimension que les observations du jeu. Ils correspondent en fait aux valeurs maximales et minimales que peuvent prendre chacune des dimensions de l'observation. Pour les jeux de la bibliothèque `Gym` ces valeurs sont très souvent précisées dans le fichier implémentant le jeu dans le dossier https://github.com/openai/gym/tree/master/gym/envs. "
      ]
    },
    {
      "cell_type": "code",
      "metadata": {
        "id": "j0d6SoPlBXen"
      },
      "source": [
        "class ScalingObservationWrapper(gym.ObservationWrapper):\r\n",
        "    \"\"\"\r\n",
        "    Wrapper that apply a min-max scaling of observations.\r\n",
        "    \"\"\"\r\n",
        "\r\n",
        "    def __init__(self, env, low=None, high=None):\r\n",
        "        super().__init__(env)\r\n",
        "        assert isinstance(env.observation_space, gym.spaces.Box)\r\n",
        "\r\n",
        "        '''\r\n",
        "        Ces trois print permettent de voir la dimension des observations du jeu considéré\r\n",
        "        ainsi que leurs valeurs extrémales.\r\n",
        "        print(self.observation_space)\r\n",
        "        print(self.observation_space.low)\r\n",
        "        print(self.observation_space.high)\r\n",
        "        '''\r\n",
        "\r\n",
        "        low = np.array(self.observation_space.low if low is None else low)\r\n",
        "        high = np.array(self.observation_space.high if high is None else high)\r\n",
        "\r\n",
        "        self.mean = (high + low) / 2\r\n",
        "        self.max = high - self.mean\r\n",
        "\r\n",
        "    def observation(self, observation):\r\n",
        "        return (observation - self.mean) / self.max"
      ],
      "execution_count": null,
      "outputs": []
    },
    {
      "cell_type": "markdown",
      "metadata": {
        "id": "2hu2TfxCA4ik"
      },
      "source": [
        "### Le jeu du CartPole <a class=\"anchor\" id=\"jeu_cartpole\"></a>"
      ]
    },
    {
      "cell_type": "markdown",
      "metadata": {
        "id": "GW762Y9tBE8Z"
      },
      "source": [
        "Le jeu du CartPole consiste à essayer de maintenir droit un pendule inversé situé sur une plateforme pouvant se déplacer sur un axe horizontal en applicant des forces sur la plateforme. Pour l'implémenter la classe `CartPole` hérite de `AbstractGame` et s'appuie surtout sur l'environnement `CartPole-v1` présent dans la bibliothèque `Gym` (https://gym.openai.com/envs/CartPole-v1/) et dont le code source est disponible ici: https://github.com/openai/gym/blob/master/gym/envs/classic_control/cartpole.py.\r\n",
        "\r\n",
        "Il est important de noter que l'attribut actions content la liste de toutes les actions possibles dans ce jeu, directement fournies par l'environnement. Les méthodes implémentées permettent notament d'effectuer une étape du jeu à partir de l'action choisie, d'indiquer si un jeu est terminé ou non ou encore de produire une observation à partir des états du jeu.\r\n",
        "\r\n",
        "Pour ce jeu les observations sont de dimension 4 et les dimensions du vecteur correspondent à `[position du cart, vitesse du cart, angle de la tige, vitesse de rotation de la tige]`. Il y a deux actions possibles qui sont déplacer le cart vers la droite ou le déplacer vers la gauche. La reward est de 1 pour chaque étape supplémentaire réussie (i.e. lorsque la barre ne tombe pas)."
      ]
    },
    {
      "cell_type": "code",
      "metadata": {
        "id": "FcjWjPB3A6-X"
      },
      "source": [
        "class CartPole(AbstractGame):\r\n",
        "    \"\"\"\r\n",
        "    The Gym CartPole environment\r\n",
        "    Define the abstract functions of the AbstractGame() class define previously to fit the CartPole game and environment\r\n",
        "    \"\"\"\r\n",
        "    def __init__(self, discount: float):\r\n",
        "        super().__init__(discount)\r\n",
        "        # Load the game environment from gym\r\n",
        "        self.env = gym.make('CartPole-v1')\r\n",
        "        # Use previously presented function to scale observations between -1 and 1 (null mean)\r\n",
        "        self.env = ScalingObservationWrapper(self.env, low=[-2.4, -2.0, -0.42, -3.5], high=[2.4, 2.0, 0.42, 3.5]) \r\n",
        "        # Initialize all possible actions of the game\r\n",
        "        self.actions = list(map(lambda i: Action(i), range(self.env.action_space.n)))\r\n",
        "        self.observations = [self.env.reset()]\r\n",
        "        self.done = False\r\n",
        "\r\n",
        "    @property\r\n",
        "    # Define useful functions specific to the game (concrete functions of class AbstractGame())\r\n",
        "    def action_space_size(self) -> int:\r\n",
        "        \"\"\"Return the size of the action space.\"\"\"\r\n",
        "        return len(self.actions)\r\n",
        "\r\n",
        "    def step(self, action) -> int:\r\n",
        "        \"\"\"Execute one step of the game conditioned by the given action.\"\"\"\r\n",
        "\r\n",
        "        observation, reward, done, _ = self.env.step(action.index)\r\n",
        "        self.observations += [observation]\r\n",
        "        self.done = done\r\n",
        "        return reward\r\n",
        "\r\n",
        "    def terminal(self) -> bool:\r\n",
        "        \"\"\"Is the game is finished?\"\"\"\r\n",
        "        return self.done\r\n",
        "\r\n",
        "    def legal_actions(self) -> List[Action]:\r\n",
        "        \"\"\"Return the legal actions available at this instant.\"\"\"\r\n",
        "        return self.actions\r\n",
        "\r\n",
        "    def make_image(self, state_index: int):\r\n",
        "        \"\"\"Compute the state of the game.\"\"\"\r\n",
        "        return self.observations[state_index]"
      ],
      "execution_count": null,
      "outputs": []
    },
    {
      "cell_type": "markdown",
      "metadata": {
        "id": "H3fN54sYvnhV"
      },
      "source": [
        "### Autre jeu : Acrobot <a class=\"anchor\" id=\"jeu_acrobot\"></a>"
      ]
    },
    {
      "cell_type": "markdown",
      "metadata": {
        "id": "gJ1o49O9EI5v"
      },
      "source": [
        "En plus du jeu du CartPole implémenté nous avons tené d'ajouter un nouveau jeu, Acrobot. L'environnement de ce jeu est implémenté dans la bibliothèque `Gym` aussi et c'est un jeu en 1D. Les observations sont de dimension 6: `[cos(theta1) sin(theta1) cos(theta2) sin(theta2) thetaDot1 thetaDot2]`. Il y a 3 actions possibles: appliquer un couple de -1, 0 ou 1 sur la jointure entre les deux pendules. \r\n",
        "\r\n",
        "Le code source de ce jeu peut être trouvé sur la page https://github.com/openai/gym/blob/master/gym/envs/classic_control/acrobot.py. En parcourant un peu ce code on eut constater que la principale différence entre CartPole et ce jeu est que la reward peut être -1 ou 0 et donc elle n'est pas toujours positive."
      ]
    },
    {
      "cell_type": "code",
      "metadata": {
        "id": "zIh7AjYnv2b1"
      },
      "source": [
        "class Acrobot(AbstractGame):\r\n",
        "    \"\"\"The Gym Acrobot environment\"\"\"\r\n",
        "\r\n",
        "    def __init__(self, discount: float):\r\n",
        "        super().__init__(discount)\r\n",
        "        self.env = gym.make('Acrobot-v1')\r\n",
        "        self.env = ScalingObservationWrapper(self.env, low=[-1, -1, -1, -1, -3.15, -3.15], high=[1, 1, 1, 1, 3.15, 3.15])\r\n",
        "        self.actions = list(map(lambda i: Action(i), range(self.env.action_space.n)))\r\n",
        "        self.observations = [self.env.reset()]\r\n",
        "        self.done = False\r\n",
        "\r\n",
        "    @property\r\n",
        "    def action_space_size(self) -> int:\r\n",
        "        \"\"\"Return the size of the action space.\"\"\"\r\n",
        "        return len(self.actions)\r\n",
        "\r\n",
        "    def step(self, action) -> int:\r\n",
        "        \"\"\"Execute one step of the game conditioned by the given action.\"\"\"\r\n",
        "\r\n",
        "        observation, reward, done, _ = self.env.step(action.index)\r\n",
        "        self.observations += [observation]\r\n",
        "        self.done = done\r\n",
        "        return reward\r\n",
        "\r\n",
        "    def terminal(self) -> bool:\r\n",
        "        \"\"\"Is the game is finished?\"\"\"\r\n",
        "        return self.done\r\n",
        "\r\n",
        "    def legal_actions(self) -> List[Action]:\r\n",
        "        \"\"\"Return the legal actions available at this instant.\"\"\"\r\n",
        "        return self.actions\r\n",
        "\r\n",
        "    def make_image(self, state_index: int):\r\n",
        "        \"\"\"Compute the state of the game.\"\"\"\r\n",
        "        return self.observations[state_index]"
      ],
      "execution_count": null,
      "outputs": []
    },
    {
      "cell_type": "markdown",
      "metadata": {
        "id": "pVFoLORADy_A"
      },
      "source": [
        "## Réseaux <a class=\"anchor\" id=\"reseaux\"></a>"
      ]
    },
    {
      "cell_type": "markdown",
      "metadata": {
        "id": "hTvXC8-zljqe"
      },
      "source": [
        "Dans cette section sont implémentés les réseaux que contient l'algorithme MuZero. En effet, ces derniers sont nécessaires pour définir :\r\n",
        "- La fonction de représentation, pour obtenir l'état interne initial au temps $t$ : $s^0$.\r\n",
        "- La fonction de dynamique, pour obtenir la reward immédiate $r^k$ et l'état interne $s^k$ à l'étape hypothétique $k$.\r\n",
        "- La fonction de prédiction, pour obtenir la politique $p^k$ et la value $v^k$ à l'étape hypothétique $k$.\r\n",
        "\r\n",
        "Plutôt que de faire un réseau par fonction, cette implémentation fait un réseau pour prédire la value, un pour la reward, un portant le nom de `dynamic_network` permettant de prédire l'état caché de l'étape hypothétique suivante, un dénommé `representation_network` servant de fonction de représentation et enfin un pour la politique."
      ]
    },
    {
      "cell_type": "markdown",
      "metadata": {
        "id": "PbVxDQl3Fo8L"
      },
      "source": [
        "### Les classes de base <a class=\"anchor\" id=\"classes_base\"></a>"
      ]
    },
    {
      "cell_type": "markdown",
      "metadata": {
        "id": "UBtwMW0lsgAS"
      },
      "source": [
        "Les 6 classes suivantes sont des classes nécessaires pour implémenter la structure de base du réseau de l'algorithme MuZero. La classe abstraite `BaseNetwork` qui représente cette structure devra ensuite être héritée par une classe représentant le réseau spécifique au jeu choisi."
      ]
    },
    {
      "cell_type": "markdown",
      "metadata": {
        "id": "rlMYf8EOuZbF"
      },
      "source": [
        "Cette classe implémente la sortie d'un réseau à la fin d'une étape hypothétique $k$, elle est constituée d'une value, une reward immédiate, une politique sous forme de liste de probabilités. Grâce à sa fonction `build_policy_logits` elle peut renvoyer la politique sous forme de dictionnaire associant à chaque action sa probabilité."
      ]
    },
    {
      "cell_type": "code",
      "metadata": {
        "id": "-DLwSlA-FJVe"
      },
      "source": [
        "class NetworkOutput(typing.NamedTuple):\r\n",
        "    value: float\r\n",
        "    reward: float\r\n",
        "    policy_logits: Dict[Action, float]\r\n",
        "    hidden_state: typing.Optional[List[float]]\r\n",
        "\r\n",
        "    @staticmethod\r\n",
        "    def build_policy_logits(policy_logits):\r\n",
        "        return {Action(i): logit for i, logit in enumerate(policy_logits[0])}"
      ],
      "execution_count": null,
      "outputs": []
    },
    {
      "cell_type": "code",
      "metadata": {
        "id": "y8xCv4GjFLvA"
      },
      "source": [
        "class AbstractNetwork(ABC):\r\n",
        "\r\n",
        "    def __init__(self):\r\n",
        "        self.training_steps = 0\r\n",
        "\r\n",
        "    @abstractmethod\r\n",
        "    def initial_inference(self, image) -> NetworkOutput:\r\n",
        "        pass\r\n",
        "\r\n",
        "    @abstractmethod\r\n",
        "    def recurrent_inference(self, hidden_state, action) -> NetworkOutput:\r\n",
        "        pass"
      ],
      "execution_count": null,
      "outputs": []
    },
    {
      "cell_type": "markdown",
      "metadata": {
        "id": "chqKZq5S95qc"
      },
      "source": [
        "Le réseau uniforme est un réseau de base renvoyant dans tous les cas, peu importe que l'on soit en inférence initiale ou récursive, une value nulle, une reward nulle, un état interne vide et comme son nom l'indique une politique uniforme associant la même probabilité à chaque action."
      ]
    },
    {
      "cell_type": "code",
      "metadata": {
        "id": "8w9GU-jAFPCW"
      },
      "source": [
        "class UniformNetwork(AbstractNetwork):\r\n",
        "\r\n",
        "    def __init__(self, action_size: int):\r\n",
        "        super().__init__()\r\n",
        "        self.action_size = action_size\r\n",
        "\r\n",
        "    def initial_inference(self, image) -> NetworkOutput:\r\n",
        "        return NetworkOutput(0, 0, {Action(i): 1 / self.action_size for i in range(self.action_size)}, None)\r\n",
        "\r\n",
        "    def recurrent_inference(self, hidden_state, action) -> NetworkOutput:\r\n",
        "        return NetworkOutput(0, 0, {Action(i): 1 / self.action_size for i in range(self.action_size)}, None)"
      ],
      "execution_count": null,
      "outputs": []
    },
    {
      "cell_type": "markdown",
      "metadata": {
        "id": "oq9UAYPp-J1k"
      },
      "source": [
        "Le modèle initial permet d'obtenir tous les éléments nécessaires à l'étape hypothétique 0 : l'état caché initial $s^0$ à l'instant $t$ à partir des observations du jeu à cet instant ainsi que la value initiale et la politique initiale. Il n'y a pas besoin de reward initiale puisque pour l'état initial celle-ci est nulle. \r\n",
        "\r\n",
        "Concernant l'état initial $k=0$, $s^{0}$ est obtenue par la fonction de représentation. La politique et la valeur sont ensuite obtenues grâce à la fonction de prediction (précisions données dans le rapport). La divergence entre le code est le papier est, comme précisé au dessus, qu'au lieu de faire un réseau pour chaque fonction (représentation, dynamique et prédiction), le code construit un réseau pour les différentes quantités. Plus précisément, il sépare la fonction dynamique en un réseau pour prédire la reward et un réseau pour prédire l'état caché de l'étape hypothétique suivante. La fonction de représentation est conservée en un réseau (permet de calculer $s^{0}$). Enfin, la fonction de prédiction est séparée en un réseau qui prédit la politique et un réseau qui prédit la value. \r\n",
        "\r\n",
        "Si l'on revient au modèle initial on va alors utiliser le réseau de la représentation pour obtenir $s^{0}$. Puis à partir de cette donnée, on utilise le réseau de la politique et le réseau de la value pour prédire ces quantités. "
      ]
    },
    {
      "cell_type": "code",
      "metadata": {
        "id": "CyHppCY7FSql"
      },
      "source": [
        "class InitialModel(Model):\r\n",
        "\r\n",
        "    def __init__(self, representation_network: Model, value_network: Model, policy_network: Model):\r\n",
        "        super(InitialModel, self).__init__()\r\n",
        "        self.representation_network = representation_network # Retrieve the representation function through the network\r\n",
        "        self.value_network = value_network # Retrieve value netork\r\n",
        "        self.policy_network = policy_network # Retrieve policy network\r\n",
        "\r\n",
        "    def call(self, image):\r\n",
        "        hidden_representation = self.representation_network(image) # s_0 value obtained via representation network (function)\r\n",
        "        value = self.value_network(hidden_representation) # Initial value from s_0 and the network of the value\r\n",
        "        policy_logits = self.policy_network(hidden_representation) # Initial value from s_0 and the network of the value\r\n",
        "        return hidden_representation, value, policy_logits"
      ],
      "execution_count": null,
      "outputs": []
    },
    {
      "cell_type": "markdown",
      "metadata": {
        "id": "0lZ-eD3H-lbb"
      },
      "source": [
        "Le modèle récurrent permet de passer à l'étape hypothétique suivante à partir de l'état caché et l'action de la précédente. Il est important de noter que celui-ci ne dispose pas directement de l'action mais plutôt de la variable `conditioned_hidden` constituée de la concaténation de l'état caché avec l'action. La production de cette variable est implémentée dans le réseau spécifique à notre jeu.\r\n",
        "\r\n",
        "Par rapport au modèle initial qui n'avait besoin que du réseau de représentation (pour calculer $s^{0}$), le réseau de prédiction de la politique et le réseau de prédiction de la value, les états cachés suivants n'utilisent plus le réseau de représentation. De plus, ils vont utiliser les réseaux qui représentent la fonction de dynamique : \r\n",
        "$$\r\n",
        "r^{k}, s^{k} = f_\\theta(s^{k-1}, a^{k})\r\n",
        "$$\r\n",
        "Le modèle possède pour ce faire, comme présenté plus tôt, le réseau pour prédire la reward $r^{k}$ à partir de `conditioned_hidden` (composé de $s^{k-1}$ et $a^{k}$) et le réseau pour prédire l'état caché $s^{k}$ de l'étape suivante hypothétique. Voyons ensuite comment cela s'organise."
      ]
    },
    {
      "cell_type": "code",
      "metadata": {
        "id": "Ch5xFtjpFU9_"
      },
      "source": [
        "class RecurrentModel(Model):\r\n",
        "\r\n",
        "    def __init__(self, dynamic_network: Model, reward_network: Model, value_network: Model, policy_network: Model):\r\n",
        "        super(RecurrentModel, self).__init__()\r\n",
        "        self.dynamic_network = dynamic_network # Retrieve network to compute hypothetical step hidden state (from the previous hidden state and action in conditioned_hidden, \r\n",
        "                                               # first state initialized in above cell with representation_network)\r\n",
        "        self.reward_network = reward_network # Retrieve network to compute reward from hidden state and action (conditioned_hidden variable)\r\n",
        "        self.value_network = value_network # As in initial step, retrieve network to compute value from hidden state\r\n",
        "        self.policy_network = policy_network # As in initial step, retrieve network to compute policy from hidden state\r\n",
        "\r\n",
        "    def call(self, conditioned_hidden):\r\n",
        "        hidden_representation = self.dynamic_network(conditioned_hidden) # calculate s_k from s_k-1 and a_k (dynamic function quantity 1)\r\n",
        "        reward = self.reward_network(conditioned_hidden) # r_k from s_k-1 and a_k (dynamic function quantity 2)\r\n",
        "        value = self.value_network(hidden_representation) \r\n",
        "        policy_logits = self.policy_network(hidden_representation)\r\n",
        "        return hidden_representation, reward, value, policy_logits"
      ],
      "execution_count": null,
      "outputs": []
    },
    {
      "cell_type": "markdown",
      "metadata": {
        "id": "7rSJIs5w_ARX"
      },
      "source": [
        "La classe suivante est une classe abstraite représentant la structure de base du réseau de l'algorithme MuZero. Ce réseau permet de produire les éléments pour l'étape hypothétique initiale grâce à sa méthode `initial_inference` mais aussi de passer d'une étape hypothétique du jeu à la suivante grâce à la méthode `recurrent_inference`. La fonction `cb_get_variables` permet au réseau de renvoyer tous ses éléments pouvant être entraînés. Les autres fonctions sont abstraites et concernent plutôt la manière d'obtenir la value, la reward et la représententation jointe d'un état caché avec son action. En résumé, cette clase BaseNetwork construit la structure du jeu à partir des deux réseaux (initial et récurrent) pour pouvoir passer d'une étape à l'autre. "
      ]
    },
    {
      "cell_type": "code",
      "metadata": {
        "id": "rP9XC9l5ENj_"
      },
      "source": [
        "class BaseNetwork(AbstractNetwork):\r\n",
        "\r\n",
        "    def __init__(self, representation_network: Model, value_network: Model, policy_network: Model,\r\n",
        "                 dynamic_network: Model, reward_network: Model):\r\n",
        "        super().__init__()\r\n",
        "        # Networks blocks\r\n",
        "        self.representation_network = representation_network\r\n",
        "        self.value_network = value_network\r\n",
        "        self.policy_network = policy_network\r\n",
        "        self.dynamic_network = dynamic_network\r\n",
        "        self.reward_network = reward_network\r\n",
        "\r\n",
        "        # Models for inference and training\r\n",
        "        self.initial_model = InitialModel(self.representation_network, self.value_network, self.policy_network)\r\n",
        "        self.recurrent_model = RecurrentModel(self.dynamic_network, self.reward_network, self.value_network,\r\n",
        "                                              self.policy_network)\r\n",
        "\r\n",
        "    def initial_inference(self, image: np.array) -> NetworkOutput:\r\n",
        "        \"\"\"representation + prediction function\"\"\"\r\n",
        "\r\n",
        "        hidden_representation, value, policy_logits = self.initial_model.predict(np.expand_dims(image, 0)) \r\n",
        "        output = NetworkOutput(value=self._value_transform(value),\r\n",
        "                               reward=0.,\r\n",
        "                               policy_logits=NetworkOutput.build_policy_logits(policy_logits),\r\n",
        "                               hidden_state=hidden_representation[0])\r\n",
        "        return output\r\n",
        "\r\n",
        "    def recurrent_inference(self, hidden_state: np.array, action: Action) -> NetworkOutput:\r\n",
        "        \"\"\"dynamics + prediction function\"\"\"\r\n",
        "\r\n",
        "        conditioned_hidden = self._conditioned_hidden_state(hidden_state, action)\r\n",
        "        hidden_representation, reward, value, policy_logits = self.recurrent_model.predict(conditioned_hidden)\r\n",
        "        output = NetworkOutput(value=self._value_transform(value),\r\n",
        "                               reward=self._reward_transform(reward),\r\n",
        "                               policy_logits=NetworkOutput.build_policy_logits(policy_logits),\r\n",
        "                               hidden_state=hidden_representation[0])\r\n",
        "        return output\r\n",
        "\r\n",
        "    @abstractmethod\r\n",
        "    def _value_transform(self, value: np.array) -> float:\r\n",
        "        pass\r\n",
        "\r\n",
        "    @abstractmethod\r\n",
        "    def _reward_transform(self, reward: np.array) -> float:\r\n",
        "        pass\r\n",
        "\r\n",
        "    @abstractmethod\r\n",
        "    def _conditioned_hidden_state(self, hidden_state: np.array, action: Action) -> np.array:\r\n",
        "        pass\r\n",
        "\r\n",
        "    def cb_get_variables(self) -> Callable:\r\n",
        "        \"\"\"Return a callback that return the trainable variables of the network.\"\"\"\r\n",
        "\r\n",
        "        def get_variables():\r\n",
        "            networks = (self.representation_network, self.value_network, self.policy_network,\r\n",
        "                        self.dynamic_network, self.reward_network)\r\n",
        "            return [variables\r\n",
        "                    for variables_list in map(lambda n: n.weights, networks)\r\n",
        "                    for variables in variables_list]\r\n",
        "\r\n",
        "        return get_variables"
      ],
      "execution_count": null,
      "outputs": []
    },
    {
      "cell_type": "markdown",
      "metadata": {
        "id": "IH-ETawXVxaU"
      },
      "source": [
        "### Sauvegarde du réseau <a class=\"anchor\" id=\"sauvegarde_reseau\"></a>"
      ]
    },
    {
      "cell_type": "markdown",
      "metadata": {
        "id": "2ExcHxtbV3RU"
      },
      "source": [
        "Cette classe permet de sauvegarder les différentes versions du réseau. Elle contient une liste des différents réseaux obtenus au fur et à mesure de l'entraînement et peut y ajouter de nouveaux réseaux mais aussi revenir à un réseau antérieur."
      ]
    },
    {
      "cell_type": "code",
      "metadata": {
        "id": "TXI65vVuV0i_"
      },
      "source": [
        "class SharedStorage(object):\r\n",
        "    \"\"\"Save the different versions of the network.\"\"\"\r\n",
        "\r\n",
        "    def __init__(self, network: BaseNetwork, uniform_network: UniformNetwork, optimizer: tf.keras.optimizers):\r\n",
        "        self._networks = {}\r\n",
        "        self.current_network = network\r\n",
        "        self.uniform_network = uniform_network\r\n",
        "        self.optimizer = optimizer\r\n",
        "\r\n",
        "    def latest_network(self) -> AbstractNetwork:\r\n",
        "        if self._networks:\r\n",
        "            return self._networks[max(self._networks.keys())]\r\n",
        "        else:\r\n",
        "            # policy -> uniform, value -> 0, reward -> 0\r\n",
        "            return self.uniform_network\r\n",
        "\r\n",
        "    def save_network(self, step: int, network: BaseNetwork):\r\n",
        "        self._networks[step] = network"
      ],
      "execution_count": null,
      "outputs": []
    },
    {
      "cell_type": "markdown",
      "metadata": {
        "id": "dWezqXWcSc0w"
      },
      "source": [
        "### Le réseau du CartPole <a class=\"anchor\" id=\"reseau_cartpole\"></a>"
      ]
    },
    {
      "cell_type": "markdown",
      "metadata": {
        "id": "QbCd_CqjVZOP"
      },
      "source": [
        "Cette classe implémente le réseau spécifique au jeu du CartPole, elle s'appuie sur la structure nécessaire pour MuZero en héritant de la classe `BaseNetwork`. On constate que contrairement à l'article les réseaux utilisés ne sont pas des réseaux convolutionnels, notamment pour le réseau de représentation. En effet, le jeu étant en 1D l'apprentissage de sa représentation à partir de son observation peut être effectué directement grâce à des MLP. On note aussi comme dans l'article l'utilisation d'une régularisation L2.\r\n",
        "\r\n",
        "La fonction `_value_transform` fait écho à l'annexe F de l'article. Cette fonction reçoit la value sous la forme d'un vecteur de taille `value_support_size`, la transforme en nombre avec un softmax puis au lieu de renvoyer directement cette valeur il renvoie son image par une fonction $h$. Plutôt que d'utiliser la fonction $h$ de l'article l'implémentation de Johan Gras prend une fonction plus facilement inversible qui revient à prendre le carré de la value."
      ]
    },
    {
      "cell_type": "code",
      "metadata": {
        "id": "3l6hZXwPSmi4"
      },
      "source": [
        "class CartPoleNetwork(BaseNetwork):\r\n",
        "    # Initialisation of Cartpole game specific parameters\r\n",
        "    def __init__(self,\r\n",
        "                 state_size: int,\r\n",
        "                 action_size: int,\r\n",
        "                 representation_size: int,\r\n",
        "                 max_value: int,\r\n",
        "                 hidden_neurons: int = 64,\r\n",
        "                 weight_decay: float = 1e-4,\r\n",
        "                 representation_activation: str = 'tanh',\r\n",
        "                 loaded: bool = False,\r\n",
        "                 representation_network_file = None,\r\n",
        "                 value_network_file = None,\r\n",
        "                 policy_network_file = None,\r\n",
        "                 dynamic_network_file = None,\r\n",
        "                 reward_network_file = None):\r\n",
        "        self.state_size = state_size\r\n",
        "        self.action_size = action_size\r\n",
        "        self.representation_size = representation_size\r\n",
        "        self.value_support_size = math.ceil(math.sqrt(max_value)) + 1\r\n",
        "\r\n",
        "        self.max_value = max_value\r\n",
        "        self.hidden_neurons = hidden_neurons\r\n",
        "        self.weight_decay = weight_decay\r\n",
        "        self.representation_activation = representation_activation\r\n",
        "\r\n",
        "        regularizer = regularizers.l2(weight_decay)\r\n",
        "        # Network structure specification\r\n",
        "        if loaded:\r\n",
        "            representation_network = load_model(representation_network_file)\r\n",
        "            value_network = load_model(value_network_file)\r\n",
        "            policy_network = load_model(policy_network_file)\r\n",
        "            dynamic_network = load_model(dynamic_network_file)\r\n",
        "            reward_network = load_model(reward_network_file)\r\n",
        "\r\n",
        "        else:\r\n",
        "            representation_network = Sequential([Dense(hidden_neurons, activation='relu', kernel_regularizer=regularizer),\r\n",
        "                                                Dense(representation_size, activation=representation_activation,\r\n",
        "                                                      kernel_regularizer=regularizer)])\r\n",
        "            value_network = Sequential([Dense(hidden_neurons, activation='relu', kernel_regularizer=regularizer),\r\n",
        "                                        Dense(self.value_support_size, kernel_regularizer=regularizer)])\r\n",
        "            policy_network = Sequential([Dense(hidden_neurons, activation='relu', kernel_regularizer=regularizer),\r\n",
        "                                        Dense(action_size, kernel_regularizer=regularizer)])\r\n",
        "            dynamic_network = Sequential([Dense(hidden_neurons, activation='relu', kernel_regularizer=regularizer),\r\n",
        "                                          Dense(representation_size, activation=representation_activation,\r\n",
        "                                                kernel_regularizer=regularizer)])\r\n",
        "            reward_network = Sequential([Dense(16, activation='relu', kernel_regularizer=regularizer),\r\n",
        "                                        Dense(1, kernel_regularizer=regularizer)])\r\n",
        "\r\n",
        "        super().__init__(representation_network, value_network, policy_network, dynamic_network, reward_network)\r\n",
        "    #Specification of the abstract functions of the structre of BaseNetwork() used in the functions to get the 5 key quantities \r\n",
        "    def _value_transform(self, value_support: np.array) -> float:\r\n",
        "        \"\"\"\r\n",
        "        The value is obtained by first computing the expected value from the discrete support.\r\n",
        "        Second, the inverse transform is then apply (the square function).\r\n",
        "        \"\"\"\r\n",
        "\r\n",
        "        value = self._softmax(value_support)\r\n",
        "        value = np.dot(value, range(self.value_support_size))\r\n",
        "        value = value.item() ** 2\r\n",
        "        return value\r\n",
        "\r\n",
        "    def _reward_transform(self, reward: np.array) -> float:\r\n",
        "        return reward.item()\r\n",
        "\r\n",
        "    # concatenate the hidden state and a diagonal matrix representing the action\r\n",
        "    def _conditioned_hidden_state(self, hidden_state: np.array, action: Action) -> np.array:\r\n",
        "        conditioned_hidden = np.concatenate((hidden_state, np.eye(self.action_size)[action.index]))\r\n",
        "        return np.expand_dims(conditioned_hidden, axis=0)\r\n",
        "\r\n",
        "    def _softmax(self, values):\r\n",
        "        \"\"\"Compute softmax using numerical stability tricks.\"\"\"\r\n",
        "        values_exp = np.exp(values - np.max(values))\r\n",
        "        return values_exp / np.sum(values_exp)\r\n",
        "\r\n",
        "    # function that we have added, useful for the save of a trained network\r\n",
        "    def show_basic_attributes(self):\r\n",
        "        return [self.state_size, self.action_size, self.representation_size, self.max_value,\r\n",
        "                self.hidden_neurons, self.weight_decay, self.representation_activation]"
      ],
      "execution_count": null,
      "outputs": []
    },
    {
      "cell_type": "markdown",
      "metadata": {
        "id": "KHFjvn2R1r-L"
      },
      "source": [
        "### Autre jeu : Acrobot <a class=\"anchor\" id=\"reseau_acrobot\"></a>"
      ]
    },
    {
      "cell_type": "markdown",
      "metadata": {
        "id": "MAF6CMLLTzMw"
      },
      "source": [
        "Le réseau utilisé pour ce jeu peut avoir la même structure que celui du CartPole puisqu'il sont tous deux en 1D. La seule différence est la taille des entrées et des sorties qui sont précisées dans la configuration du jeu. "
      ]
    },
    {
      "cell_type": "code",
      "metadata": {
        "id": "4-ZnUc1V1qkp"
      },
      "source": [
        "class AcrobotNetwork(BaseNetwork):\r\n",
        "\r\n",
        "    def __init__(self,\r\n",
        "                 state_size: int,\r\n",
        "                 action_size: int,\r\n",
        "                 representation_size: int,\r\n",
        "                 max_value: int,\r\n",
        "                 hidden_neurons: int = 64,\r\n",
        "                 weight_decay: float = 1e-4,\r\n",
        "                 representation_activation: str = 'tanh'):\r\n",
        "        self.state_size = state_size\r\n",
        "        self.action_size = action_size\r\n",
        "        self.value_support_size = math.ceil(math.sqrt(max_value)) + 1\r\n",
        "\r\n",
        "        regularizer = regularizers.l2(weight_decay)\r\n",
        "        representation_network = Sequential([Dense(hidden_neurons, activation='relu', kernel_regularizer=regularizer),\r\n",
        "                                             Dense(representation_size, activation=representation_activation,\r\n",
        "                                                   kernel_regularizer=regularizer)])\r\n",
        "        value_network = Sequential([Dense(hidden_neurons, activation='relu', kernel_regularizer=regularizer),\r\n",
        "                                    Dense(self.value_support_size, kernel_regularizer=regularizer)])\r\n",
        "        policy_network = Sequential([Dense(hidden_neurons, activation='relu', kernel_regularizer=regularizer),\r\n",
        "                                     Dense(action_size, kernel_regularizer=regularizer)])\r\n",
        "        dynamic_network = Sequential([Dense(hidden_neurons, activation='relu', kernel_regularizer=regularizer),\r\n",
        "                                      Dense(representation_size, activation=representation_activation,\r\n",
        "                                            kernel_regularizer=regularizer)])\r\n",
        "        reward_network = Sequential([Dense(16, activation='relu', kernel_regularizer=regularizer),\r\n",
        "                                     Dense(1, kernel_regularizer=regularizer)])\r\n",
        "\r\n",
        "        super().__init__(representation_network, value_network, policy_network, dynamic_network, reward_network)\r\n",
        "\r\n",
        "    def _value_transform(self, value_support: np.array) -> float:\r\n",
        "        \"\"\"\r\n",
        "        The value is obtained by first computing the expected value from the discrete support.\r\n",
        "        Second, the inverse transform is then apply (the square function).\r\n",
        "        \"\"\"\r\n",
        "        value = self._softmax(value_support)\r\n",
        "        value = np.dot(value, range(self.value_support_size))\r\n",
        "        value = value.item() ** 2\r\n",
        "        # value = np.sign(value.item()) * value.item()**2\r\n",
        "        return value\r\n",
        "\r\n",
        "    def _reward_transform(self, reward: np.array) -> float:\r\n",
        "        return reward.item()\r\n",
        "\r\n",
        "    def _conditioned_hidden_state(self, hidden_state: np.array, action: Action) -> np.array:\r\n",
        "        conditioned_hidden = np.concatenate((hidden_state, np.eye(self.action_size)[action.index]))\r\n",
        "        return np.expand_dims(conditioned_hidden, axis=0)\r\n",
        "\r\n",
        "    def _softmax(self, values):\r\n",
        "        \"\"\"Compute softmax using numerical stability tricks.\"\"\"\r\n",
        "        values_exp = np.exp(values - np.max(values))\r\n",
        "        return values_exp / np.sum(values_exp)"
      ],
      "execution_count": null,
      "outputs": []
    },
    {
      "cell_type": "markdown",
      "metadata": {
        "id": "exZ4qk10LBtJ"
      },
      "source": [
        "## Configuration pour l'algorithme <a class=\"anchor\" id=\"config\"></a>"
      ]
    },
    {
      "cell_type": "markdown",
      "metadata": {
        "id": "ALazyfXatR6j"
      },
      "source": [
        "Cette classe implémente la configuration nécessaire pour pouvoir exécuter notre algorithme MuZero sur le jeu choisi. On y retrouve tous les hyperparamètres nécessaires à l'entraînement et à l'évaluation, dont les valeurs seront passées juste avant l'exécution de l'algorithme en accord avec l'article et le jeu choisi. \r\n",
        "\r\n",
        "Les hyperparamètres les plus importants sont les suivants:\r\n",
        "- `nb_training_loop`: nombre de boucles d'entraînement. Les parties de jeu sont effectuées au début de chaque boucle d'entraînement avec le dernier réseau sauvegardé.\r\n",
        "- `nb_episodes`: nombre de parties de jeu effectuées pour l'entraînement et sauvegardées dans le `ReplayBuffer` à chaque début de boucle d'entraînement.\r\n",
        "- `nb_epochs`: nombre de mises à jour des poids du réseau au sein de chaque boucle d'entraînement. Pour chaque epoch on échantillonne un batch des parties du `ReplayBuffer` (toutes effectuées avec le réseau disponible au début de la boucle d'entraînement) et on met à jour les paramètres grâce à ces parties. A chaque fin d'epoch le réseau avec ses nouveaux poids est sauvegardé.\r\n",
        "- `nb_eval_episodes`: nombre de parties de jeu effectuées pour l'évaluation. Elles sont réalisées avec le dernier réseau sauvegardé après la méthode à l'issu des `nb_epochs` réalisés pendans une boucle d'entraînement.\r\n",
        "- `max_moves`: nombre maximal d'actions pouvant être réalisées pour chaque partie. La partie s'arrête si le jeu passe dans l'état \"terminé\" ou si ce nombre maximal d'actions est atteint.\r\n",
        "- `num_simulations`: nombre de parcours de chaque MCTS.\r\n",
        "- `td_steps`: nombre d'étapes hypothétiques à considérer pour calculer les targets (notamment la target value)."
      ]
    },
    {
      "cell_type": "code",
      "metadata": {
        "id": "UGN_aSqpIYyV"
      },
      "source": [
        "KnownBounds = collections.namedtuple('KnownBounds', ['min', 'max'])\r\n",
        "\r\n",
        "\r\n",
        "class MuZeroConfig(object):\r\n",
        "\r\n",
        "    def __init__(self,\r\n",
        "                 game,\r\n",
        "                 nb_training_loop: int,\r\n",
        "                 nb_episodes: int,\r\n",
        "                 nb_epochs: int,\r\n",
        "                 nb_eval_episodes: int,\r\n",
        "                 network_args: Dict,\r\n",
        "                 network,\r\n",
        "                 action_space_size: int,\r\n",
        "                 max_moves: int,\r\n",
        "                 discount: float,\r\n",
        "                 dirichlet_alpha: float,\r\n",
        "                 num_simulations: int,\r\n",
        "                 batch_size: int,\r\n",
        "                 td_steps: int,\r\n",
        "                 visit_softmax_temperature_fn,\r\n",
        "                 lr: float,\r\n",
        "                 known_bounds: Optional[KnownBounds] = None):\r\n",
        "        \r\n",
        "        ### Environment\r\n",
        "        self.game = game # Load the (environment of) the game to which we are gonna play \r\n",
        "\r\n",
        "        ### Self-Play\r\n",
        "        self.action_space_size = action_space_size # Set the size of the action space \r\n",
        "        # self.num_actors = num_actors (since we play only solo games we don't need the variable num_actors)\r\n",
        "\r\n",
        "        # Set the softmax function used to determine the real action at the end of a tree search during training\r\n",
        "        self.visit_softmax_temperature_fn = visit_softmax_temperature_fn \r\n",
        "        # Set the maximal number of actions that can be played in one game \r\n",
        "        self.max_moves = max_moves\r\n",
        "        # Set the number of times we go through each Monte Carlo Tree\r\n",
        "        self.num_simulations = num_simulations\r\n",
        "        # Set the discount rate (to compute the target value)\r\n",
        "        self.discount = discount\r\n",
        "\r\n",
        "        # Root prior exploration noise.\r\n",
        "        self.root_dirichlet_alpha = dirichlet_alpha\r\n",
        "        self.root_exploration_fraction = 0.25\r\n",
        "\r\n",
        "        # Set the UCB parameters (maximisation of the UCB score allows to select a child node in MCTS)\r\n",
        "        # we take the c values from the appendix B of the article\r\n",
        "        self.pb_c_base = 19652\r\n",
        "        self.pb_c_init = 1.25\r\n",
        "\r\n",
        "        # If we already have some information about which values occur in the\r\n",
        "        # environment, we can use them to initialize the rescaling.\r\n",
        "        # This is not strictly necessary, but establishes identical behaviour to\r\n",
        "        # AlphaZero in board games.\r\n",
        "        self.known_bounds = known_bounds\r\n",
        "\r\n",
        "        ### Training\r\n",
        "        self.nb_training_loop = nb_training_loop # Nb of training loop \r\n",
        "        self.nb_episodes = nb_episodes  # Nb of episodes per training loop (nb of games played by training loop and stored in the replay Buffer cf. see Entrainement part)\r\n",
        "        self.nb_epochs = nb_epochs  # Nb of epochs per training loop \r\n",
        "        \r\n",
        "        ### Evaluation\r\n",
        "        self.nb_eval_episodes = nb_eval_episodes #Nb of games used for the evaluation\r\n",
        "\r\n",
        "        # self.training_steps = int(1000e3)\r\n",
        "        # self.checkpoint_interval = int(1e3)\r\n",
        "        self.window_size = int(1e6)\r\n",
        "        self.batch_size = batch_size\r\n",
        "        self.num_unroll_steps = 5\r\n",
        "        self.td_steps = td_steps\r\n",
        "\r\n",
        "        self.weight_decay = 1e-4\r\n",
        "        self.momentum = 0.9\r\n",
        "\r\n",
        "        self.network_args = network_args\r\n",
        "        self.network = network\r\n",
        "        self.lr = lr\r\n",
        "        # Exponential learning rate schedule\r\n",
        "        # self.lr_init = lr_init\r\n",
        "        # self.lr_decay_rate = 0.1\r\n",
        "        # self.lr_decay_steps = lr_decay_steps\r\n",
        "\r\n",
        "    def new_game(self) -> AbstractGame:\r\n",
        "        return self.game(self.discount)\r\n",
        "\r\n",
        "    def new_network(self) -> BaseNetwork:\r\n",
        "        return self.network(**self.network_args)\r\n",
        "\r\n",
        "    def uniform_network(self) -> UniformNetwork:\r\n",
        "        return UniformNetwork(self.action_space_size)\r\n",
        "\r\n",
        "    def new_optimizer(self) -> tf.keras.optimizers:\r\n",
        "        return tf.keras.optimizers.SGD(learning_rate=self.lr, momentum=self.momentum)"
      ],
      "execution_count": null,
      "outputs": []
    },
    {
      "cell_type": "markdown",
      "metadata": {
        "id": "zS-trCZj8uYD"
      },
      "source": [
        "On note que la fonction `make_board_game_config` décrite dans le pseudo-code n'est pas implémentée ici puisque le jeu du CartPole ne nécessite pas de plateau."
      ]
    },
    {
      "cell_type": "markdown",
      "metadata": {
        "id": "czSq7xurECiW"
      },
      "source": [
        "## Monte Carlo Tree Search (MCTS) <a class=\"anchor\" id=\"MCTS\"></a>"
      ]
    },
    {
      "cell_type": "markdown",
      "metadata": {
        "id": "6Y3ofviUqwjf"
      },
      "source": [
        "Cette section implémente les arbres de recherche de Monte Carlo permettant de sélectionner les actions lors de la simulation de parties de jeu. Les MCTS (arbres de recherche de Monte Carlo) permettent de sélectionner l'action à effectuer selon l'état correspondant au moment du jeu choisi, cela grâce la simulation de K étapes hypothétiques."
      ]
    },
    {
      "cell_type": "markdown",
      "metadata": {
        "id": "q11eqTkSrb1E"
      },
      "source": [
        "Cette première classe permet de stocker les values minimales et maximales d'un MCTS et de normaliser chaque valeur grâce à ces dernières en les ramenant entre 0 et 1."
      ]
    },
    {
      "cell_type": "code",
      "metadata": {
        "id": "hUjPTOkqVlB1"
      },
      "source": [
        "class MinMaxStats(object):\r\n",
        "    \"\"\"A class that holds the min-max values of the tree.\"\"\"\r\n",
        "\r\n",
        "    def __init__(self, known_bounds):\r\n",
        "        self.maximum = known_bounds.max if known_bounds else -MAXIMUM_FLOAT_VALUE\r\n",
        "        self.minimum = known_bounds.min if known_bounds else MAXIMUM_FLOAT_VALUE\r\n",
        "\r\n",
        "    def update(self, value: float):\r\n",
        "        if value is None:\r\n",
        "            raise ValueError\r\n",
        "\r\n",
        "        self.maximum = max(self.maximum, value)\r\n",
        "        self.minimum = min(self.minimum, value)\r\n",
        "\r\n",
        "    def normalize(self, value: float) -> float:\r\n",
        "        # If the value is unknow, by default we set it to the minimum possible value\r\n",
        "        if value is None:\r\n",
        "            return 0.0\r\n",
        "\r\n",
        "        if self.maximum > self.minimum:\r\n",
        "            # We normalize only when we have set the maximum and minimum values.\r\n",
        "            return (value - self.minimum) / (self.maximum - self.minimum)\r\n",
        "        return value"
      ],
      "execution_count": null,
      "outputs": []
    },
    {
      "cell_type": "markdown",
      "metadata": {
        "id": "ckTh-MdtbfxT"
      },
      "source": [
        "La suite de cette section contient l'implémentation des arbres de recherche de Monte Carlo grâce auxquels notre algorithme peut effectuer de la planification. En effet, ces arbres explorent les différentes trajectoires en utilisant les fonctions de dynamique, représentation et prédiction actuelles du modèle puis renvoient une value, policy et reward estimées. La policy estimée grâce au nombre de visites de chaque noeud fils de la racine sera ensuite utlisée pour choisir une action."
      ]
    },
    {
      "cell_type": "markdown",
      "metadata": {
        "id": "pXx3sxINjPB5"
      },
      "source": [
        "### L'implémentation de la sélection <a class=\"anchor\" id=\"selection\"></a>"
      ]
    },
    {
      "cell_type": "markdown",
      "metadata": {
        "id": "Ctp7bpLNeIlV"
      },
      "source": [
        "Cette fonction permet d'ajouter un bruit suivant une loi de Dirichlet à l'a priori de la racine de l'arbre de recherche. Cette technique permet de forcer l'arbre à faire de l'exploration lors de sa recherche."
      ]
    },
    {
      "cell_type": "code",
      "metadata": {
        "id": "91s1vSwZEFNR"
      },
      "source": [
        "def add_exploration_noise(config: MuZeroConfig, node: Node):\r\n",
        "    \"\"\"\r\n",
        "    At the start of each search, we add dirichlet noise to the prior of the root\r\n",
        "    to encourage the search to explore new actions.\r\n",
        "    \"\"\"\r\n",
        "    actions = list(node.children.keys())\r\n",
        "    noise = np.random.dirichlet([config.root_dirichlet_alpha] * len(actions))\r\n",
        "    frac = config.root_exploration_fraction\r\n",
        "    for a, n in zip(actions, noise):\r\n",
        "        node.children[a].prior = node.children[a].prior * (1 - frac) + n * frac"
      ],
      "execution_count": null,
      "outputs": []
    },
    {
      "cell_type": "markdown",
      "metadata": {
        "id": "3zalneYcuHKj"
      },
      "source": [
        "Cette fonction permet de sélectionner parmis les fils d'un noeud de l'arbre le prochain vers lequel on va aller et l'action à entreprendre. Si le noeud n'a jamais été visité elle choisit aléatoirement un de ses noeuds fils et l'action y menant, sinon elle choisit celui qui maximise le score UCB et l'action qui y mène."
      ]
    },
    {
      "cell_type": "code",
      "metadata": {
        "id": "91wejmPjbRTg"
      },
      "source": [
        "def select_child(config: MuZeroConfig, node: Node, min_max_stats: MinMaxStats):\r\n",
        "    \"\"\"\r\n",
        "    Select the child with the highest UCB score.\r\n",
        "    \"\"\"\r\n",
        "    # When the parent visit count is zero, all ucb scores are zeros, therefore we return a random child\r\n",
        "    if node.visit_count == 0:\r\n",
        "        return random.sample(node.children.items(), 1)[0]\r\n",
        "\r\n",
        "    _, action, child = max(\r\n",
        "        (ucb_score(config, node, child, min_max_stats), action,\r\n",
        "         child) for action, child in node.children.items())\r\n",
        "    return action, child"
      ],
      "execution_count": null,
      "outputs": []
    },
    {
      "cell_type": "markdown",
      "metadata": {
        "id": "_SCemVcAvBPi"
      },
      "source": [
        "Cette fonction est essentielle pour le parcours d'un MCTS, elle permet de calculer le score UCB (Uniform Contiuous Bound) d'un noeud et du fils choisi grâce à la formule donnée dans l'annexe B de l'article. Pour ce faire elle calcule la value associée au fils et y ajoute un bonus d'exploration. "
      ]
    },
    {
      "cell_type": "code",
      "metadata": {
        "id": "eknbZBwJbSH4"
      },
      "source": [
        "def ucb_score(config: MuZeroConfig, parent: Node, child: Node,\r\n",
        "              min_max_stats: MinMaxStats) -> float:\r\n",
        "    \"\"\"\r\n",
        "    The score for a node is based on its value, plus an exploration bonus based on\r\n",
        "    the prior.\r\n",
        "    \"\"\"\r\n",
        "    # See Appendix B of the article for precise formulations (we ddecided not to put it in the report either)\r\n",
        "    pb_c = math.log((parent.visit_count + config.pb_c_base + 1) / config.pb_c_base) + config.pb_c_init\r\n",
        "    pb_c *= math.sqrt(parent.visit_count) / (child.visit_count + 1)\r\n",
        "\r\n",
        "    prior_score = pb_c * child.prior\r\n",
        "    value_score = min_max_stats.normalize(child.value())\r\n",
        "    return prior_score + value_score"
      ],
      "execution_count": null,
      "outputs": []
    },
    {
      "cell_type": "markdown",
      "metadata": {
        "id": "4cHdOKcLjtiI"
      },
      "source": [
        "### L'implémentation de l'expansion d'un noeud <a class=\"anchor\" id=\"expansion\"></a>"
      ]
    },
    {
      "cell_type": "markdown",
      "metadata": {
        "id": "DEc-Lmfdw7C6"
      },
      "source": [
        "Cette fonction permet de remplir les attributs d'un noeud à partir des différents réseaux de notre algorithme. On notera notamment `hidden_state` représentant l'état caché correspondant à ce noeud, la reward calculée grâce à la fonction de reward des réseaux mais aussi le remplissage des différentes actions possibles depuis ce noeud grâce à la policy."
      ]
    },
    {
      "cell_type": "code",
      "metadata": {
        "id": "78G7S8sJbUDK"
      },
      "source": [
        "def expand_node(node: Node, to_play: Player, actions: List[Action],\r\n",
        "                network_output: NetworkOutput):\r\n",
        "    \"\"\"\r\n",
        "    We expand a node using the value, reward and policy prediction obtained from\r\n",
        "    the neural networks.\r\n",
        "    \"\"\"\r\n",
        "    node.to_play = to_play\r\n",
        "    node.hidden_state = network_output.hidden_state # We retrieve the hidden_state value corresponding to the actual node thanks to the networks \r\n",
        "                                                    # implemented in RecurrentModel() passed to BaseNetwork() passed to Game specific Network() \r\n",
        "    node.reward = network_output.reward # Same thing for the reward\r\n",
        "    policy = {a: math.exp(network_output.policy_logits[a]) for a in actions} # Same thing for the policies that are calulated thanks to the list of possible actions\r\n",
        "    policy_sum = sum(policy.values())\r\n",
        "    for action, p in policy.items():\r\n",
        "        node.children[action] = Node(p / policy_sum)"
      ],
      "execution_count": null,
      "outputs": []
    },
    {
      "cell_type": "markdown",
      "metadata": {
        "id": "3UuWgtLvo4Vj"
      },
      "source": [
        "### L'implémentation de la rétropropagation <a class=\"anchor\" id=\"retropropagation\"></a>"
      ]
    },
    {
      "cell_type": "markdown",
      "metadata": {
        "id": "dKK12fWvx0MK"
      },
      "source": [
        "Cette fonction permet la backpropagation à travers l'arbre. Une fois la simulation terminée (i.e. une feuille atteinte) on fait la backpropagation jusqu'à la racine de l'arbre en remplissant toutes les values en discountant les rewards et en ajoutant +1 au compteur de visite pour chaque noeud."
      ]
    },
    {
      "cell_type": "code",
      "metadata": {
        "id": "_gLqMoGBbXkt"
      },
      "source": [
        "def backpropagate(search_path: List[Node], value: float, to_play: Player,\r\n",
        "                  discount: float, min_max_stats: MinMaxStats):\r\n",
        "    \"\"\"\r\n",
        "    At the end of a simulation, we propagate the evaluation all the way up the\r\n",
        "    tree to the root.\r\n",
        "    \"\"\"\r\n",
        "    for node in search_path[::-1]:\r\n",
        "        node.value_sum += value if node.to_play == to_play else -value\r\n",
        "        node.visit_count += 1\r\n",
        "        min_max_stats.update(node.value())\r\n",
        "\r\n",
        "        value = node.reward + discount * value"
      ],
      "execution_count": null,
      "outputs": []
    },
    {
      "cell_type": "markdown",
      "metadata": {
        "id": "1CW4PdyVzFSH"
      },
      "source": [
        "Cette fonction permet d'échantilloner une action grâce à un softmax sur les visites de chaque noeud. Plus précisément on regarde les noeuds fils de la racine et leur nombre de visite et on utilise ces nombres de visite pour calculer un softmax."
      ]
    },
    {
      "cell_type": "code",
      "metadata": {
        "id": "mXxb2niTPYdC"
      },
      "source": [
        "def softmax_sample(visit_counts, actions, t):\r\n",
        "    counts_exp = np.exp(visit_counts) * (1 / t)\r\n",
        "    probs = counts_exp / np.sum(counts_exp, axis=0)\r\n",
        "    action_idx = np.random.choice(len(actions), p=probs)\r\n",
        "    return actions[action_idx]"
      ],
      "execution_count": null,
      "outputs": []
    },
    {
      "cell_type": "markdown",
      "metadata": {
        "id": "wySr8Ok2pRdt"
      },
      "source": [
        "### Excécution de la recherche MCTS et sélection de l'action réalisée <a class=\"anchor\" id=\"excecution\"></a>"
      ]
    },
    {
      "cell_type": "markdown",
      "metadata": {
        "id": "rTQppLnhehfa"
      },
      "source": [
        "Cette fonction constitue le coeur de l'algorithme MCTS. Elle exécute `num_simulations` simulations (c'est à dire `num_simulations` parcours de l'arbre commençant à la racine et se terminant dès l'atteinte d'une feuille). Les fonctions suivantes implémentent le passage d'un noeud à un autre grâce à la maximisation du score UCB ainsi que la backpropagation qui permet le calcul de la reward associée au parcours."
      ]
    },
    {
      "cell_type": "code",
      "metadata": {
        "id": "w0NECZsYbIoD"
      },
      "source": [
        "def run_mcts(config: MuZeroConfig, root: Node, action_history: ActionHistory, network: BaseNetwork):\r\n",
        "    \"\"\"\r\n",
        "    Core Monte Carlo Tree Search algorithm.\r\n",
        "    To decide on an action, we run N simulations, always starting at the root of\r\n",
        "    the search tree and traversing the tree according to the UCB formula until we\r\n",
        "    reach a leaf node.\r\n",
        "    \"\"\"\r\n",
        "    min_max_stats = MinMaxStats(config.known_bounds)\r\n",
        "\r\n",
        "    for _ in range(config.num_simulations): # Number of simulations (number of times we go through the tree, precised in the excecution configuration)\r\n",
        "        history = action_history.clone()\r\n",
        "        node = root\r\n",
        "        search_path = [node]\r\n",
        "\r\n",
        "        while node.expanded():\r\n",
        "            action, node = select_child(config, node, min_max_stats)\r\n",
        "            history.add_action(action)\r\n",
        "            search_path.append(node)\r\n",
        "\r\n",
        "        # Inside the search tree we use the dynamics function to obtain the next\r\n",
        "        # hidden state given an action and the previous hidden state.\r\n",
        "        parent = search_path[-2]\r\n",
        "        network_output = network.recurrent_inference(parent.hidden_state, history.last_action())\r\n",
        "        expand_node(node, history.to_play(), history.action_space(), network_output)\r\n",
        "\r\n",
        "        backpropagate(search_path, network_output.value, history.to_play(), config.discount, min_max_stats)"
      ],
      "execution_count": null,
      "outputs": []
    },
    {
      "cell_type": "markdown",
      "metadata": {
        "id": "XNtgnZCEfXDQ"
      },
      "source": [
        "Cette fonction permet de sélectionner une action à la suite des N simulations. Pour ce faire elle se base sur le nombre de visites des noeuds fils de la racine. On remarque qu'elle a 2 modes : un pour l'entraînement où elle s'intéresse à l'exploration et ne sélectionne pas forcément le noeud le plus visité mais utilise plutôt la probabilité donnée par le softmax décrit au dessus, et un pour l'évaluation où le noeud le plus visité est sélectionné."
      ]
    },
    {
      "cell_type": "code",
      "metadata": {
        "id": "8xzdmzCKbIUc"
      },
      "source": [
        "def select_action(config: MuZeroConfig, num_moves: int, node: Node, network: BaseNetwork, mode: str = 'softmax'):\r\n",
        "    \"\"\"\r\n",
        "    After running simulations inside in MCTS, we select an action based on the root's children visit counts.\r\n",
        "    During training we use a softmax sample for exploration.\r\n",
        "    During evaluation we select the most visited child.\r\n",
        "    \"\"\"\r\n",
        "    visit_counts = [child.visit_count for child in node.children.values()]\r\n",
        "    actions = [action for action in node.children.keys()]\r\n",
        "    action = None\r\n",
        "    if mode == 'softmax':\r\n",
        "        t = config.visit_softmax_temperature_fn(\r\n",
        "            num_moves=num_moves, training_steps=network.training_steps)\r\n",
        "        action = softmax_sample(visit_counts, actions, t)\r\n",
        "    elif mode == 'max':\r\n",
        "        action, _ = max(node.children.items(), key=lambda item: item[1].visit_count)\r\n",
        "    return action"
      ],
      "execution_count": null,
      "outputs": []
    },
    {
      "cell_type": "markdown",
      "metadata": {
        "id": "ZpRa8JCO01rq"
      },
      "source": [
        "## Entraînement <a class=\"anchor\" id=\"entrainement\"></a>"
      ]
    },
    {
      "cell_type": "markdown",
      "metadata": {
        "id": "RfEOD-Xy_TsN"
      },
      "source": [
        "Une trajectoire est échantillonée depuis le replay buffer. Pour la première étape, la fonction de représentation du modèle reçoit en entrée les observations passées de la trajectoire sélectionnée. Le modèle est par la suite déroulé de manière récurrente sur K étapes hypothétiques. L'objectif est de minimiser une loss définie dans l'article comme la somme de trois loss : une pour les rewards, une pour la value et une pour la policy. Une étape de backpropagation est effectuée afin de la minimiser et donc d'optimiser les paramètres du réseau."
      ]
    },
    {
      "cell_type": "markdown",
      "metadata": {
        "id": "LxXvz4fOWvxR"
      },
      "source": [
        "#### Replay Buffer <a class=\"anchor\" id=\"replay_buffer\"></a>"
      ]
    },
    {
      "cell_type": "markdown",
      "metadata": {
        "id": "YoWcuPRrXEAv"
      },
      "source": [
        "Cette classe, utile pour l'entraînement de l'algorithme, est chargée de toute la gestion des jeux et de leurs sauvegardes. Il faut lui fournir des jeux qu'elle stockera grâce à la fonction `save_game()` et elle peut ensuite renvoyer pour un ensemble aléatoires de parties réalisées un instant aléatoire par partie (via la fonction `sample_position`) dans des batchs grâce à la fonction `sample_batch`. Cette fonction utilise les données d'un ensemble de `batch_size` jeux tirés aléatoirement parmi ceux que le `ReplayBuffer` contient puis extrait les informations nécessaires pour y entraîner les réseaux décrits dans la section précédente.\r\n",
        "\r\n",
        "Afin de fournir des parties jouées au `ReplayBuffer` il faut simuler ces parties en générant des suites d'actions conduisant à la fin d'une partie, c'est ce dont se chargera la partie Self-Play présentée juste après dans le notebook. Cette partie de simulation s'appuie notamment sur les arbres de Monte Carlo et elle est effectuée après chaque étape d'entraînement des différentes réseaux."
      ]
    },
    {
      "cell_type": "code",
      "metadata": {
        "id": "T8xEvQEVD-Ve"
      },
      "source": [
        "class ReplayBuffer(object):\r\n",
        "\r\n",
        "    def __init__(self, config: MuZeroConfig):\r\n",
        "        self.window_size = config.window_size\r\n",
        "        self.batch_size = config.batch_size\r\n",
        "        self.buffer = []\r\n",
        "\r\n",
        "    def save_game(self, game):\r\n",
        "        if len(self.buffer) > self.window_size:\r\n",
        "            self.buffer.pop(0)\r\n",
        "        self.buffer.append(game)\r\n",
        "\r\n",
        "    def sample_batch(self, num_unroll_steps: int, td_steps: int):\r\n",
        "        # Generate some samples of data to train on\r\n",
        "        games = self.sample_games()\r\n",
        "        game_pos = [(g, self.sample_position(g)) for g in games]\r\n",
        "        game_data = [(g.make_image(i), g.history[i:i + num_unroll_steps],\r\n",
        "                      g.make_target(i, num_unroll_steps, td_steps, g.to_play()))\r\n",
        "                     for (g, i) in game_pos]\r\n",
        "\r\n",
        "        # Pre-process the batch\r\n",
        "        image_batch, actions_time_batch, targets_batch = zip(*game_data)\r\n",
        "        targets_init_batch, *targets_time_batch = zip(*targets_batch)\r\n",
        "        actions_time_batch = list(zip_longest(*actions_time_batch, fillvalue=None))\r\n",
        "\r\n",
        "        # Building batch of valid actions and a dynamic mask for hidden representations during BPTT\r\n",
        "        mask_time_batch = []\r\n",
        "        dynamic_mask_time_batch = []\r\n",
        "        last_mask = [True] * len(image_batch)\r\n",
        "        for i, actions_batch in enumerate(actions_time_batch):\r\n",
        "            mask = list(map(lambda a: bool(a), actions_batch))\r\n",
        "            dynamic_mask = [now for last, now in zip(last_mask, mask) if last]\r\n",
        "            mask_time_batch.append(mask)\r\n",
        "            dynamic_mask_time_batch.append(dynamic_mask)\r\n",
        "            last_mask = mask\r\n",
        "            actions_time_batch[i] = [action.index for action in actions_batch if action]\r\n",
        "        \r\n",
        "        batch = image_batch, targets_init_batch, targets_time_batch, actions_time_batch, mask_time_batch, dynamic_mask_time_batch\r\n",
        "        return batch\r\n",
        "\r\n",
        "    def sample_games(self) -> List[AbstractGame]:\r\n",
        "        # Sample game from buffer either uniformly or according to some priority.\r\n",
        "        return random.choices(self.buffer, k=self.batch_size)\r\n",
        "\r\n",
        "    def sample_position(self, game: AbstractGame) -> int:\r\n",
        "        # Sample position from game either uniformly or according to some priority.\r\n",
        "        return random.randint(0, len(game.history))"
      ],
      "execution_count": null,
      "outputs": []
    },
    {
      "cell_type": "markdown",
      "metadata": {
        "id": "59nCbpAcgMyX"
      },
      "source": [
        "### Self-play <a class=\"anchor\" id=\"self-play\"></a>"
      ]
    },
    {
      "cell_type": "markdown",
      "metadata": {
        "id": "HAB2Y1a1gfFt"
      },
      "source": [
        "Cette section contient toutes les fonctions nécessaires pouvant réaliser des parties de jeux pouvant remplir le `ReplayBuffer` et ainsi pouvoir entraîner et évaluer notre modèle."
      ]
    },
    {
      "cell_type": "markdown",
      "metadata": {
        "id": "xAu3UxIdjhWy"
      },
      "source": [
        "Cette fonction implémente le jeu d'une partie. Elle part d'un état de jeu initial (un plateau dans le cas d'un jeu à plateau et la position et l'angle initial du CartPole pour notre jeu) et génère les mouvements jusqu'à la fin du jeu. Elle exécute donc des MCTS à chaque tour pour simuler les K prochaines étapes hypothétiques et ainsi sélectionner l'action à réaliser, le jeu s'arrêtant lorsque la barre du CartPole tombe. Elle dispose de deux modes : train ou non. Dans le cas de train l'action suivante est sélectionnée avec un softmax et il y a un bruit ajouté à l'a priori de la racine. Dans le cas où on ne train pas, l'action suivante est sélectionnée de manière déterministe selon le nombre de visites des fils de la racine et il n'y a pas de bruit à la racine."
      ]
    },
    {
      "cell_type": "code",
      "metadata": {
        "id": "xkcRbb8lgTH9"
      },
      "source": [
        "def play_game(config: MuZeroConfig, network: AbstractNetwork, train: bool = True) -> AbstractGame:\r\n",
        "    \"\"\"\r\n",
        "    Each game is produced by starting at the initial board position, then\r\n",
        "    repeatedly executing a Monte Carlo Tree Search to generate moves until the end\r\n",
        "    of the game is reached.\r\n",
        "    \"\"\"\r\n",
        "    game = config.new_game()\r\n",
        "    mode_action_select = 'softmax' if train else 'max'\r\n",
        "\r\n",
        "    while not game.terminal() and len(game.history) < config.max_moves:\r\n",
        "        # At the root of the search tree we use the representation function to\r\n",
        "        # obtain a hidden state given the current observation.\r\n",
        "        root = Node(0)\r\n",
        "        current_observation = game.make_image(-1)\r\n",
        "        expand_node(root, game.to_play(), game.legal_actions(), network.initial_inference(current_observation))\r\n",
        "        if train:\r\n",
        "            add_exploration_noise(config, root)\r\n",
        "\r\n",
        "        # We then run a Monte Carlo Tree Search using only action sequences and the\r\n",
        "        # model learned by the networks.\r\n",
        "        run_mcts(config, root, game.action_history(), network)\r\n",
        "        action = select_action(config, len(game.history), root, network, mode=mode_action_select)\r\n",
        "        game.apply(action)\r\n",
        "        game.store_search_statistics(root)\r\n",
        "\r\n",
        "    return game"
      ],
      "execution_count": null,
      "outputs": []
    },
    {
      "cell_type": "markdown",
      "metadata": {
        "id": "964YinNBhk--"
      },
      "source": [
        "Cette première fonction permet de remplir le `ReplayBuffer` en réalisant des parties de jeux grâce à la fonction précédente en utilisant son mode train. Elle utilise le dernier réseau sauvegardé de notre algorithme pour jouer `train_episodes` fois à un jeu et sauvegarde chaque partie dans le buffer. Pour ces jeux elle utilise le mode \"train\" de notre algorithme avec de l'exploration dans les MCTS (bruit à la racine + action aléatoire avec le softmax). Elle renvoie aussi la moyenne des rewards totales sur les `train_episodes` parties effectuées qui jouera par la suite le rôle de train score."
      ]
    },
    {
      "cell_type": "code",
      "metadata": {
        "id": "ZhmBRu9igVP3"
      },
      "source": [
        "def run_selfplay(config: MuZeroConfig, storage: SharedStorage, replay_buffer: ReplayBuffer, train_episodes: int):\r\n",
        "    \"\"\"Take the latest network, produces multiple games and save them in the shared replay buffer\"\"\"\r\n",
        "    network = storage.latest_network()\r\n",
        "    returns = []\r\n",
        "    for _ in range(train_episodes):\r\n",
        "        game = play_game(config, network)\r\n",
        "        replay_buffer.save_game(game)\r\n",
        "        returns.append(sum(game.rewards))\r\n",
        "    return sum(returns) / train_episodes"
      ],
      "execution_count": null,
      "outputs": []
    },
    {
      "cell_type": "markdown",
      "metadata": {
        "id": "efiaCZJIitYN"
      },
      "source": [
        "Cette fonction permet de faire jouer notre algorithme à des jeux en mode \"évaluation\", il n'y a donc plus d'exploration et le but est de choisir l'action selon le noeud le plus visité et non plus avec le softmax. Elle renvoie la moyenne des rewards totales sur les `eval_episodes` parties simulées pour l'évaluation qui servira de score d'évaluation. Comme ces parties ne serviront pas pour l'entraînement il n'y a pas besoin des les stocker dans le `ReplayBuffer`."
      ]
    },
    {
      "cell_type": "code",
      "metadata": {
        "id": "OSPn2g5XgXIy"
      },
      "source": [
        "def run_eval(config: MuZeroConfig, storage: SharedStorage, eval_episodes: int):\r\n",
        "    \"\"\"Evaluate MuZero without noise added to the prior of the root and without softmax action selection\"\"\"\r\n",
        "    network = storage.latest_network()\r\n",
        "    returns = []\r\n",
        "    for _ in range(eval_episodes):\r\n",
        "        game = play_game(config, network, train=False)\r\n",
        "        returns.append(sum(game.rewards))\r\n",
        "    return sum(returns) / eval_episodes if eval_episodes else 0"
      ],
      "execution_count": null,
      "outputs": []
    },
    {
      "cell_type": "markdown",
      "metadata": {
        "id": "Fo1XY-z2Yzfr"
      },
      "source": [
        "### Training  <a class=\"anchor\" id=\"training\"></a>"
      ]
    },
    {
      "cell_type": "markdown",
      "metadata": {
        "id": "wRNU6HnyZA8p"
      },
      "source": [
        "Les 3 fonctions de cette section permettent d'entraîner le réseau de neurones de l'algorithme MuZero. La loss utilisée est décrite dans l'article dans la section \"3. MuZero Algorithm\", c'est une somme des loss pour la value, la policy et la reward. L'implémentation nous en apprend plus sur les loss utilisées pour chaque composante :\r\n",
        "- une loss personnalisée se basant sur la softmax cross-entropie pour la value\r\n",
        "- une MSE pour les rewards\r\n",
        "- une softmax cross-entropie pour la policy\r\n",
        "\r\n",
        "Les paramètres des réseaux sont entraînés de manière classique grâce à la backpropagation."
      ]
    },
    {
      "cell_type": "code",
      "metadata": {
        "id": "W51V-JE9YxpE"
      },
      "source": [
        "def loss_value(target_value_batch, value_batch, value_support_size: int):\r\n",
        "    batch_size = len(target_value_batch)\r\n",
        "    targets = np.zeros((batch_size, value_support_size))\r\n",
        "    \r\n",
        "    # tentatives de changement de fonction réciproque pour retrouver la value dans le cas Acrobot\r\n",
        "    # sqrt_value = np.sign(target_value_batch) * np.sqrt(np.abs(target_value_batch))\r\n",
        "    # sqrt_value = np.sqrt(np.abs(target_value_batch))\r\n",
        "\r\n",
        "    sqrt_value = np.sqrt(target_value_batch) # on récupère la racine qui correspond à l'inverse de la fonction h appliquée dans _value_transform\r\n",
        "    floor_value = np.floor(sqrt_value).astype(int)\r\n",
        "    rest = sqrt_value - floor_value\r\n",
        "\r\n",
        "    targets[range(batch_size), floor_value.astype(int)] = 1 - rest\r\n",
        "    targets[range(batch_size), floor_value.astype(int) + 1] = rest\r\n",
        "\r\n",
        "    return tf.nn.softmax_cross_entropy_with_logits(logits=value_batch, labels=targets)"
      ],
      "execution_count": null,
      "outputs": []
    },
    {
      "cell_type": "code",
      "metadata": {
        "id": "nWxV_l0EYok6"
      },
      "source": [
        "def update_weights(optimizer: tf.keras.optimizers, network: BaseNetwork, batch):\r\n",
        "    def scale_gradient(tensor, scale: float):\r\n",
        "        \"\"\"Trick function to scale the gradient in tensorflow\"\"\"\r\n",
        "        return (1. - scale) * tf.stop_gradient(tensor) + scale * tensor\r\n",
        "\r\n",
        "    def loss():\r\n",
        "        loss = 0\r\n",
        "        image_batch, targets_init_batch, targets_time_batch, actions_time_batch, mask_time_batch, dynamic_mask_time_batch = batch\r\n",
        "\r\n",
        "        # Initial step, from the real observation: representation + prediction networks\r\n",
        "        representation_batch, value_batch, policy_batch = network.initial_model(np.array(image_batch))\r\n",
        "\r\n",
        "        # Only update the element with a policy target\r\n",
        "        target_value_batch, _, target_policy_batch = zip(*targets_init_batch)\r\n",
        "        mask_policy = list(map(lambda l: bool(l), target_policy_batch))\r\n",
        "        target_policy_batch = list(filter(lambda l: bool(l), target_policy_batch))\r\n",
        "        policy_batch = tf.boolean_mask(policy_batch, mask_policy)\r\n",
        "\r\n",
        "        # Compute the loss of the first pass\r\n",
        "        loss += tf.math.reduce_mean(loss_value(target_value_batch, value_batch, network.value_support_size))\r\n",
        "        loss += tf.math.reduce_mean(\r\n",
        "            tf.nn.softmax_cross_entropy_with_logits(logits=policy_batch, labels=target_policy_batch))\r\n",
        "\r\n",
        "        # Recurrent steps, from action and previous hidden state.\r\n",
        "        for actions_batch, targets_batch, mask, dynamic_mask in zip(actions_time_batch, targets_time_batch,\r\n",
        "                                                                    mask_time_batch, dynamic_mask_time_batch):\r\n",
        "            target_value_batch, target_reward_batch, target_policy_batch = zip(*targets_batch)\r\n",
        "\r\n",
        "            # Only execute BPTT for elements with an action\r\n",
        "            representation_batch = tf.boolean_mask(representation_batch, dynamic_mask)\r\n",
        "            target_value_batch = tf.boolean_mask(target_value_batch, mask)\r\n",
        "            target_reward_batch = tf.boolean_mask(target_reward_batch, mask)\r\n",
        "            # Creating conditioned_representation: concatenate representations with actions batch\r\n",
        "            actions_batch = tf.one_hot(actions_batch, network.action_size)\r\n",
        "\r\n",
        "            # Recurrent step from conditioned representation: recurrent + prediction networks\r\n",
        "            conditioned_representation_batch = tf.concat((representation_batch, actions_batch), axis=1)\r\n",
        "            representation_batch, reward_batch, value_batch, policy_batch = network.recurrent_model(\r\n",
        "                conditioned_representation_batch)\r\n",
        "\r\n",
        "            # Only execute BPTT for elements with a policy target\r\n",
        "            target_policy_batch = [policy for policy, b in zip(target_policy_batch, mask) if b]\r\n",
        "            mask_policy = list(map(lambda l: bool(l), target_policy_batch))\r\n",
        "            target_policy_batch = tf.convert_to_tensor([policy for policy in target_policy_batch if policy])\r\n",
        "            policy_batch = tf.boolean_mask(policy_batch, mask_policy)\r\n",
        "\r\n",
        "            # Compute the partial loss\r\n",
        "            l = (tf.math.reduce_mean(loss_value(target_value_batch, value_batch, network.value_support_size)) +\r\n",
        "                 MSE(target_reward_batch, tf.squeeze(reward_batch)) +\r\n",
        "                 tf.math.reduce_mean(\r\n",
        "                     tf.nn.softmax_cross_entropy_with_logits(logits=policy_batch, labels=target_policy_batch)))\r\n",
        "\r\n",
        "            # Scale the gradient of the loss by the average number of actions unrolled\r\n",
        "            gradient_scale = 1. / len(actions_time_batch)\r\n",
        "            loss += scale_gradient(l, gradient_scale)\r\n",
        "\r\n",
        "            # Half the gradient of the representation\r\n",
        "            representation_batch = scale_gradient(representation_batch, 0.5)\r\n",
        "\r\n",
        "        return loss\r\n",
        "\r\n",
        "    optimizer.minimize(loss=loss, var_list=network.cb_get_variables())\r\n",
        "    network.training_steps += 1"
      ],
      "execution_count": null,
      "outputs": []
    },
    {
      "cell_type": "code",
      "metadata": {
        "id": "-9YKXqL6Ylvp"
      },
      "source": [
        "def train_network(config: MuZeroConfig, storage: SharedStorage, replay_buffer: ReplayBuffer, epochs: int):\r\n",
        "    network = storage.current_network\r\n",
        "    optimizer = storage.optimizer\r\n",
        "\r\n",
        "    for _ in range(epochs):\r\n",
        "        batch = replay_buffer.sample_batch(config.num_unroll_steps, config.td_steps)\r\n",
        "        update_weights(optimizer, network, batch)\r\n",
        "        storage.save_network(network.training_steps, network) # the trained network is saved in the shared storage"
      ],
      "execution_count": null,
      "outputs": []
    },
    {
      "cell_type": "markdown",
      "metadata": {
        "id": "oWig4x6KEKeF"
      },
      "source": [
        "## MuZero <a class=\"anchor\" id=\"muzero\"></a>"
      ]
    },
    {
      "cell_type": "markdown",
      "metadata": {
        "id": "_V83YW163zH_"
      },
      "source": [
        "Nous rappelons que l'algorithme MuZero est basé sur l'utilisation de trois composantes connectées, à savoir : une fonction de représentation, une fonction de dynamique ainsi qu'une fonction de prédiction. Ces trois fonctions sont entrainées de manière parallèle à l'intérieur du réseau.\r\n",
        "\r\n",
        "MuZero utilise un algorithme de recherche basé sur une méthode d'arbre de recherche de Monte-Carlo. Cette méthode permet la convergence de l'algorithme vers la politique optimale pour les jeux à un seul agent et vers la minimax value fonction pour les jeux à somme nulle.\r\n",
        "\r\n",
        "Pour décider d'une action, nous effectuons N parcours de MCTS, en commençant toujours par la racine de l'arbre de recherche et en le parcourant en maximisant le score UCB jusqu'à atteindre une feuille. Pour un noeud donné, le score est donné par sa valeur, avec éventuellement un bonus d'exploration basé sur le prior. Chacun des noeuds contient des informations remplies à partir des fonctions de valeur, de prediction et de reward obtenus à partir du réseau.\r\n",
        "\r\n",
        "A la base de l'arbre de recherche, nous utilisons la fonction de représentation pour obtenir un état caché compte tenu de l'observation actuelle du jeu. Nous appliquons la méthode de recherche d'arbre de Monte Carlo en utilisant uniquement des séquences d'actions et le modèle appris par le réseau. A l'intérieur de l'arbre de recherche nous utilisons la fonction de dynamique pour obtenir le prochain état caché avec l'action et le précédent état caché donnés.\r\n",
        "\r\n",
        "Cette recherche est effectuée à chaque étape t. Une action est échantillonée à partir de la politique de recherche, qui est proprotionnelle au nombre de visites de chaque action à partir de chaque noeud racine. L'environnement reçoit ensuite l'action et génère de nouvelles observations et une nouvelle reward. La trajectoire est ensuite stockée dans un `ReplayBuffer`."
      ]
    },
    {
      "cell_type": "code",
      "metadata": {
        "id": "Ee3LmNVPELsl"
      },
      "source": [
        "def muzero(config: MuZeroConfig):\r\n",
        "    \"\"\"\r\n",
        "    MuZero training is split into two independent parts: Network training and\r\n",
        "    self-play data generation.\r\n",
        "    These two parts only communicate by transferring the latest networks checkpoint\r\n",
        "    from the training to the self-play, and the finished games from the self-play\r\n",
        "    to the training.\r\n",
        "    In contrast to the original MuZero algorithm this version doesn't works with\r\n",
        "    multiple threads, therefore the training and self-play is done alternately.\r\n",
        "    \"\"\"\r\n",
        "    storage = SharedStorage(config.new_network(), config.uniform_network(), config.new_optimizer())\r\n",
        "    replay_buffer = ReplayBuffer(config)\r\n",
        "\r\n",
        "    train_score = []\r\n",
        "    eval_score = []\r\n",
        "\r\n",
        "    for loop in range(config.nb_training_loop):\r\n",
        "        print(\"Training loop\", loop)\r\n",
        "        score_train = run_selfplay(config, storage, replay_buffer, config.nb_episodes)\r\n",
        "        train_network(config, storage, replay_buffer, config.nb_epochs)\r\n",
        "        score_eval = run_eval(config, storage, config.nb_eval_episodes)\r\n",
        "\r\n",
        "        print(\"Train score:\", score_train)\r\n",
        "        print(\"Eval score:\", score_eval)  # par défaut on simule 50 parties pour l'évaluation\r\n",
        "        print(f\"MuZero played {config.nb_episodes * (loop + 1)} \"\r\n",
        "              f\"episodes and trained for {config.nb_epochs * (loop + 1)} epochs.\\n\")\r\n",
        "\r\n",
        "        train_score.append(score_train)\r\n",
        "        eval_score.append(score_eval)\r\n",
        "\r\n",
        "    return storage.latest_network(), train_score, eval_score"
      ],
      "execution_count": null,
      "outputs": []
    },
    {
      "cell_type": "markdown",
      "metadata": {
        "id": "VnJOkoPpAx3S"
      },
      "source": [
        "## Sauvegarde / Chargement d'un réseau entraîné <a class=\"anchor\" id=\"reseau_entraine\"></a>"
      ]
    },
    {
      "cell_type": "markdown",
      "metadata": {
        "id": "iOTP1Qv_BUHb"
      },
      "source": [
        "Cette section est un ajout par rapport au code présent sur le dépôt Git utilisé. Les deux fonctions suivantes permettent de sauvegarder et de recharger un réseau déjà entraîné. Ces fonctions sont adaptées pour une exécution sur Google Colab, ainsi la première cellule permet de se connecter au compte Google Drive choisi."
      ]
    },
    {
      "cell_type": "code",
      "metadata": {
        "id": "dCHrA-7AA3vT",
        "colab": {
          "base_uri": "https://localhost:8080/"
        },
        "outputId": "17e1cbf0-39df-4628-a463-c5eb192eec80"
      },
      "source": [
        "from google.colab import drive\r\n",
        "\r\n",
        "drive.mount('/content/gdrive/')"
      ],
      "execution_count": null,
      "outputs": [
        {
          "output_type": "stream",
          "text": [
            "Mounted at /content/gdrive/\n"
          ],
          "name": "stdout"
        }
      ]
    },
    {
      "cell_type": "markdown",
      "metadata": {
        "id": "2B4hmRBBBxIE"
      },
      "source": [
        "La fonction de sauvegarde prend en argument un réseau déjà entraîné et renvoyé lors de l'exécution de la fonction `muzero()`. Le deuxième argument est le dossier choisi pour la sauvegarde. A la fin de l'exécution on retrouvera quelques dossiers et un fichier pickle à l'intérieur du dossier choisi, ces différents éléments correspondant aux réseaux et leur paramètres."
      ]
    },
    {
      "cell_type": "code",
      "metadata": {
        "id": "46LNDUqx-OhJ"
      },
      "source": [
        "def save_network(network, directory):\r\n",
        "    myobject = '-'.join([str(x) for x in network.show_basic_attributes()])\r\n",
        "    with open(directory + '/RL_cartpole_network_basic_attributes.pkl', 'wb') as f:\r\n",
        "        pickle.dump(myobject, f)\r\n",
        "    \r\n",
        "    network.representation_network.save(directory + '/representation_network')\r\n",
        "    network.value_network.save(directory + '/value_network')\r\n",
        "    network.policy_network.save(directory + '/policy_network')\r\n",
        "    network.dynamic_network.save(directory + '/dynamic_network')\r\n",
        "    network.reward_network.save(directory + '/reward_network')\r\n",
        "\r\n",
        "    print(\"Network saved in \" + directory)"
      ],
      "execution_count": null,
      "outputs": []
    },
    {
      "cell_type": "markdown",
      "metadata": {
        "id": "lmjfa6WICPdL"
      },
      "source": [
        "La fonction de chargement d'un réseau prend en argument le dossier où les différents éléments du réseau ont été sauvegardés et renvoie un dictionnaire à passer dans l'argument `network_args` de la configuration."
      ]
    },
    {
      "cell_type": "code",
      "metadata": {
        "id": "23-ux-iS_zVe"
      },
      "source": [
        "def get_loaded_network_args(directory):\r\n",
        "    representation_network_file = directory + '/representation_network'\r\n",
        "    value_network_file = directory + '/value_network'\r\n",
        "    policy_network_file = directory + '/policy_network'\r\n",
        "    dynamic_network_file = directory + '/dynamic_network'\r\n",
        "    reward_network_file = directory + '/reward_network'\r\n",
        "\r\n",
        "    basic_attributes = pickle.load(open(directory + '/RL_cartpole_network_basic_attributes.pkl', 'rb')).split('-')\r\n",
        "\r\n",
        "    return {'action_size': int(basic_attributes[1]),\r\n",
        "            'state_size': int(basic_attributes[0]),\r\n",
        "            'representation_size': int(basic_attributes[2]),\r\n",
        "            'max_value': int(basic_attributes[3]),\r\n",
        "            'hidden_neurons': int(basic_attributes[4]),\r\n",
        "            'weight_decay': float(basic_attributes[5]),\r\n",
        "            'representation_activation': basic_attributes[6],\r\n",
        "            'loaded': True,\r\n",
        "            'representation_network_file': representation_network_file,\r\n",
        "            'value_network_file': value_network_file,\r\n",
        "            'policy_network_file': policy_network_file,\r\n",
        "            'dynamic_network_file': dynamic_network_file,\r\n",
        "            'reward_network_file': reward_network_file}"
      ],
      "execution_count": null,
      "outputs": []
    },
    {
      "cell_type": "markdown",
      "metadata": {
        "id": "4ivR-lzyp3U2"
      },
      "source": [
        "## Exécution de MuZero <a class=\"anchor\" id=\"exec_muzero\"></a>"
      ]
    },
    {
      "cell_type": "markdown",
      "metadata": {
        "id": "jYUiunJb2evf"
      },
      "source": [
        "### Execution pour CartPole <a class=\"anchor\" id=\"exec_cartpole\"></a>"
      ]
    },
    {
      "cell_type": "markdown",
      "metadata": {
        "id": "CKm8kSqJomnR"
      },
      "source": [
        "#### Entraînement from scratch <a class=\"anchor\" id=\"from_scratch\"></a>"
      ]
    },
    {
      "cell_type": "markdown",
      "metadata": {
        "id": "j3A3A59sCsE-"
      },
      "source": [
        "Entraînement d'un réseau from scratch et visualisation des différentes rewards obtenues pendant l'entraînement.\r\n",
        "Dans un premier temps on entraîne un réseau pour le jeu du CartPole from scratch pendant 15 boucles d'entraînement (au delà le temps d'entraînement devient extrêmement long). Il est important de noter que l'objectif de l'entraînement est d'obtenir l'Eval score le plus élevée possible, celui-ci correspondant à la moyenne des rewards obtenues par jeu sur les `nb_eval_episodes` parties effectuées pendant une phase d'évaluation.\r\n",
        "\r\n",
        "Dans un premier temps on définit une configuration adaptée à notre comportement avec tous les hyperparamètres introduits auparavant. Ensuite on exécute MuZero sur cette configuration en gardant le dernier réseau et les scores obtenus pendant les différentes boucles d'entraînement."
      ]
    },
    {
      "cell_type": "code",
      "metadata": {
        "id": "IIv4TTXGtG-T"
      },
      "source": [
        "# configuration pour 12 boucles d'entraînement\r\n",
        "def make_cartpole_config() -> MuZeroConfig:\r\n",
        "    def visit_softmax_temperature(num_moves, training_steps):\r\n",
        "        return 1.0\r\n",
        "\r\n",
        "    \"\"\"\r\n",
        "    Cette config peut être modifée pour ajuster le nombre d'épisodes \r\n",
        "    d'entraînement et d'évaluation ainsi que tous les autres hyperparamètres.\r\n",
        "    \"\"\"\r\n",
        "    return MuZeroConfig(\r\n",
        "        game=CartPole,\r\n",
        "        nb_training_loop=12,\r\n",
        "        nb_episodes=15,\r\n",
        "        nb_epochs=15,\r\n",
        "        nb_eval_episodes=20,\r\n",
        "        network_args={'action_size': 2,\r\n",
        "                      'state_size': 4,\r\n",
        "                      'representation_size': 4,\r\n",
        "                      'max_value': 500},\r\n",
        "        network=CartPoleNetwork,\r\n",
        "        action_space_size=2,\r\n",
        "        max_moves=1000,\r\n",
        "        discount=0.99,\r\n",
        "        dirichlet_alpha=0.25,\r\n",
        "        num_simulations=11,  # Odd number perform better in eval mode\r\n",
        "        batch_size=512,\r\n",
        "        td_steps=10,\r\n",
        "        visit_softmax_temperature_fn=visit_softmax_temperature,\r\n",
        "        lr=0.05)"
      ],
      "execution_count": null,
      "outputs": []
    },
    {
      "cell_type": "code",
      "metadata": {
        "colab": {
          "base_uri": "https://localhost:8080/"
        },
        "id": "aKnmU76yNC9K",
        "outputId": "774e8a7b-f4bd-4057-83dd-c06fb4eca52d"
      },
      "source": [
        "config = make_cartpole_config()\r\n",
        "muzero_last_network_cartpole, train_score_cartpole, eval_score_cartpole = muzero(config)"
      ],
      "execution_count": null,
      "outputs": [
        {
          "output_type": "stream",
          "text": [
            "Training loop 0\n",
            "Train score: 22.933333333333334\n",
            "Eval score: 9.4\n",
            "MuZero played 15 episodes and trained for 15 epochs.\n",
            "\n",
            "Training loop 1\n",
            "Train score: 19.133333333333333\n",
            "Eval score: 9.7\n",
            "MuZero played 30 episodes and trained for 30 epochs.\n",
            "\n",
            "Training loop 2\n",
            "Train score: 19.266666666666666\n",
            "Eval score: 9.5\n",
            "MuZero played 45 episodes and trained for 45 epochs.\n",
            "\n",
            "Training loop 3\n",
            "Train score: 18.266666666666666\n",
            "Eval score: 9.25\n",
            "MuZero played 60 episodes and trained for 60 epochs.\n",
            "\n",
            "Training loop 4\n",
            "Train score: 16.0\n",
            "Eval score: 13.35\n",
            "MuZero played 75 episodes and trained for 75 epochs.\n",
            "\n",
            "Training loop 5\n",
            "Train score: 21.6\n",
            "Eval score: 20.5\n",
            "MuZero played 90 episodes and trained for 90 epochs.\n",
            "\n",
            "Training loop 6\n",
            "Train score: 27.666666666666668\n",
            "Eval score: 85.65\n",
            "MuZero played 105 episodes and trained for 105 epochs.\n",
            "\n",
            "Training loop 7\n",
            "Train score: 39.333333333333336\n",
            "Eval score: 105.15\n",
            "MuZero played 120 episodes and trained for 120 epochs.\n",
            "\n",
            "Training loop 8\n",
            "Train score: 77.06666666666666\n",
            "Eval score: 21.6\n",
            "MuZero played 135 episodes and trained for 135 epochs.\n",
            "\n",
            "Training loop 9\n",
            "Train score: 27.533333333333335\n",
            "Eval score: 45.9\n",
            "MuZero played 150 episodes and trained for 150 epochs.\n",
            "\n",
            "Training loop 10\n",
            "Train score: 49.06666666666667\n",
            "Eval score: 92.5\n",
            "MuZero played 165 episodes and trained for 165 epochs.\n",
            "\n",
            "Training loop 11\n",
            "Train score: 82.33333333333333\n",
            "Eval score: 98.25\n",
            "MuZero played 180 episodes and trained for 180 epochs.\n",
            "\n"
          ],
          "name": "stdout"
        }
      ]
    },
    {
      "cell_type": "markdown",
      "metadata": {
        "id": "qe529np8ulbv"
      },
      "source": [
        "Une fois l'entraînement terminé on peut visualiser les scores de train et d'évaluation obtenus à chaque boucle d'entraînement."
      ]
    },
    {
      "cell_type": "code",
      "metadata": {
        "colab": {
          "base_uri": "https://localhost:8080/",
          "height": 312
        },
        "id": "aq_-AaK8NGxQ",
        "outputId": "3d54f57d-7095-4c5a-dba8-dff87c40e1ca"
      },
      "source": [
        "plt.plot(train_score_cartpole, label=\"Train score\")\r\n",
        "plt.plot(eval_score_cartpole, label=\"Eval score\")\r\n",
        "plt.title(\"Train and eval score for the CartPole game\")\r\n",
        "plt.xlabel(\"Training loop\")\r\n",
        "plt.ylabel(\"Score\")\r\n",
        "plt.legend()"
      ],
      "execution_count": null,
      "outputs": [
        {
          "output_type": "execute_result",
          "data": {
            "text/plain": [
              "<matplotlib.legend.Legend at 0x7f0616f54cc0>"
            ]
          },
          "metadata": {
            "tags": []
          },
          "execution_count": 44
        },
        {
          "output_type": "display_data",
          "data": {
            "image/png": "[encoded data removed]",
            "text/plain": [
              "<Figure size 432x288 with 1 Axes>"
            ]
          },
          "metadata": {
            "tags": [],
            "needs_background": "light"
          }
        }
      ]
    },
    {
      "cell_type": "markdown",
      "metadata": {
        "id": "XMmOYDs8uyGt"
      },
      "source": [
        "#### Exemple de sauvegarde et chargement du réseau obtenu <a class=\"anchor\" id=\"ex_save\"></a>"
      ]
    },
    {
      "cell_type": "markdown",
      "metadata": {
        "id": "Oye3Zyd1vhSe"
      },
      "source": [
        "##### Sauvegarde <a class=\"anchor\" id=\"sauvegarde\"></a>"
      ]
    },
    {
      "cell_type": "code",
      "metadata": {
        "colab": {
          "base_uri": "https://localhost:8080/"
        },
        "id": "D3dqJcYyNdXh",
        "outputId": "2d2ba08c-dbc3-44c4-af1d-9d3a8866fa6e"
      },
      "source": [
        "# sauvegarde du réseau\r\n",
        "save_network(muzero_last_network_cartpole, '/content/gdrive/My Drive/RL/cartpole_12loops')"
      ],
      "execution_count": null,
      "outputs": [
        {
          "output_type": "stream",
          "text": [
            "INFO:tensorflow:Assets written to: /content/gdrive/My Drive/RL/cartpole_15loops/representation_network/assets\n",
            "INFO:tensorflow:Assets written to: /content/gdrive/My Drive/RL/cartpole_15loops/value_network/assets\n",
            "INFO:tensorflow:Assets written to: /content/gdrive/My Drive/RL/cartpole_15loops/policy_network/assets\n",
            "INFO:tensorflow:Assets written to: /content/gdrive/My Drive/RL/cartpole_15loops/dynamic_network/assets\n",
            "INFO:tensorflow:Assets written to: /content/gdrive/My Drive/RL/cartpole_15loops/reward_network/assets\n",
            "Network saved in /content/gdrive/My Drive/RL/cartpole_15loops\n"
          ],
          "name": "stdout"
        }
      ]
    },
    {
      "cell_type": "markdown",
      "metadata": {
        "id": "rrbb8tZevT40"
      },
      "source": [
        "Ici on sauvegarde aussi les différents scores obtenus pendant l'entraînement."
      ]
    },
    {
      "cell_type": "code",
      "metadata": {
        "id": "UIjhUMEQOQwO"
      },
      "source": [
        "myobject_train = '-'.join([str(x) for x in train_score_cartpole])\r\n",
        "myobject_eval = '-'.join([str(x) for x in eval_score_cartpole])\r\n",
        "\r\n",
        "with open('/content/gdrive/My Drive/RL/cartpole_12loops/train_score.pkl', 'wb') as f:\r\n",
        "    pickle.dump(myobject_train, f)\r\n",
        "with open('/content/gdrive/My Drive/RL/cartpole_12loops/eval_score.pkl', 'wb') as f:\r\n",
        "    pickle.dump(myobject_eval, f)"
      ],
      "execution_count": null,
      "outputs": []
    },
    {
      "cell_type": "markdown",
      "metadata": {
        "id": "C0O_9yLOG0do"
      },
      "source": [
        "##### Chargement <a class=\"anchor\" id=\"chargement\"></a>"
      ]
    },
    {
      "cell_type": "markdown",
      "metadata": {
        "id": "XlPmSBGLwB0J"
      },
      "source": [
        "Comme la fonction de chargement renvoie un dictionnaire à passer dans l'argument `network_args` d'une configuration on récupère dans un premier temps ce dictionnaire et on définit une configuration correspondant à notre réseau qui pourra ensuite être réutilisée."
      ]
    },
    {
      "cell_type": "code",
      "metadata": {
        "id": "fxGwrCc1wR5L"
      },
      "source": [
        "network_args_cartpole_12loops = get_loaded_network_args('/content/gdrive/My Drive/RL/cartpole_12loops')"
      ],
      "execution_count": null,
      "outputs": []
    },
    {
      "cell_type": "code",
      "metadata": {
        "id": "vvF5-WRyoZz6"
      },
      "source": [
        "def make_cartpole_config_loaded() -> MuZeroConfig:\r\n",
        "    def visit_softmax_temperature(num_moves, training_steps):\r\n",
        "        return 1.0\r\n",
        "\r\n",
        "    \"\"\"\r\n",
        "    Cette config peut être modifée pour ajuster le nombre d'épisodes \r\n",
        "    d'entraînement et d'évaluation ainsi que tous les autres hyperparamètres.\r\n",
        "    \"\"\"\r\n",
        "    return MuZeroConfig(\r\n",
        "        game=CartPole,\r\n",
        "        nb_training_loop=2,\r\n",
        "        nb_episodes=15,\r\n",
        "        nb_epochs=15,\r\n",
        "        nb_eval_episodes=20,\r\n",
        "        network_args=network_args_cartpole_12loops, # on passe en argument le réseau obtenu ici\r\n",
        "        network=CartPoleNetwork,\r\n",
        "        action_space_size=2,\r\n",
        "        max_moves=1000,\r\n",
        "        discount=0.99,\r\n",
        "        dirichlet_alpha=0.25,\r\n",
        "        num_simulations=11,  # Odd number perform better in eval mode\r\n",
        "        batch_size=512,\r\n",
        "        td_steps=10,\r\n",
        "        visit_softmax_temperature_fn=visit_softmax_temperature,\r\n",
        "        lr=0.05)"
      ],
      "execution_count": null,
      "outputs": []
    },
    {
      "cell_type": "markdown",
      "metadata": {
        "id": "tKwhT7-AH4Pl"
      },
      "source": [
        "#### Résultats pour plusieurs entraînements <a class=\"anchor\" id=\"resultats\"></a>"
      ]
    },
    {
      "cell_type": "markdown",
      "metadata": {
        "id": "wfWl89RmMtYF"
      },
      "source": [
        "Voici un graphe présentant les scores de train et d'évaluation obtenus pour 3 entraînement comportant 12 boucles d'entraînement chacun."
      ]
    },
    {
      "cell_type": "code",
      "metadata": {
        "id": "x1F--VFuH_0A"
      },
      "source": [
        "train_scores_cartpole = np.array([[22.93, 19.13, 19.27, 18.27, 16, 21.6, 27.67, 39.33, 77.07, 27.53, 49.07, 82.33],\r\n",
        "                         [22.13, 14.53, 26.4, 18.73, 18.2, 14.87, 10.67, 32.33, 38, 40.87, 49.07, 85.2],\r\n",
        "                         [19.27, 18.73, 16.8, 19.47, 20.8, 18.13, 20.67, 13.87, 17.07, 82.07, 60.13, 110.27]])\r\n",
        "\r\n",
        "eval_scores_cartpole = np.array([[9.4, 9.7, 9.5, 9.25, 13.35, 20.5, 85.65, 105.15, 21.6, 45.9, 92.5, 98.25],\r\n",
        "                                 [9.55, 9.1, 8.95, 9.15, 9.6, 52.8, 43.65, 29.55, 43.25, 90, 95.7, 207.95],\r\n",
        "                                 [9.4, 9.35, 40.6, 9.4, 9.05, 9.35, 9.2, 34.3, 125.05, 56.85, 76.8, 122.8]])"
      ],
      "execution_count": null,
      "outputs": []
    },
    {
      "cell_type": "code",
      "metadata": {
        "colab": {
          "base_uri": "https://localhost:8080/",
          "height": 458
        },
        "id": "w7ktcv72JX3T",
        "outputId": "ec1951ee-5d80-429c-aa29-58d7fe83f12e"
      },
      "source": [
        "plt.figure(figsize=(15,7))\r\n",
        "plt.plot(np.mean(train_scores_cartpole, axis=0), label=\"Train score\")\r\n",
        "plt.plot(np.mean(eval_scores_cartpole, axis=0), label=\"Eval score\")\r\n",
        "plt.title(\"Mean of train and eval scores for the CartPole game for 3 executions\")\r\n",
        "plt.xlabel(\"Training loop\")\r\n",
        "plt.ylabel(\"Score\")\r\n",
        "plt.legend()\r\n",
        "plt.show()"
      ],
      "execution_count": null,
      "outputs": [
        {
          "output_type": "display_data",
          "data": {
            "image/png": "[encoded data removed]",
            "text/plain": [
              "<Figure size 1080x504 with 1 Axes>"
            ]
          },
          "metadata": {
            "tags": [],
            "needs_background": "light"
          }
        }
      ]
    },
    {
      "cell_type": "markdown",
      "metadata": {
        "id": "eOXmXeIWKAmc"
      },
      "source": [
        "Le score d'entraînement et le score d'évaluation obtenus sont la moyenne des récompenses obtenues pour chaque partie de CartPole en mode train ou en mode évaluation. Pour le jeu du CartPole chaque tour réussi entraîne une récompense de +1 et le jeu s'arrête lorsque la barre tombe. Par exemple pour une partie durant 70 tours et pour laquelle la barre tombe au 71ème tour, la récompense totale obtenue sera de +70.\r\n",
        "\r\n",
        "Au cours d'une boucle d'entraînement, le score d'entraînement est obtenu au début grâce aux parties réalisées avec le dernier réseau sauvegardé de la dernière boucle avec de l'exploration dans les MCTS (i.e. avec un bruit de Dirichlet à la racine de ceux-ci). Le score d'évaluation est quant à lui obtenu avec le réseau obtenu à la fin des epochs de la boucle et sans exploration dans les MCTS. Sur ce graphe on observe la moyenne des scores obtenus pour 3 entraînements de MuZero sur le jeu du CartPole afin de vraiment pouvoir observer une tendance plutôt que les particularités d'un seul entraînement.\r\n",
        "\r\n",
        "De manière globale les scores d'évaluation et de train augmentent ce qui montre que l'algorithme apprend. Le train score est constant autour de 20 pendant les 6 premières boucles d'entraînement puis augmente de plus en plus vite pour atteindre 100 après 12 boucles d'entraînement. Différement, l'eval score est presque constant autour de 10 pendant les 4 premières boucles puis augmente ensuite de plus en plus rapidement pour atteindre 140 après 12 boucles d'entraînement. \r\n",
        "\r\n",
        "L'eval score étant obtenu avec un réseau ultérieur donc plus entraîné que celui utilisé pour le train score on pouvait s'attendre à une courbe orange globalement au dessus de la bleue. Cependant, on constate que ceci est faux pour les 4-5 premières boucles d'entraînement. Cela peut s'expliquer en mode évaluation l'algorithme ne fait que de l'exploitation et plus d'exploration, il aurait donc tendance à se focaliser sur des politiques cupides et donc non optimales lorsque le réseau est peu entraîné. A l'inverse, si l'exploration avantage le train score pour les 4-5 premières boucles celle-ci elle ne permet pas de trouver de politque optimale pour la suite de l'entraînement et l'eval score est donc plus élevé.\r\n",
        "\r\n",
        "Il est important de noter que nous n'avons réalisé que 12 boucles d'entraînement afin de pouvoir fournir un graphe moyenné sur plusieurs entraînements. En effet, au delà le temps de calcul devient vraiment long (plus la boucle d'entraînement est avancée et plus le temps d'exécution d'une boucle est long)."
      ]
    },
    {
      "cell_type": "markdown",
      "metadata": {
        "id": "44FCq2icGvOH"
      },
      "source": [
        "### Exécution pour Acrobot <a class=\"anchor\" id=\"exec_acrobot\"></a>"
      ]
    },
    {
      "cell_type": "markdown",
      "metadata": {
        "id": "qNK5retEJZnS"
      },
      "source": [
        "Cette configuration correspond au jeu Acrobot et contient quelques différence par rapport à celle du CartPole. En effet on constate que les valeurs des différentes clés du paramètre `network_args` sont différentes pour s'adapter à la dimension des observations et les actions.\r\n",
        "\r\n",
        "Malheureusement nous n'avons pas réussi à faire fonctionner l'implémentation pour ce jeu très probablement à cause de la possibilité d'une reward négative. L'algorithme a bloqué plusieurs fois pour le calcul de la loss en essayant de calculer la réciproque de la fonction $h$ de la value (qui peut être négative). Pour palier à ce phénomène nous avons tenté d'ajouter des valeurs absolues et des facteurs de signe, des valeurs absolues seules, ou même d'ajouter 1 à la reward mais l'algorithme ne s'entraîne pas (tous les scores nuls et le maximum de mouvements d'un jeu ateint à chaque fois). Nous avons préféré laissé ce que nous avions fait pour ce jeu afin de garder toutes les traces de nos essais d'ajout de jeu."
      ]
    },
    {
      "cell_type": "code",
      "metadata": {
        "id": "y72g9RhZm08n"
      },
      "source": [
        "def make_acrobot_config() -> MuZeroConfig:\r\n",
        "    def visit_softmax_temperature(num_moves, training_steps):\r\n",
        "        return 1.0\r\n",
        "\r\n",
        "    \"\"\"\r\n",
        "    Cette config peut être modifée pour ajuster le nombre d'épisodes \r\n",
        "    d'entraînement et d'évaluation ainsi que tous les autres hyperparamètres.\r\n",
        "    \"\"\"\r\n",
        "    return MuZeroConfig(\r\n",
        "        game=Acrobot,\r\n",
        "        nb_training_loop=10,\r\n",
        "        nb_episodes=15,\r\n",
        "        nb_epochs=15,\r\n",
        "        nb_eval_episodes=20,\r\n",
        "        network_args={'action_size': 3,\r\n",
        "                      'state_size': 6,\r\n",
        "                      'representation_size': 6,\r\n",
        "                      'max_value': 500},\r\n",
        "        network=AcrobotNetwork,\r\n",
        "        action_space_size=3,\r\n",
        "        max_moves=500,\r\n",
        "        discount=0.99,\r\n",
        "        dirichlet_alpha=0.25,\r\n",
        "        num_simulations=11,  # Odd number perform better in eval mode\r\n",
        "        batch_size=512,\r\n",
        "        td_steps=10,\r\n",
        "        visit_softmax_temperature_fn=visit_softmax_temperature,\r\n",
        "        lr=0.05)"
      ],
      "execution_count": null,
      "outputs": []
    },
    {
      "cell_type": "code",
      "metadata": {
        "colab": {
          "base_uri": "https://localhost:8080/",
          "height": 357
        },
        "id": "ctErMiKFm0vV",
        "outputId": "aee098c2-a1bb-4861-a5bd-861a6067727e"
      },
      "source": [
        "config_acrobot = make_acrobot_config()\r\n",
        "muzero_last_network_acrobot = muzero(config_acrobot)"
      ],
      "execution_count": null,
      "outputs": [
        {
          "output_type": "stream",
          "text": [
            "Training loop 0\n"
          ],
          "name": "stdout"
        },
        {
          "output_type": "error",
          "ename": "KeyboardInterrupt",
          "evalue": "ignored",
          "traceback": [
            "\u001b[0;31m---------------------------------------------------------------------------\u001b[0m",
            "\u001b[0;31mKeyboardInterrupt\u001b[0m                         Traceback (most recent call last)",
            "\u001b[0;32m<ipython-input-298-e1d8a4afc50d>\u001b[0m in \u001b[0;36m<module>\u001b[0;34m()\u001b[0m\n\u001b[1;32m      1\u001b[0m \u001b[0mconfig_acrobot\u001b[0m \u001b[0;34m=\u001b[0m \u001b[0mmake_acrobot_config\u001b[0m\u001b[0;34m(\u001b[0m\u001b[0;34m)\u001b[0m\u001b[0;34m\u001b[0m\u001b[0;34m\u001b[0m\u001b[0m\n\u001b[0;32m----> 2\u001b[0;31m \u001b[0mmuzero_last_network_acrobot\u001b[0m \u001b[0;34m=\u001b[0m \u001b[0mmuzero\u001b[0m\u001b[0;34m(\u001b[0m\u001b[0mconfig_acrobot\u001b[0m\u001b[0;34m)\u001b[0m\u001b[0;34m\u001b[0m\u001b[0;34m\u001b[0m\u001b[0m\n\u001b[0m",
            "\u001b[0;32m<ipython-input-293-3f730f24239a>\u001b[0m in \u001b[0;36mmuzero\u001b[0;34m(config)\u001b[0m\n\u001b[1;32m     19\u001b[0m         \u001b[0mscore_train\u001b[0m \u001b[0;34m=\u001b[0m \u001b[0mrun_selfplay\u001b[0m\u001b[0;34m(\u001b[0m\u001b[0mconfig\u001b[0m\u001b[0;34m,\u001b[0m \u001b[0mstorage\u001b[0m\u001b[0;34m,\u001b[0m \u001b[0mreplay_buffer\u001b[0m\u001b[0;34m,\u001b[0m \u001b[0mconfig\u001b[0m\u001b[0;34m.\u001b[0m\u001b[0mnb_episodes\u001b[0m\u001b[0;34m)\u001b[0m\u001b[0;34m\u001b[0m\u001b[0;34m\u001b[0m\u001b[0m\n\u001b[1;32m     20\u001b[0m         \u001b[0mtrain_network\u001b[0m\u001b[0;34m(\u001b[0m\u001b[0mconfig\u001b[0m\u001b[0;34m,\u001b[0m \u001b[0mstorage\u001b[0m\u001b[0;34m,\u001b[0m \u001b[0mreplay_buffer\u001b[0m\u001b[0;34m,\u001b[0m \u001b[0mconfig\u001b[0m\u001b[0;34m.\u001b[0m\u001b[0mnb_epochs\u001b[0m\u001b[0;34m)\u001b[0m\u001b[0;34m\u001b[0m\u001b[0;34m\u001b[0m\u001b[0m\n\u001b[0;32m---> 21\u001b[0;31m         \u001b[0mscore_eval\u001b[0m \u001b[0;34m=\u001b[0m \u001b[0mrun_eval\u001b[0m\u001b[0;34m(\u001b[0m\u001b[0mconfig\u001b[0m\u001b[0;34m,\u001b[0m \u001b[0mstorage\u001b[0m\u001b[0;34m,\u001b[0m \u001b[0mconfig\u001b[0m\u001b[0;34m.\u001b[0m\u001b[0mnb_eval_episodes\u001b[0m\u001b[0;34m)\u001b[0m\u001b[0;34m\u001b[0m\u001b[0;34m\u001b[0m\u001b[0m\n\u001b[0m\u001b[1;32m     22\u001b[0m \u001b[0;34m\u001b[0m\u001b[0m\n\u001b[1;32m     23\u001b[0m         \u001b[0mprint\u001b[0m\u001b[0;34m(\u001b[0m\u001b[0;34m\"Train score:\"\u001b[0m\u001b[0;34m,\u001b[0m \u001b[0mscore_train\u001b[0m\u001b[0;34m)\u001b[0m\u001b[0;34m\u001b[0m\u001b[0;34m\u001b[0m\u001b[0m\n",
            "\u001b[0;32m<ipython-input-292-213ed3e571c2>\u001b[0m in \u001b[0;36mrun_eval\u001b[0;34m(config, storage, eval_episodes)\u001b[0m\n\u001b[1;32m      4\u001b[0m     \u001b[0mreturns\u001b[0m \u001b[0;34m=\u001b[0m \u001b[0;34m[\u001b[0m\u001b[0;34m]\u001b[0m\u001b[0;34m\u001b[0m\u001b[0;34m\u001b[0m\u001b[0m\n\u001b[1;32m      5\u001b[0m     \u001b[0;32mfor\u001b[0m \u001b[0m_\u001b[0m \u001b[0;32min\u001b[0m \u001b[0mrange\u001b[0m\u001b[0;34m(\u001b[0m\u001b[0meval_episodes\u001b[0m\u001b[0;34m)\u001b[0m\u001b[0;34m:\u001b[0m\u001b[0;34m\u001b[0m\u001b[0;34m\u001b[0m\u001b[0m\n\u001b[0;32m----> 6\u001b[0;31m         \u001b[0mgame\u001b[0m \u001b[0;34m=\u001b[0m \u001b[0mplay_game\u001b[0m\u001b[0;34m(\u001b[0m\u001b[0mconfig\u001b[0m\u001b[0;34m,\u001b[0m \u001b[0mnetwork\u001b[0m\u001b[0;34m,\u001b[0m \u001b[0mtrain\u001b[0m\u001b[0;34m=\u001b[0m\u001b[0;32mFalse\u001b[0m\u001b[0;34m)\u001b[0m\u001b[0;34m\u001b[0m\u001b[0;34m\u001b[0m\u001b[0m\n\u001b[0m\u001b[1;32m      7\u001b[0m         \u001b[0mreturns\u001b[0m\u001b[0;34m.\u001b[0m\u001b[0mappend\u001b[0m\u001b[0;34m(\u001b[0m\u001b[0msum\u001b[0m\u001b[0;34m(\u001b[0m\u001b[0mgame\u001b[0m\u001b[0;34m.\u001b[0m\u001b[0mrewards\u001b[0m\u001b[0;34m)\u001b[0m\u001b[0;34m)\u001b[0m\u001b[0;34m\u001b[0m\u001b[0;34m\u001b[0m\u001b[0m\n\u001b[1;32m      8\u001b[0m     \u001b[0;32mreturn\u001b[0m \u001b[0msum\u001b[0m\u001b[0;34m(\u001b[0m\u001b[0mreturns\u001b[0m\u001b[0;34m)\u001b[0m \u001b[0;34m/\u001b[0m \u001b[0meval_episodes\u001b[0m \u001b[0;32mif\u001b[0m \u001b[0meval_episodes\u001b[0m \u001b[0;32melse\u001b[0m \u001b[0;36m0\u001b[0m\u001b[0;34m\u001b[0m\u001b[0;34m\u001b[0m\u001b[0m\n",
            "\u001b[0;32m<ipython-input-290-54461acb7af1>\u001b[0m in \u001b[0;36mplay_game\u001b[0;34m(config, network, train)\u001b[0m\n\u001b[1;32m     19\u001b[0m         \u001b[0;31m# We then run a Monte Carlo Tree Search using only action sequences and the\u001b[0m\u001b[0;34m\u001b[0m\u001b[0;34m\u001b[0m\u001b[0;34m\u001b[0m\u001b[0m\n\u001b[1;32m     20\u001b[0m         \u001b[0;31m# model learned by the networks.\u001b[0m\u001b[0;34m\u001b[0m\u001b[0;34m\u001b[0m\u001b[0;34m\u001b[0m\u001b[0m\n\u001b[0;32m---> 21\u001b[0;31m         \u001b[0mrun_mcts\u001b[0m\u001b[0;34m(\u001b[0m\u001b[0mconfig\u001b[0m\u001b[0;34m,\u001b[0m \u001b[0mroot\u001b[0m\u001b[0;34m,\u001b[0m \u001b[0mgame\u001b[0m\u001b[0;34m.\u001b[0m\u001b[0maction_history\u001b[0m\u001b[0;34m(\u001b[0m\u001b[0;34m)\u001b[0m\u001b[0;34m,\u001b[0m \u001b[0mnetwork\u001b[0m\u001b[0;34m)\u001b[0m\u001b[0;34m\u001b[0m\u001b[0;34m\u001b[0m\u001b[0m\n\u001b[0m\u001b[1;32m     22\u001b[0m         \u001b[0maction\u001b[0m \u001b[0;34m=\u001b[0m \u001b[0mselect_action\u001b[0m\u001b[0;34m(\u001b[0m\u001b[0mconfig\u001b[0m\u001b[0;34m,\u001b[0m \u001b[0mlen\u001b[0m\u001b[0;34m(\u001b[0m\u001b[0mgame\u001b[0m\u001b[0;34m.\u001b[0m\u001b[0mhistory\u001b[0m\u001b[0;34m)\u001b[0m\u001b[0;34m,\u001b[0m \u001b[0mroot\u001b[0m\u001b[0;34m,\u001b[0m \u001b[0mnetwork\u001b[0m\u001b[0;34m,\u001b[0m \u001b[0mmode\u001b[0m\u001b[0;34m=\u001b[0m\u001b[0mmode_action_select\u001b[0m\u001b[0;34m)\u001b[0m\u001b[0;34m\u001b[0m\u001b[0;34m\u001b[0m\u001b[0m\n\u001b[1;32m     23\u001b[0m         \u001b[0mgame\u001b[0m\u001b[0;34m.\u001b[0m\u001b[0mapply\u001b[0m\u001b[0;34m(\u001b[0m\u001b[0maction\u001b[0m\u001b[0;34m)\u001b[0m\u001b[0;34m\u001b[0m\u001b[0;34m\u001b[0m\u001b[0m\n",
            "\u001b[0;32m<ipython-input-288-b353c202570e>\u001b[0m in \u001b[0;36mrun_mcts\u001b[0;34m(config, root, action_history, network)\u001b[0m\n\u001b[1;32m     21\u001b[0m         \u001b[0;31m# hidden state given an action and the previous hidden state.\u001b[0m\u001b[0;34m\u001b[0m\u001b[0;34m\u001b[0m\u001b[0;34m\u001b[0m\u001b[0m\n\u001b[1;32m     22\u001b[0m         \u001b[0mparent\u001b[0m \u001b[0;34m=\u001b[0m \u001b[0msearch_path\u001b[0m\u001b[0;34m[\u001b[0m\u001b[0;34m-\u001b[0m\u001b[0;36m2\u001b[0m\u001b[0;34m]\u001b[0m\u001b[0;34m\u001b[0m\u001b[0;34m\u001b[0m\u001b[0m\n\u001b[0;32m---> 23\u001b[0;31m         \u001b[0mnetwork_output\u001b[0m \u001b[0;34m=\u001b[0m \u001b[0mnetwork\u001b[0m\u001b[0;34m.\u001b[0m\u001b[0mrecurrent_inference\u001b[0m\u001b[0;34m(\u001b[0m\u001b[0mparent\u001b[0m\u001b[0;34m.\u001b[0m\u001b[0mhidden_state\u001b[0m\u001b[0;34m,\u001b[0m \u001b[0mhistory\u001b[0m\u001b[0;34m.\u001b[0m\u001b[0mlast_action\u001b[0m\u001b[0;34m(\u001b[0m\u001b[0;34m)\u001b[0m\u001b[0;34m)\u001b[0m\u001b[0;34m\u001b[0m\u001b[0;34m\u001b[0m\u001b[0m\n\u001b[0m\u001b[1;32m     24\u001b[0m         \u001b[0mexpand_node\u001b[0m\u001b[0;34m(\u001b[0m\u001b[0mnode\u001b[0m\u001b[0;34m,\u001b[0m \u001b[0mhistory\u001b[0m\u001b[0;34m.\u001b[0m\u001b[0mto_play\u001b[0m\u001b[0;34m(\u001b[0m\u001b[0;34m)\u001b[0m\u001b[0;34m,\u001b[0m \u001b[0mhistory\u001b[0m\u001b[0;34m.\u001b[0m\u001b[0maction_space\u001b[0m\u001b[0;34m(\u001b[0m\u001b[0;34m)\u001b[0m\u001b[0;34m,\u001b[0m \u001b[0mnetwork_output\u001b[0m\u001b[0;34m)\u001b[0m\u001b[0;34m\u001b[0m\u001b[0;34m\u001b[0m\u001b[0m\n\u001b[1;32m     25\u001b[0m \u001b[0;34m\u001b[0m\u001b[0m\n",
            "\u001b[0;32m<ipython-input-271-aa4fc4bec949>\u001b[0m in \u001b[0;36mrecurrent_inference\u001b[0;34m(self, hidden_state, action)\u001b[0m\n\u001b[1;32m     30\u001b[0m \u001b[0;34m\u001b[0m\u001b[0m\n\u001b[1;32m     31\u001b[0m         \u001b[0mconditioned_hidden\u001b[0m \u001b[0;34m=\u001b[0m \u001b[0mself\u001b[0m\u001b[0;34m.\u001b[0m\u001b[0m_conditioned_hidden_state\u001b[0m\u001b[0;34m(\u001b[0m\u001b[0mhidden_state\u001b[0m\u001b[0;34m,\u001b[0m \u001b[0maction\u001b[0m\u001b[0;34m)\u001b[0m\u001b[0;34m\u001b[0m\u001b[0;34m\u001b[0m\u001b[0m\n\u001b[0;32m---> 32\u001b[0;31m         \u001b[0mhidden_representation\u001b[0m\u001b[0;34m,\u001b[0m \u001b[0mreward\u001b[0m\u001b[0;34m,\u001b[0m \u001b[0mvalue\u001b[0m\u001b[0;34m,\u001b[0m \u001b[0mpolicy_logits\u001b[0m \u001b[0;34m=\u001b[0m \u001b[0mself\u001b[0m\u001b[0;34m.\u001b[0m\u001b[0mrecurrent_model\u001b[0m\u001b[0;34m.\u001b[0m\u001b[0mpredict\u001b[0m\u001b[0;34m(\u001b[0m\u001b[0mconditioned_hidden\u001b[0m\u001b[0;34m)\u001b[0m\u001b[0;34m\u001b[0m\u001b[0;34m\u001b[0m\u001b[0m\n\u001b[0m\u001b[1;32m     33\u001b[0m         output = NetworkOutput(value=self._value_transform(value),\n\u001b[1;32m     34\u001b[0m                                \u001b[0mreward\u001b[0m\u001b[0;34m=\u001b[0m\u001b[0mself\u001b[0m\u001b[0;34m.\u001b[0m\u001b[0m_reward_transform\u001b[0m\u001b[0;34m(\u001b[0m\u001b[0mreward\u001b[0m\u001b[0;34m)\u001b[0m\u001b[0;34m,\u001b[0m\u001b[0;34m\u001b[0m\u001b[0;34m\u001b[0m\u001b[0m\n",
            "\u001b[0;32m/usr/local/lib/python3.6/dist-packages/tensorflow/python/keras/engine/training.py\u001b[0m in \u001b[0;36mpredict\u001b[0;34m(self, x, batch_size, verbose, steps, callbacks, max_queue_size, workers, use_multiprocessing)\u001b[0m\n\u001b[1;32m   1606\u001b[0m           \u001b[0muse_multiprocessing\u001b[0m\u001b[0;34m=\u001b[0m\u001b[0muse_multiprocessing\u001b[0m\u001b[0;34m,\u001b[0m\u001b[0;34m\u001b[0m\u001b[0;34m\u001b[0m\u001b[0m\n\u001b[1;32m   1607\u001b[0m           \u001b[0mmodel\u001b[0m\u001b[0;34m=\u001b[0m\u001b[0mself\u001b[0m\u001b[0;34m,\u001b[0m\u001b[0;34m\u001b[0m\u001b[0;34m\u001b[0m\u001b[0m\n\u001b[0;32m-> 1608\u001b[0;31m           steps_per_execution=self._steps_per_execution)\n\u001b[0m\u001b[1;32m   1609\u001b[0m \u001b[0;34m\u001b[0m\u001b[0m\n\u001b[1;32m   1610\u001b[0m       \u001b[0;31m# Container that configures and calls `tf.keras.Callback`s.\u001b[0m\u001b[0;34m\u001b[0m\u001b[0;34m\u001b[0m\u001b[0;34m\u001b[0m\u001b[0m\n",
            "\u001b[0;32m/usr/local/lib/python3.6/dist-packages/tensorflow/python/keras/engine/data_adapter.py\u001b[0m in \u001b[0;36m__init__\u001b[0;34m(self, x, y, sample_weight, batch_size, steps_per_epoch, initial_epoch, epochs, shuffle, class_weight, max_queue_size, workers, use_multiprocessing, model, steps_per_execution)\u001b[0m\n\u001b[1;32m   1110\u001b[0m         \u001b[0muse_multiprocessing\u001b[0m\u001b[0;34m=\u001b[0m\u001b[0muse_multiprocessing\u001b[0m\u001b[0;34m,\u001b[0m\u001b[0;34m\u001b[0m\u001b[0;34m\u001b[0m\u001b[0m\n\u001b[1;32m   1111\u001b[0m         \u001b[0mdistribution_strategy\u001b[0m\u001b[0;34m=\u001b[0m\u001b[0mds_context\u001b[0m\u001b[0;34m.\u001b[0m\u001b[0mget_strategy\u001b[0m\u001b[0;34m(\u001b[0m\u001b[0;34m)\u001b[0m\u001b[0;34m,\u001b[0m\u001b[0;34m\u001b[0m\u001b[0;34m\u001b[0m\u001b[0m\n\u001b[0;32m-> 1112\u001b[0;31m         model=model)\n\u001b[0m\u001b[1;32m   1113\u001b[0m \u001b[0;34m\u001b[0m\u001b[0m\n\u001b[1;32m   1114\u001b[0m     \u001b[0mstrategy\u001b[0m \u001b[0;34m=\u001b[0m \u001b[0mds_context\u001b[0m\u001b[0;34m.\u001b[0m\u001b[0mget_strategy\u001b[0m\u001b[0;34m(\u001b[0m\u001b[0;34m)\u001b[0m\u001b[0;34m\u001b[0m\u001b[0;34m\u001b[0m\u001b[0m\n",
            "\u001b[0;32m/usr/local/lib/python3.6/dist-packages/tensorflow/python/keras/engine/data_adapter.py\u001b[0m in \u001b[0;36m__init__\u001b[0;34m(self, x, y, sample_weights, sample_weight_modes, batch_size, epochs, steps, shuffle, **kwargs)\u001b[0m\n\u001b[1;32m    317\u001b[0m     \u001b[0;31m# trigger the next permutation. On the other hand, too many simultaneous\u001b[0m\u001b[0;34m\u001b[0m\u001b[0;34m\u001b[0m\u001b[0;34m\u001b[0m\u001b[0m\n\u001b[1;32m    318\u001b[0m     \u001b[0;31m# shuffles can contend on a hardware level and degrade all performance.\u001b[0m\u001b[0;34m\u001b[0m\u001b[0;34m\u001b[0m\u001b[0;34m\u001b[0m\u001b[0m\n\u001b[0;32m--> 319\u001b[0;31m     \u001b[0mindices_dataset\u001b[0m \u001b[0;34m=\u001b[0m \u001b[0mindices_dataset\u001b[0m\u001b[0;34m.\u001b[0m\u001b[0mmap\u001b[0m\u001b[0;34m(\u001b[0m\u001b[0mpermutation\u001b[0m\u001b[0;34m)\u001b[0m\u001b[0;34m.\u001b[0m\u001b[0mprefetch\u001b[0m\u001b[0;34m(\u001b[0m\u001b[0;36m1\u001b[0m\u001b[0;34m)\u001b[0m\u001b[0;34m\u001b[0m\u001b[0;34m\u001b[0m\u001b[0m\n\u001b[0m\u001b[1;32m    320\u001b[0m \u001b[0;34m\u001b[0m\u001b[0m\n\u001b[1;32m    321\u001b[0m     \u001b[0;32mdef\u001b[0m \u001b[0mslice_batch_indices\u001b[0m\u001b[0;34m(\u001b[0m\u001b[0mindices\u001b[0m\u001b[0;34m)\u001b[0m\u001b[0;34m:\u001b[0m\u001b[0;34m\u001b[0m\u001b[0;34m\u001b[0m\u001b[0m\n",
            "\u001b[0;32m/usr/local/lib/python3.6/dist-packages/tensorflow/python/data/ops/dataset_ops.py\u001b[0m in \u001b[0;36mmap\u001b[0;34m(self, map_func, num_parallel_calls, deterministic)\u001b[0m\n\u001b[1;32m   1803\u001b[0m     \"\"\"\n\u001b[1;32m   1804\u001b[0m     \u001b[0;32mif\u001b[0m \u001b[0mnum_parallel_calls\u001b[0m \u001b[0;32mis\u001b[0m \u001b[0;32mNone\u001b[0m\u001b[0;34m:\u001b[0m\u001b[0;34m\u001b[0m\u001b[0;34m\u001b[0m\u001b[0m\n\u001b[0;32m-> 1805\u001b[0;31m       \u001b[0;32mreturn\u001b[0m \u001b[0mMapDataset\u001b[0m\u001b[0;34m(\u001b[0m\u001b[0mself\u001b[0m\u001b[0;34m,\u001b[0m \u001b[0mmap_func\u001b[0m\u001b[0;34m,\u001b[0m \u001b[0mpreserve_cardinality\u001b[0m\u001b[0;34m=\u001b[0m\u001b[0;32mTrue\u001b[0m\u001b[0;34m)\u001b[0m\u001b[0;34m\u001b[0m\u001b[0;34m\u001b[0m\u001b[0m\n\u001b[0m\u001b[1;32m   1806\u001b[0m     \u001b[0;32melse\u001b[0m\u001b[0;34m:\u001b[0m\u001b[0;34m\u001b[0m\u001b[0;34m\u001b[0m\u001b[0m\n\u001b[1;32m   1807\u001b[0m       return ParallelMapDataset(\n",
            "\u001b[0;32m/usr/local/lib/python3.6/dist-packages/tensorflow/python/data/ops/dataset_ops.py\u001b[0m in \u001b[0;36m__init__\u001b[0;34m(self, input_dataset, map_func, use_inter_op_parallelism, preserve_cardinality, use_legacy_function)\u001b[0m\n\u001b[1;32m   4205\u001b[0m         \u001b[0mself\u001b[0m\u001b[0;34m.\u001b[0m\u001b[0m_transformation_name\u001b[0m\u001b[0;34m(\u001b[0m\u001b[0;34m)\u001b[0m\u001b[0;34m,\u001b[0m\u001b[0;34m\u001b[0m\u001b[0;34m\u001b[0m\u001b[0m\n\u001b[1;32m   4206\u001b[0m         \u001b[0mdataset\u001b[0m\u001b[0;34m=\u001b[0m\u001b[0minput_dataset\u001b[0m\u001b[0;34m,\u001b[0m\u001b[0;34m\u001b[0m\u001b[0;34m\u001b[0m\u001b[0m\n\u001b[0;32m-> 4207\u001b[0;31m         use_legacy_function=use_legacy_function)\n\u001b[0m\u001b[1;32m   4208\u001b[0m     variant_tensor = gen_dataset_ops.map_dataset(\n\u001b[1;32m   4209\u001b[0m         \u001b[0minput_dataset\u001b[0m\u001b[0;34m.\u001b[0m\u001b[0m_variant_tensor\u001b[0m\u001b[0;34m,\u001b[0m  \u001b[0;31m# pylint: disable=protected-access\u001b[0m\u001b[0;34m\u001b[0m\u001b[0;34m\u001b[0m\u001b[0m\n",
            "\u001b[0;32m/usr/local/lib/python3.6/dist-packages/tensorflow/python/data/ops/dataset_ops.py\u001b[0m in \u001b[0;36m__init__\u001b[0;34m(self, func, transformation_name, dataset, input_classes, input_shapes, input_types, input_structure, add_to_graph, use_legacy_function, defun_kwargs)\u001b[0m\n\u001b[1;32m   3523\u001b[0m       \u001b[0;32mwith\u001b[0m \u001b[0mtracking\u001b[0m\u001b[0;34m.\u001b[0m\u001b[0mresource_tracker_scope\u001b[0m\u001b[0;34m(\u001b[0m\u001b[0mresource_tracker\u001b[0m\u001b[0;34m)\u001b[0m\u001b[0;34m:\u001b[0m\u001b[0;34m\u001b[0m\u001b[0;34m\u001b[0m\u001b[0m\n\u001b[1;32m   3524\u001b[0m         \u001b[0;31m# TODO(b/141462134): Switch to using garbage collection.\u001b[0m\u001b[0;34m\u001b[0m\u001b[0;34m\u001b[0m\u001b[0;34m\u001b[0m\u001b[0m\n\u001b[0;32m-> 3525\u001b[0;31m         \u001b[0mself\u001b[0m\u001b[0;34m.\u001b[0m\u001b[0m_function\u001b[0m \u001b[0;34m=\u001b[0m \u001b[0mwrapper_fn\u001b[0m\u001b[0;34m.\u001b[0m\u001b[0mget_concrete_function\u001b[0m\u001b[0;34m(\u001b[0m\u001b[0;34m)\u001b[0m\u001b[0;34m\u001b[0m\u001b[0;34m\u001b[0m\u001b[0m\n\u001b[0m\u001b[1;32m   3526\u001b[0m         \u001b[0;32mif\u001b[0m \u001b[0madd_to_graph\u001b[0m\u001b[0;34m:\u001b[0m\u001b[0;34m\u001b[0m\u001b[0;34m\u001b[0m\u001b[0m\n\u001b[1;32m   3527\u001b[0m           \u001b[0mself\u001b[0m\u001b[0;34m.\u001b[0m\u001b[0m_function\u001b[0m\u001b[0;34m.\u001b[0m\u001b[0madd_to_graph\u001b[0m\u001b[0;34m(\u001b[0m\u001b[0mops\u001b[0m\u001b[0;34m.\u001b[0m\u001b[0mget_default_graph\u001b[0m\u001b[0;34m(\u001b[0m\u001b[0;34m)\u001b[0m\u001b[0;34m)\u001b[0m\u001b[0;34m\u001b[0m\u001b[0;34m\u001b[0m\u001b[0m\n",
            "\u001b[0;32m/usr/local/lib/python3.6/dist-packages/tensorflow/python/eager/function.py\u001b[0m in \u001b[0;36mget_concrete_function\u001b[0;34m(self, *args, **kwargs)\u001b[0m\n\u001b[1;32m   3050\u001b[0m     \"\"\"\n\u001b[1;32m   3051\u001b[0m     graph_function = self._get_concrete_function_garbage_collected(\n\u001b[0;32m-> 3052\u001b[0;31m         *args, **kwargs)\n\u001b[0m\u001b[1;32m   3053\u001b[0m     \u001b[0mgraph_function\u001b[0m\u001b[0;34m.\u001b[0m\u001b[0m_garbage_collector\u001b[0m\u001b[0;34m.\u001b[0m\u001b[0mrelease\u001b[0m\u001b[0;34m(\u001b[0m\u001b[0;34m)\u001b[0m  \u001b[0;31m# pylint: disable=protected-access\u001b[0m\u001b[0;34m\u001b[0m\u001b[0;34m\u001b[0m\u001b[0m\n\u001b[1;32m   3054\u001b[0m     \u001b[0;32mreturn\u001b[0m \u001b[0mgraph_function\u001b[0m\u001b[0;34m\u001b[0m\u001b[0;34m\u001b[0m\u001b[0m\n",
            "\u001b[0;32m/usr/local/lib/python3.6/dist-packages/tensorflow/python/eager/function.py\u001b[0m in \u001b[0;36m_get_concrete_function_garbage_collected\u001b[0;34m(self, *args, **kwargs)\u001b[0m\n\u001b[1;32m   3017\u001b[0m       \u001b[0margs\u001b[0m\u001b[0;34m,\u001b[0m \u001b[0mkwargs\u001b[0m \u001b[0;34m=\u001b[0m \u001b[0;32mNone\u001b[0m\u001b[0;34m,\u001b[0m \u001b[0;32mNone\u001b[0m\u001b[0;34m\u001b[0m\u001b[0;34m\u001b[0m\u001b[0m\n\u001b[1;32m   3018\u001b[0m     \u001b[0;32mwith\u001b[0m \u001b[0mself\u001b[0m\u001b[0;34m.\u001b[0m\u001b[0m_lock\u001b[0m\u001b[0;34m:\u001b[0m\u001b[0;34m\u001b[0m\u001b[0;34m\u001b[0m\u001b[0m\n\u001b[0;32m-> 3019\u001b[0;31m       \u001b[0mgraph_function\u001b[0m\u001b[0;34m,\u001b[0m \u001b[0m_\u001b[0m \u001b[0;34m=\u001b[0m \u001b[0mself\u001b[0m\u001b[0;34m.\u001b[0m\u001b[0m_maybe_define_function\u001b[0m\u001b[0;34m(\u001b[0m\u001b[0margs\u001b[0m\u001b[0;34m,\u001b[0m \u001b[0mkwargs\u001b[0m\u001b[0;34m)\u001b[0m\u001b[0;34m\u001b[0m\u001b[0;34m\u001b[0m\u001b[0m\n\u001b[0m\u001b[1;32m   3020\u001b[0m       \u001b[0mseen_names\u001b[0m \u001b[0;34m=\u001b[0m \u001b[0mset\u001b[0m\u001b[0;34m(\u001b[0m\u001b[0;34m)\u001b[0m\u001b[0;34m\u001b[0m\u001b[0;34m\u001b[0m\u001b[0m\n\u001b[1;32m   3021\u001b[0m       captured = object_identity.ObjectIdentitySet(\n",
            "\u001b[0;32m/usr/local/lib/python3.6/dist-packages/tensorflow/python/eager/function.py\u001b[0m in \u001b[0;36m_maybe_define_function\u001b[0;34m(self, args, kwargs)\u001b[0m\n\u001b[1;32m   3359\u001b[0m \u001b[0;34m\u001b[0m\u001b[0m\n\u001b[1;32m   3360\u001b[0m           \u001b[0mself\u001b[0m\u001b[0;34m.\u001b[0m\u001b[0m_function_cache\u001b[0m\u001b[0;34m.\u001b[0m\u001b[0mmissed\u001b[0m\u001b[0;34m.\u001b[0m\u001b[0madd\u001b[0m\u001b[0;34m(\u001b[0m\u001b[0mcall_context_key\u001b[0m\u001b[0;34m)\u001b[0m\u001b[0;34m\u001b[0m\u001b[0;34m\u001b[0m\u001b[0m\n\u001b[0;32m-> 3361\u001b[0;31m           \u001b[0mgraph_function\u001b[0m \u001b[0;34m=\u001b[0m \u001b[0mself\u001b[0m\u001b[0;34m.\u001b[0m\u001b[0m_create_graph_function\u001b[0m\u001b[0;34m(\u001b[0m\u001b[0margs\u001b[0m\u001b[0;34m,\u001b[0m \u001b[0mkwargs\u001b[0m\u001b[0;34m)\u001b[0m\u001b[0;34m\u001b[0m\u001b[0;34m\u001b[0m\u001b[0m\n\u001b[0m\u001b[1;32m   3362\u001b[0m           \u001b[0mself\u001b[0m\u001b[0;34m.\u001b[0m\u001b[0m_function_cache\u001b[0m\u001b[0;34m.\u001b[0m\u001b[0mprimary\u001b[0m\u001b[0;34m[\u001b[0m\u001b[0mcache_key\u001b[0m\u001b[0;34m]\u001b[0m \u001b[0;34m=\u001b[0m \u001b[0mgraph_function\u001b[0m\u001b[0;34m\u001b[0m\u001b[0;34m\u001b[0m\u001b[0m\n\u001b[1;32m   3363\u001b[0m \u001b[0;34m\u001b[0m\u001b[0m\n",
            "\u001b[0;32m/usr/local/lib/python3.6/dist-packages/tensorflow/python/eager/function.py\u001b[0m in \u001b[0;36m_create_graph_function\u001b[0;34m(self, args, kwargs, override_flat_arg_shapes)\u001b[0m\n\u001b[1;32m   3204\u001b[0m             \u001b[0marg_names\u001b[0m\u001b[0;34m=\u001b[0m\u001b[0marg_names\u001b[0m\u001b[0;34m,\u001b[0m\u001b[0;34m\u001b[0m\u001b[0;34m\u001b[0m\u001b[0m\n\u001b[1;32m   3205\u001b[0m             \u001b[0moverride_flat_arg_shapes\u001b[0m\u001b[0;34m=\u001b[0m\u001b[0moverride_flat_arg_shapes\u001b[0m\u001b[0;34m,\u001b[0m\u001b[0;34m\u001b[0m\u001b[0;34m\u001b[0m\u001b[0m\n\u001b[0;32m-> 3206\u001b[0;31m             capture_by_value=self._capture_by_value),\n\u001b[0m\u001b[1;32m   3207\u001b[0m         \u001b[0mself\u001b[0m\u001b[0;34m.\u001b[0m\u001b[0m_function_attributes\u001b[0m\u001b[0;34m,\u001b[0m\u001b[0;34m\u001b[0m\u001b[0;34m\u001b[0m\u001b[0m\n\u001b[1;32m   3208\u001b[0m         \u001b[0mfunction_spec\u001b[0m\u001b[0;34m=\u001b[0m\u001b[0mself\u001b[0m\u001b[0;34m.\u001b[0m\u001b[0mfunction_spec\u001b[0m\u001b[0;34m,\u001b[0m\u001b[0;34m\u001b[0m\u001b[0;34m\u001b[0m\u001b[0m\n",
            "\u001b[0;32m/usr/local/lib/python3.6/dist-packages/tensorflow/python/framework/func_graph.py\u001b[0m in \u001b[0;36mfunc_graph_from_py_func\u001b[0;34m(name, python_func, args, kwargs, signature, func_graph, autograph, autograph_options, add_control_dependencies, arg_names, op_return_value, collections, capture_by_value, override_flat_arg_shapes)\u001b[0m\n\u001b[1;32m   1029\u001b[0m         if x is not None)\n\u001b[1;32m   1030\u001b[0m \u001b[0;34m\u001b[0m\u001b[0m\n\u001b[0;32m-> 1031\u001b[0;31m     \u001b[0mfunc_graph\u001b[0m\u001b[0;34m.\u001b[0m\u001b[0mvariables\u001b[0m \u001b[0;34m=\u001b[0m \u001b[0mvariables\u001b[0m\u001b[0;34m\u001b[0m\u001b[0;34m\u001b[0m\u001b[0m\n\u001b[0m\u001b[1;32m   1032\u001b[0m \u001b[0;34m\u001b[0m\u001b[0m\n\u001b[1;32m   1033\u001b[0m   \u001b[0;32mif\u001b[0m \u001b[0madd_control_dependencies\u001b[0m\u001b[0;34m:\u001b[0m\u001b[0;34m\u001b[0m\u001b[0;34m\u001b[0m\u001b[0m\n",
            "\u001b[0;32m/usr/local/lib/python3.6/dist-packages/tensorflow/python/framework/auto_control_deps.py\u001b[0m in \u001b[0;36m__exit__\u001b[0;34m(self, unused_type, unused_value, unused_traceback)\u001b[0m\n\u001b[1;32m    379\u001b[0m       \u001b[0;31m# the function since that goes through a tf.identity in mark_as_return.\u001b[0m\u001b[0;34m\u001b[0m\u001b[0;34m\u001b[0m\u001b[0;34m\u001b[0m\u001b[0m\n\u001b[1;32m    380\u001b[0m       if (op_def_registry.get(op.type) is None or\n\u001b[0;32m--> 381\u001b[0;31m           (op_is_stateful(op) and\n\u001b[0m\u001b[1;32m    382\u001b[0m            (op.type not in utils.RESOURCE_READ_OPS or\n\u001b[1;32m    383\u001b[0m             any(output.consumers() for output in op.outputs)))):\n",
            "\u001b[0;31mKeyboardInterrupt\u001b[0m: "
          ]
        }
      ]
    }
  ]
}